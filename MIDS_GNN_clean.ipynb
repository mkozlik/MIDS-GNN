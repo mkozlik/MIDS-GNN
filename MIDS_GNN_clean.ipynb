{
  "nbformat": 4,
  "nbformat_minor": 0,
  "metadata": {
    "colab": {
      "provenance": [],
      "authorship_tag": "ABX9TyM868s8KTweFRZylpF2Pcz4"
    },
    "kernelspec": {
      "name": "python3",
      "display_name": "Python 3"
    },
    "language_info": {
      "name": "python"
    }
  },
  "cells": [
    {
      "cell_type": "markdown",
      "source": [
        "Install packages and mount google drive"
      ],
      "metadata": {
        "id": "8J8yE5_XswuN"
      }
    },
    {
      "cell_type": "code",
      "execution_count": 2,
      "metadata": {
        "colab": {
          "base_uri": "https://localhost:8080/"
        },
        "id": "rzsRazYTsldP",
        "outputId": "f93d90be-47d7-41b0-efa4-b8ffd22e1bb7"
      },
      "outputs": [
        {
          "output_type": "stream",
          "name": "stdout",
          "text": [
            "2.2.1+cu121\n",
            "  Installing build dependencies ... \u001b[?25l\u001b[?25hdone\n",
            "  Getting requirements to build wheel ... \u001b[?25l\u001b[?25hdone\n",
            "  Preparing metadata (pyproject.toml) ... \u001b[?25l\u001b[?25hdone\n",
            "Drive already mounted at /content/drive; to attempt to forcibly remount, call drive.mount(\"/content/drive\", force_remount=True).\n"
          ]
        }
      ],
      "source": [
        "# Install required packages.\n",
        "import os\n",
        "import torch\n",
        "os.environ['TORCH'] = torch.__version__\n",
        "print(torch.__version__)\n",
        "\n",
        "!pip install -q torch-scatter -f https://data.pyg.org/whl/torch-${TORCH}.html\n",
        "!pip install -q torch-sparse -f https://data.pyg.org/whl/torch-${TORCH}.html\n",
        "!pip install -q git+https://github.com/pyg-team/pytorch_geometric.git\n",
        "\n",
        "from google.colab import drive\n",
        "\n",
        "drive.mount('/content/drive')\n",
        "\n",
        "os.chdir('/content/drive/My Drive/MIDS-GNN')"
      ]
    },
    {
      "cell_type": "markdown",
      "source": [
        "Remove processed data if needed"
      ],
      "metadata": {
        "id": "hVrcX5W4s5pw"
      }
    },
    {
      "cell_type": "code",
      "source": [
        "!rm -rf Dataset/processed/"
      ],
      "metadata": {
        "id": "7bP61YKks-ds"
      },
      "execution_count": null,
      "outputs": []
    },
    {
      "cell_type": "markdown",
      "source": [
        "Initialize dataset"
      ],
      "metadata": {
        "id": "RdYsYt_0tR9o"
      }
    },
    {
      "cell_type": "code",
      "source": [
        "import random\n",
        "from pathlib import Path\n",
        "\n",
        "import matplotlib\n",
        "import networkx as nx\n",
        "import torch\n",
        "import torch_geometric.utils as pygUtils\n",
        "import Utilities.utils as utils\n",
        "import yaml\n",
        "from matplotlib import pyplot as plt\n",
        "from torch_geometric.data import InMemoryDataset, download_url, extract_zip\n",
        "from tqdm import tqdm\n",
        "import random\n",
        "\n",
        "class MIDSdataset(InMemoryDataset):\n",
        "    def __init__(self, root, transform=None, pre_transform=None, pre_filter=None, **kwargs):\n",
        "        self.raw_included_subdirs = kwargs.get(\"raw_included_subdirs\", None)\n",
        "\n",
        "        super().__init__(root, transform, pre_transform, pre_filter)\n",
        "\n",
        "        self.data, self.slices = torch.load(self.processed_paths[0])\n",
        "\n",
        "    @property\n",
        "    def raw_file_names(self):\n",
        "        \"\"\"\n",
        "        Return a list of all raw files in the dataset.\n",
        "\n",
        "        This method has two jobs. The returned list with raw files is compared\n",
        "        with the files currently in raw directory. Files that are missing are\n",
        "        automatically downloaded using download method. The second job is to\n",
        "        return the list of raw file names that will be used in the process\n",
        "        method.\n",
        "        \"\"\"\n",
        "        raw_dir = Path(self.raw_dir)\n",
        "        raw_files = []\n",
        "        with open(raw_dir.parent / \"file_list.yaml\", \"r\") as file:\n",
        "            raw_dir_structure = yaml.safe_load(file)\n",
        "            for subdir in raw_dir_structure:\n",
        "                if self.raw_included_subdirs is None or subdir in self.raw_included_subdirs:\n",
        "                    raw_files.extend([f\"{subdir}/{filename}\" for filename in raw_dir_structure[subdir]])\n",
        "\n",
        "        return raw_files\n",
        "\n",
        "    @property\n",
        "    def processed_file_names(self):\n",
        "        \"\"\"\n",
        "        Return a list of all processed files in the dataset.\n",
        "\n",
        "        If a processed file is missing, it will be automatically created using\n",
        "        the process method.\n",
        "\n",
        "        That means that if you want to reprocess the data, you need to delete\n",
        "        the processed files and reimport the dataset.\n",
        "        \"\"\"\n",
        "        # TODO: Automatically detect changes in the dataset.\n",
        "        #       We could come up with a namig scheme that will differentiate\n",
        "        #       which graph families (and/or sizes) and features were used to\n",
        "        #       generate the dataset. This way, we could detect changes and\n",
        "        #       reprocess the dataset when needed.\n",
        "        return [\"data.pt\"]\n",
        "\n",
        "    def download(self):\n",
        "        \"\"\"Automatically download raw files if missing.\"\"\"\n",
        "        # TODO: Should check and download only missing files.\n",
        "\n",
        "        zip_file = Path(self.root) / \"raw_data.zip\"\n",
        "\n",
        "        # Delete the exising zip file.\n",
        "        zip_file.unlink(missing_ok=True)\n",
        "\n",
        "        # Download the raw files using the helper function.\n",
        "        download_url(raw_download_url, self.root, filename=\"raw_data.zip\")\n",
        "\n",
        "        # Unzip the downloaded files.\n",
        "        extract_zip(str(zip_file.resolve()), self.raw_dir)\n",
        "\n",
        "    def process(self):\n",
        "        \"\"\"Process the raw files into a graph dataset.\"\"\"\n",
        "        # Read data into huge `Data` list.\n",
        "        data_list = []\n",
        "        with tqdm(total=len(self.raw_file_names)) as pbar:\n",
        "            for graph_file in self.raw_file_names:\n",
        "                data = self.make_data(Path(self.raw_dir) / graph_file)\n",
        "                if data:\n",
        "                    data_list.extend(data)\n",
        "                pbar.update(1)\n",
        "\n",
        "        if self.pre_filter is not None:\n",
        "            data_list = [data for data in data_list if self.pre_filter(data)]\n",
        "\n",
        "        if self.pre_transform is not None:\n",
        "            data_list = [self.pre_transform(data) for data in data_list]\n",
        "\n",
        "        data, slices = self.collate(data_list)\n",
        "        torch.save((data, slices), self.processed_paths[0])\n",
        "\n",
        "    def make_data(self, graph_file):\n",
        "        \"\"\"Create a PyG data object from a graph file.\"\"\"\n",
        "        G = nx.read_edgelist(graph_file, nodetype=int)\n",
        "\n",
        "        # Define features in use.\n",
        "        feature_functions = {\n",
        "            \"degree\": G.degree,\n",
        "            \"degree_centrality\": nx.degree_centrality(G),\n",
        "            \"betweenness_centrality\": nx.betweenness_centrality(G),\n",
        "            #\"avg_neighbor_degree\": nx.average_neighbor_degree(G),\n",
        "            #\"number_of_cliques\": nx.number_of_cliques(G), # mozda kompleksno\n",
        "        }\n",
        "\n",
        "        # Compute and add features to the nodes in the graph.\n",
        "        #print(\" \")\n",
        "        #print(nx.voterank(G))\n",
        "        for node in G.nodes():\n",
        "            for feature in feature_functions:\n",
        "                #print(f'feature: {feature}')\n",
        "                #print(f'node: {node}')\n",
        "                #print(feature_functions[feature][node])\n",
        "                G.nodes[node][feature] = feature_functions[feature][node]\n",
        "\n",
        "        # for node in G.nodes():\n",
        "        #     G.nodes[node][\"degree\"] = G.degree(node)\n",
        "\n",
        "        # degree_cent = nx.degree_centrality(G)\n",
        "        # for node in G.nodes():\n",
        "        #     G.nodes[node][\"degree_centrality\"] = degree_cent[node]\n",
        "\n",
        "        # between_cent = nx.betweenness_centrality(G)\n",
        "        # for node in G.nodes():\n",
        "        #     G.nodes[node][\"betweenness_centrality\"] = between_cent[node]\n",
        "\n",
        "        torch_G = pygUtils.from_networkx(G, group_node_attrs=list(feature_functions.keys()))\n",
        "        true_labels = MIDSdataset.get_labels(utils.find_MIDS(G), G.number_of_nodes())\n",
        "        data = []\n",
        "        #if len(true_labels) == 1:\n",
        "        #    data.append(torch_G.clone())\n",
        "        #    data[-1].y = true_labels[0]\n",
        "        #    return data\n",
        "        #else:\n",
        "        #    return 0\n",
        "        for labels in true_labels:\n",
        "            data.append(torch_G.clone())\n",
        "            data[-1].y = labels\n",
        "\n",
        "        return [data[0]]\n",
        "\n",
        "    @staticmethod\n",
        "    def get_labels(mids, num_nodes):\n",
        "        # Encode found cliques as support vectors.\n",
        "        for i, nodes in enumerate(mids):\n",
        "            mids[i] = torch.zeros(num_nodes)\n",
        "            mids[i][nodes] = 1\n",
        "\n",
        "        return mids\n",
        "\n",
        "    @staticmethod\n",
        "    def visualize_data(data):\n",
        "        G = pygUtils.to_networkx(data, to_undirected=True)\n",
        "        nx.draw(G, with_labels=True, node_color=data.y, cmap=matplotlib.colormaps[\"bwr\"])\n",
        "        plt.show()"
      ],
      "metadata": {
        "id": "FVwBG8ExtRiy"
      },
      "execution_count": 3,
      "outputs": []
    },
    {
      "cell_type": "markdown",
      "source": [
        "Load dataset"
      ],
      "metadata": {
        "id": "QZ1L4gykthXN"
      }
    },
    {
      "cell_type": "code",
      "source": [
        "from pathlib import Path\n",
        "root = Path.cwd() / \"Dataset\"\n",
        "raw_included_subdirs = None\n",
        "\n",
        "dataset = MIDSdataset(root, raw_included_subdirs=raw_included_subdirs)\n",
        "\n",
        "print()\n",
        "print(f\"Dataset: {dataset}:\")\n",
        "print(\"====================\")\n",
        "print(f\"Number of graphs: {len(dataset)}\")\n",
        "print(f\"Number of features: {dataset.num_features}\")\n",
        "print(f\"Number of classes: {dataset.num_classes}\")"
      ],
      "metadata": {
        "colab": {
          "base_uri": "https://localhost:8080/"
        },
        "id": "USVP6QoBtju6",
        "outputId": "650e1ae4-38da-4d05-922d-b6a06dc858d6"
      },
      "execution_count": 4,
      "outputs": [
        {
          "output_type": "stream",
          "name": "stdout",
          "text": [
            "\n",
            "Dataset: MIDSdataset(3171):\n",
            "====================\n",
            "Number of graphs: 3171\n",
            "Number of features: 7\n",
            "Number of classes: 2\n"
          ]
        }
      ]
    },
    {
      "cell_type": "markdown",
      "source": [
        "Check MIDS function for testing"
      ],
      "metadata": {
        "id": "nLgB2y3IyRr5"
      }
    },
    {
      "cell_type": "code",
      "source": [
        "def check_MIDS(A, candidate, target_value):\n",
        "    \"\"\"\n",
        "    Args:\n",
        "        - A: adjacency matrix\n",
        "        - candidate: node labels that are candidate for MIDS (data.y)\n",
        "        - target_value: known size of the MIDS\n",
        "    \"\"\"\n",
        "    # TODO: This function needs to be adjusted.\n",
        "    #   - Instead of adjacency matrix, we may pass the edgelist and convert it here\n",
        "\n",
        "    n = len(candidate)\n",
        "\n",
        "    # Candidate set is not minimal\n",
        "    if sum(candidate) > target_value:\n",
        "        return False\n",
        "\n",
        "    # Candidate set is not dominating and independent\n",
        "    if not all((A + np.eye(n)) @ candidate == 1):\n",
        "        return False\n",
        "\n",
        "    if sum(candidate) < target_value:\n",
        "        print(\"Somehow we found an even smaller MIDS.\")\n",
        "\n",
        "    return True"
      ],
      "metadata": {
        "id": "GAGlFYN4yPeL"
      },
      "execution_count": 5,
      "outputs": []
    },
    {
      "cell_type": "markdown",
      "source": [
        "Define GNN structure"
      ],
      "metadata": {
        "id": "P-WNHT2PtuEO"
      }
    },
    {
      "cell_type": "code",
      "source": [
        "import os.path as osp\n",
        "import time\n",
        "\n",
        "import torch\n",
        "import torch.nn.functional as F\n",
        "from sklearn.metrics import f1_score\n",
        "\n",
        "from torch_geometric.datasets import PPI\n",
        "from torch_geometric.loader import DataLoader\n",
        "from torch_geometric.nn import GATConv\n",
        "\n",
        "torch.manual_seed(12345)\n",
        "dataset = dataset.shuffle()\n",
        "\n",
        "# split dataset into train and test\n",
        "train_dataset = dataset[:3000]\n",
        "test_dataset = dataset[3000:3171]\n",
        "\n",
        "train_loader = DataLoader(train_dataset, batch_size=128, shuffle=True)\n",
        "test_loader = DataLoader(test_dataset, batch_size=128, shuffle=False)\n",
        "\n",
        "\n",
        "class Net(torch.nn.Module):\n",
        "    def __init__(self):\n",
        "        super().__init__()\n",
        "        self.conv1 = GATConv(train_dataset.num_features, 256, heads=4)\n",
        "        self.lin1 = torch.nn.Linear(train_dataset.num_features, 4 * 256)\n",
        "        self.conv2 = GATConv(4 * 256, 256, heads=4)\n",
        "        self.lin2 = torch.nn.Linear(4 * 256, 4 * 256)\n",
        "        self.conv3 = GATConv(4 * 256, train_dataset.num_classes, heads=6,\n",
        "                             concat=False)\n",
        "        self.lin3 = torch.nn.Linear(4 * 256, train_dataset.num_classes)\n",
        "\n",
        "    def forward(self, x, edge_index):\n",
        "        x = F.elu(self.conv1(x, edge_index) + self.lin1(x))\n",
        "        x = F.elu(self.conv2(x, edge_index) + self.lin2(x))\n",
        "        x = self.conv3(x, edge_index) + self.lin3(x)\n",
        "        return x"
      ],
      "metadata": {
        "id": "OqyebxRztxHT"
      },
      "execution_count": 6,
      "outputs": []
    },
    {
      "cell_type": "markdown",
      "source": [
        "Train a model"
      ],
      "metadata": {
        "id": "awfSuqHJt3Nm"
      }
    },
    {
      "cell_type": "code",
      "source": [
        "import numpy as np\n",
        "\n",
        "# Play an audio beep. Any audio URL will do.\n",
        "from google.colab import output\n",
        "output.eval_js('new Audio(\"https://upload.wikimedia.org/wikipedia/commons/0/05/Beep-09.ogg\").play()')\n",
        "\n",
        "device = torch.device('cuda' if torch.cuda.is_available() else 'cpu')\n",
        "print(device)\n",
        "model = Net().to(device)\n",
        "optimizer = torch.optim.Adam(model.parameters(), lr=0.001)\n",
        "loss_op = torch.nn.CrossEntropyLoss()\n",
        "\n",
        "\n",
        "def train():\n",
        "    model.train()\n",
        "\n",
        "    total_loss = 0\n",
        "    for i, data in enumerate(train_loader):\n",
        "        data = data.to(device)\n",
        "\n",
        "        optimizer.zero_grad()\n",
        "        pred = model(data.x, data.edge_index)\n",
        "        real = data.y.type(torch.LongTensor)\n",
        "        loss = loss_op(pred, real)\n",
        "\n",
        "        total_loss += loss.item() * data.num_graphs\n",
        "        loss.backward()\n",
        "        optimizer.step()\n",
        "\n",
        "    return total_loss / len(train_loader.dataset)\n",
        "\n",
        "\n",
        "@torch.no_grad()\n",
        "def test(loader):\n",
        "    model.eval()\n",
        "\n",
        "    correct = 0\n",
        "    correct_checkMIDS = 0\n",
        "    for i, data in enumerate(loader):\n",
        "        for idx in range(data.num_graphs):\n",
        "          out = model(data.get_example(idx).x.to(device), data.get_example(idx).edge_index.to(device))\n",
        "          pred = out.argmax(dim=1)\n",
        "\n",
        "          correct += int(torch.equal(pred,data.get_example(idx).y.type(torch.LongTensor)))  # Derive ratio of correct predictions.\n",
        "\n",
        "          #num_nodes = data.get_example(idx).x.size(0)\n",
        "          #adjacency = torch.sparse_coo_tensor(data['edge_index'], torch.ones(data['edge_index'].size(1)), (num_nodes, num_nodes))\n",
        "          #adjacency_dense = adjacency.to_dense()\n",
        "          #correct_checkMIDS += check_MIDS(adjacency_dense, pred.type(torch.DoubleTensor), len(data.y))\n",
        "\n",
        "    return [correct, correct_checkMIDS]/len(loader.dataset)*100\n",
        "\n",
        "\n",
        "times = []\n",
        "losses = []\n",
        "trains = []\n",
        "tests = []\n",
        "\n",
        "for epoch in range(1, 201):\n",
        "    start = time.time()\n",
        "\n",
        "    loss = train()\n",
        "    losses.append(loss)\n",
        "\n",
        "    train_f1 = test(train_loader)\n",
        "    trains.append(train_f1)\n",
        "\n",
        "    test_f1 = test(test_loader)\n",
        "    tests.append(test_f1)\n",
        "\n",
        "    print(f'Epoch: {epoch:03d}, Loss: {loss:.4f}, Train: {train_f1:.4f}% '\n",
        "          f'Test: {test_f1:.4f}%, Time: {(time.time() - start)/60:.2f} min')\n",
        "    times.append(time.time() - start)\n",
        "print(f\"Median time per epoch: {torch.tensor(times).median():.4f}s\")\n",
        "output.eval_js('new Audio(\"https://upload.wikimedia.org/wikipedia/commons/0/05/Beep-09.ogg\").play()')"
      ],
      "metadata": {
        "id": "ttsmINo4t7rB"
      },
      "execution_count": null,
      "outputs": []
    },
    {
      "cell_type": "markdown",
      "source": [
        "Plot loss and train and test accuracy"
      ],
      "metadata": {
        "id": "0zqfSuWwuEmQ"
      }
    },
    {
      "cell_type": "code",
      "source": [
        "import matplotlib.pyplot as pp\n",
        "pp.plot(losses)\n",
        "pp.show()"
      ],
      "metadata": {
        "colab": {
          "base_uri": "https://localhost:8080/",
          "height": 430
        },
        "id": "30OqhJAduMvo",
        "outputId": "00e9279f-6eeb-4828-b93c-e55571e1178f"
      },
      "execution_count": 8,
      "outputs": [
        {
          "output_type": "display_data",
          "data": {
            "text/plain": [
              "<Figure size 640x480 with 1 Axes>"
            ],
            "image/png": "[encoded data removed]"
          },
          "metadata": {}
        }
      ]
    },
    {
      "cell_type": "code",
      "source": [
        "pp.plot(trains)\n",
        "pp.show()"
      ],
      "metadata": {
        "colab": {
          "base_uri": "https://localhost:8080/",
          "height": 430
        },
        "id": "03bjo1QIuNRt",
        "outputId": "19f350cb-63a5-409b-9b94-00fda4df421e"
      },
      "execution_count": 9,
      "outputs": [
        {
          "output_type": "display_data",
          "data": {
            "text/plain": [
              "<Figure size 640x480 with 1 Axes>"
            ],
            "image/png": "[encoded data removed]"
          },
          "metadata": {}
        }
      ]
    },
    {
      "cell_type": "code",
      "source": [
        "pp.plot(tests)\n",
        "pp.show()"
      ],
      "metadata": {
        "colab": {
          "base_uri": "https://localhost:8080/",
          "height": 430
        },
        "id": "RdSq6NBJuWue",
        "outputId": "62a76e1c-7308-40e1-849b-fc5dcc264bc8"
      },
      "execution_count": 10,
      "outputs": [
        {
          "output_type": "display_data",
          "data": {
            "text/plain": [
              "<Figure size 640x480 with 1 Axes>"
            ],
            "image/png": "[encoded data removed]"
          },
          "metadata": {}
        }
      ]
    },
    {
      "cell_type": "markdown",
      "source": [
        "Save/Load a model"
      ],
      "metadata": {
        "id": "a6-p8CPEuaex"
      }
    },
    {
      "cell_type": "code",
      "source": [
        "torch.save(model, '3000g_6f.pth')"
      ],
      "metadata": {
        "id": "yQUkToEKuZ-Q"
      },
      "execution_count": null,
      "outputs": []
    },
    {
      "cell_type": "code",
      "source": [
        "loaded = torch.load('3000g_6f.pth')"
      ],
      "metadata": {
        "id": "ks1S9NoMue7W"
      },
      "execution_count": null,
      "outputs": []
    },
    {
      "cell_type": "markdown",
      "source": [
        "Testing a loaded model"
      ],
      "metadata": {
        "id": "xCcdIFqcunqR"
      }
    },
    {
      "cell_type": "code",
      "source": [
        "@torch.no_grad()\n",
        "def test(loader):\n",
        "    loaded.eval()\n",
        "    #return 0\n",
        "    correct = 0\n",
        "    ys, preds = [], []\n",
        "    for i, data in enumerate(loader):\n",
        "        #print(data)\n",
        "        for idx in range(data.num_graphs):\n",
        "          #ys.append(data.y)\n",
        "          out = loaded(data.get_example(idx).x.to(device), data.get_example(idx).edge_index.to(device))\n",
        "          pred = out.argmax(dim=1)\n",
        "          #preds.append((out > 0).float().cpu())\n",
        "          correct += int(torch.equal(pred,data.get_example(idx).y.type(torch.LongTensor)))  # Derive ratio of correct predictions.\n",
        "\n",
        "    return correct/len(loader.dataset)*100\n",
        "\n",
        "loader = DataLoader(dataset, batch_size=128, shuffle=False)\n",
        "test(loader)"
      ],
      "metadata": {
        "id": "EmYdUa3wuqco"
      },
      "execution_count": null,
      "outputs": []
    },
    {
      "cell_type": "markdown",
      "source": [
        "Visualize wrong predictions"
      ],
      "metadata": {
        "id": "9PmnNH6euynZ"
      }
    },
    {
      "cell_type": "code",
      "source": [
        "for i in range(20):\n",
        "  d = dataset[i]\n",
        "  predik = loaded(d.x, d.edge_index).argmax(dim=1)\n",
        "  if not torch.equal(predik, d.y.type(torch.LongTensor)):\n",
        "    examine_pred(d, predik)\n",
        "    print(loaded(d.x, d.edge_index))"
      ],
      "metadata": {
        "id": "2-Aobouxu1KB"
      },
      "execution_count": null,
      "outputs": []
    }
  ]
}