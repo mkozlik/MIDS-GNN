{
  "nbformat": 4,
  "nbformat_minor": 0,
  "metadata": {
    "colab": {
      "provenance": [],
      "authorship_tag": "ABX9TyN58EISuyCb5wfcslStk8aN",
      "include_colab_link": true
    },
    "kernelspec": {
      "name": "python3",
      "display_name": "Python 3"
    },
    "language_info": {
      "name": "python"
    }
  },
  "cells": [
    {
      "cell_type": "markdown",
      "metadata": {
        "id": "view-in-github",
        "colab_type": "text"
      },
      "source": [
        "<a href=\"https://colab.research.google.com/github/mkozlik/MIDS-GNN/blob/main/MIDS_GNN.ipynb\" target=\"_parent\"><img src=\"https://colab.research.google.com/assets/colab-badge.svg\" alt=\"Open In Colab\"/></a>"
      ]
    },
    {
      "cell_type": "markdown",
      "source": [
        "Import and install\n"
      ],
      "metadata": {
        "id": "ISds4F7dBH1D"
      }
    },
    {
      "cell_type": "code",
      "source": [
        "# Install required packages.\n",
        "import os\n",
        "import torch\n",
        "os.environ['TORCH'] = torch.__version__\n",
        "print(torch.__version__)\n",
        "\n",
        "!pip install -q torch-scatter -f https://data.pyg.org/whl/torch-${TORCH}.html\n",
        "!pip install -q torch-sparse -f https://data.pyg.org/whl/torch-${TORCH}.html\n",
        "!pip install -q git+https://github.com/pyg-team/pytorch_geometric.git"
      ],
      "metadata": {
        "colab": {
          "base_uri": "https://localhost:8080/"
        },
        "id": "pYc4D5xfBNKU",
        "outputId": "d41f16e5-3e43-4763-9b82-8323c61f891d"
      },
      "execution_count": 1,
      "outputs": [
        {
          "output_type": "stream",
          "name": "stdout",
          "text": [
            "2.2.1+cu121\n",
            "\u001b[2K     \u001b[90m━━━━━━━━━━━━━━━━━━━━━━━━━━━━━━━━━━━━━━━━\u001b[0m \u001b[32m10.9/10.9 MB\u001b[0m \u001b[31m52.7 MB/s\u001b[0m eta \u001b[36m0:00:00\u001b[0m\n",
            "\u001b[2K     \u001b[90m━━━━━━━━━━━━━━━━━━━━━━━━━━━━━━━━━━━━━━━━\u001b[0m \u001b[32m5.0/5.0 MB\u001b[0m \u001b[31m28.9 MB/s\u001b[0m eta \u001b[36m0:00:00\u001b[0m\n",
            "\u001b[?25h  Installing build dependencies ... \u001b[?25l\u001b[?25hdone\n",
            "  Getting requirements to build wheel ... \u001b[?25l\u001b[?25hdone\n",
            "  Preparing metadata (pyproject.toml) ... \u001b[?25l\u001b[?25hdone\n",
            "  Building wheel for torch_geometric (pyproject.toml) ... \u001b[?25l\u001b[?25hdone\n"
          ]
        }
      ]
    },
    {
      "cell_type": "code",
      "source": [
        "import random\n",
        "from pathlib import Path\n",
        "\n",
        "import matplotlib\n",
        "import networkx as nx\n",
        "import torch\n",
        "import torch_geometric.utils as pygUtils\n",
        "import Utilities.utils as utils\n",
        "import yaml\n",
        "from matplotlib import pyplot as plt\n",
        "from torch_geometric.data import InMemoryDataset, download_url, extract_zip\n",
        "from tqdm import tqdm\n",
        "\n",
        "\n",
        "raw_download_url = \"https://github.com/mkrizmancic/MIDS_collection/raw/master/PyTorch%20Geometric/Dataset/raw_data.zip\"\n",
        "\n",
        "\n",
        "class MIDSdataset(InMemoryDataset):\n",
        "    def __init__(self, root, transform=None, pre_transform=None, pre_filter=None, **kwargs):\n",
        "        self.raw_included_subdirs = kwargs.get(\"raw_included_subdirs\", None)\n",
        "\n",
        "        super().__init__(root, transform, pre_transform, pre_filter)\n",
        "\n",
        "        self.data, self.slices = torch.load(self.processed_paths[0])\n",
        "\n",
        "    @property\n",
        "    def raw_file_names(self):\n",
        "        \"\"\"\n",
        "        Return a list of all raw files in the dataset.\n",
        "\n",
        "        This method has two jobs. The returned list with raw files is compared\n",
        "        with the files currently in raw directory. Files that are missing are\n",
        "        automatically downloaded using download method. The second job is to\n",
        "        return the list of raw file names that will be used in the process\n",
        "        method.\n",
        "        \"\"\"\n",
        "        raw_dir = Path(self.raw_dir)\n",
        "        raw_files = []\n",
        "        with open(raw_dir.parent / \"file_list.yaml\", \"r\") as file:\n",
        "            raw_dir_structure = yaml.safe_load(file)\n",
        "            for subdir in raw_dir_structure:\n",
        "                if self.raw_included_subdirs is None or subdir in self.raw_included_subdirs:\n",
        "                    raw_files.extend([f\"{subdir}/{filename}\" for filename in raw_dir_structure[subdir]])\n",
        "\n",
        "        return raw_files\n",
        "\n",
        "    @property\n",
        "    def processed_file_names(self):\n",
        "        \"\"\"\n",
        "        Return a list of all processed files in the dataset.\n",
        "\n",
        "        If a processed file is missing, it will be automatically created using\n",
        "        the process method.\n",
        "\n",
        "        That means that if you want to reprocess the data, you need to delete\n",
        "        the processed files and reimport the dataset.\n",
        "        \"\"\"\n",
        "        # TODO: Automatically detect changes in the dataset.\n",
        "        #       We could come up with a namig scheme that will differentiate\n",
        "        #       which graph families (and/or sizes) and features were used to\n",
        "        #       generate the dataset. This way, we could detect changes and\n",
        "        #       reprocess the dataset when needed.\n",
        "        return [\"data.pt\"]\n",
        "\n",
        "    def download(self):\n",
        "        \"\"\"Automatically download raw files if missing.\"\"\"\n",
        "        # TODO: Should check and download only missing files.\n",
        "\n",
        "        zip_file = Path(self.root) / \"raw_data.zip\"\n",
        "\n",
        "        # Delete the exising zip file.\n",
        "        zip_file.unlink(missing_ok=True)\n",
        "\n",
        "        # Download the raw files using the helper function.\n",
        "        download_url(raw_download_url, self.root, filename=\"raw_data.zip\")\n",
        "\n",
        "        # Unzip the downloaded files.\n",
        "        extract_zip(str(zip_file.resolve()), self.raw_dir)\n",
        "\n",
        "    def process(self):\n",
        "        \"\"\"Process the raw files into a graph dataset.\"\"\"\n",
        "        # Read data into huge `Data` list.\n",
        "        data_list = []\n",
        "        with tqdm(total=len(self.raw_file_names)) as pbar:\n",
        "            for graph_file in self.raw_file_names:\n",
        "                data = self.make_data(Path(self.raw_dir) / graph_file)\n",
        "                data_list.extend(data)\n",
        "                pbar.update(1)\n",
        "\n",
        "        if self.pre_filter is not None:\n",
        "            data_list = [data for data in data_list if self.pre_filter(data)]\n",
        "\n",
        "        if self.pre_transform is not None:\n",
        "            data_list = [self.pre_transform(data) for data in data_list]\n",
        "\n",
        "        data, slices = self.collate(data_list)\n",
        "        torch.save((data, slices), self.processed_paths[0])\n",
        "\n",
        "    def make_data(self, graph_file):\n",
        "        \"\"\"Create a PyG data object from a graph file.\"\"\"\n",
        "        G = nx.read_edgelist(graph_file, nodetype=int)\n",
        "\n",
        "        # Define features in use.\n",
        "        feature_functions = {\n",
        "            \"degree\": G.degree,\n",
        "            \"degree_centrality\": nx.degree_centrality(G),\n",
        "            \"betweenness_centrality\": nx.betweenness_centrality(G)\n",
        "        }\n",
        "\n",
        "        # Compute and add features to the nodes in the graph.\n",
        "        for node in G.nodes():\n",
        "            for feature in feature_functions:\n",
        "                G.nodes[node][feature] = feature_functions[feature][node]\n",
        "\n",
        "        # for node in G.nodes():\n",
        "        #     G.nodes[node][\"degree\"] = G.degree(node)\n",
        "\n",
        "        # degree_cent = nx.degree_centrality(G)\n",
        "        # for node in G.nodes():\n",
        "        #     G.nodes[node][\"degree_centrality\"] = degree_cent[node]\n",
        "\n",
        "        # between_cent = nx.betweenness_centrality(G)\n",
        "        # for node in G.nodes():\n",
        "        #     G.nodes[node][\"betweenness_centrality\"] = between_cent[node]\n",
        "\n",
        "        torch_G = pygUtils.from_networkx(G, group_node_attrs=list(feature_functions.keys()))\n",
        "        true_labels = MIDSdataset.get_labels(utils.find_MIDS(G), G.number_of_nodes())\n",
        "        data = []\n",
        "        for labels in true_labels:\n",
        "            data.append(torch_G.clone())\n",
        "            data[-1].y = labels\n",
        "\n",
        "        return data\n",
        "\n",
        "    @staticmethod\n",
        "    def get_labels(mids, num_nodes):\n",
        "        # Encode found cliques as support vectors.\n",
        "        for i, nodes in enumerate(mids):\n",
        "            mids[i] = torch.zeros(num_nodes)\n",
        "            mids[i][nodes] = 1\n",
        "\n",
        "        return mids\n",
        "\n",
        "    @staticmethod\n",
        "    def visualize_data(data):\n",
        "        G = pygUtils.to_networkx(data, to_undirected=True)\n",
        "        nx.draw(G, with_labels=True, node_color=data.y, cmap=matplotlib.colormaps[\"bwr\"])\n",
        "        plt.show()\n",
        "\n",
        "\n",
        "def inspect_dataset(dataset, num_graphs=1):\n",
        "    for i in random.sample(range(len(dataset)), num_graphs):\n",
        "        data = dataset[i]  # Get a random graph object\n",
        "\n",
        "        print()\n",
        "        print(data)\n",
        "        print(\"=============================================================\")\n",
        "\n",
        "        # Gather some statistics about the first graph.\n",
        "        print(f\"Number of nodes: {data.num_nodes}\")\n",
        "        print(f\"Number of edges: {data.num_edges}\")\n",
        "        print(f\"Average node degree: {data.num_edges / data.num_nodes:.2f}\")\n",
        "        print(f\"Has isolated nodes: {data.has_isolated_nodes()}\")\n",
        "        print(f\"Has self-loops: {data.has_self_loops()}\")\n",
        "        print(f\"Is undirected: {data.is_undirected()}\")\n",
        "\n",
        "        MIDSdataset.visualize_data(data)\n",
        "\n",
        "\n",
        "def main():\n",
        "    root = Path.cwd() / \"Dataset\"\n",
        "    raw_included_subdirs = None\n",
        "\n",
        "    dataset = MIDSdataset(root, raw_included_subdirs=raw_included_subdirs)\n",
        "\n",
        "    print()\n",
        "    print(f\"Dataset: {dataset}:\")\n",
        "    print(\"====================\")\n",
        "    print(f\"Number of graphs: {len(dataset)}\")\n",
        "    print(f\"Number of features: {dataset.num_features}\")\n",
        "    print(f\"Number of classes: {dataset.num_classes}\")\n",
        "\n",
        "    inspect_dataset(dataset, num_graphs=1)\n",
        "\n",
        "\n",
        "if __name__ == \"__main__\":\n",
        "    main()\n"
      ],
      "metadata": {
        "id": "3WKDb_XaEIjY",
        "outputId": "5a149748-3209-45dd-f102-23db2e41e945",
        "colab": {
          "base_uri": "https://localhost:8080/",
          "height": 582
        }
      },
      "execution_count": 31,
      "outputs": [
        {
          "output_type": "stream",
          "name": "stdout",
          "text": [
            "\n",
            "Dataset: MIDSdataset(40591):\n",
            "====================\n",
            "Number of graphs: 40591\n",
            "Number of features: 3\n",
            "Number of classes: 2\n",
            "\n",
            "Data(edge_index=[2, 30], x=[8, 3], y=[8])\n",
            "=============================================================\n",
            "Number of nodes: 8\n",
            "Number of edges: 30\n",
            "Average node degree: 3.75\n",
            "Has isolated nodes: False\n",
            "Has self-loops: False\n",
            "Is undirected: True\n"
          ]
        },
        {
          "output_type": "error",
          "ename": "AttributeError",
          "evalue": "'GlobalStorage' object has no attribute 'train_mask'",
          "traceback": [
            "\u001b[0;31m---------------------------------------------------------------------------\u001b[0m",
            "\u001b[0;31mAttributeError\u001b[0m                            Traceback (most recent call last)",
            "\u001b[0;32m<ipython-input-31-2ce1c427f6b9>\u001b[0m in \u001b[0;36m<cell line: 187>\u001b[0;34m()\u001b[0m\n\u001b[1;32m    186\u001b[0m \u001b[0;34m\u001b[0m\u001b[0m\n\u001b[1;32m    187\u001b[0m \u001b[0;32mif\u001b[0m \u001b[0m__name__\u001b[0m \u001b[0;34m==\u001b[0m \u001b[0;34m\"__main__\"\u001b[0m\u001b[0;34m:\u001b[0m\u001b[0;34m\u001b[0m\u001b[0;34m\u001b[0m\u001b[0m\n\u001b[0;32m--> 188\u001b[0;31m     \u001b[0mmain\u001b[0m\u001b[0;34m(\u001b[0m\u001b[0;34m)\u001b[0m\u001b[0;34m\u001b[0m\u001b[0;34m\u001b[0m\u001b[0m\n\u001b[0m",
            "\u001b[0;32m<ipython-input-31-2ce1c427f6b9>\u001b[0m in \u001b[0;36mmain\u001b[0;34m()\u001b[0m\n\u001b[1;32m    182\u001b[0m     \u001b[0mprint\u001b[0m\u001b[0;34m(\u001b[0m\u001b[0;34mf\"Number of classes: {dataset.num_classes}\"\u001b[0m\u001b[0;34m)\u001b[0m\u001b[0;34m\u001b[0m\u001b[0;34m\u001b[0m\u001b[0m\n\u001b[1;32m    183\u001b[0m \u001b[0;34m\u001b[0m\u001b[0m\n\u001b[0;32m--> 184\u001b[0;31m     \u001b[0minspect_dataset\u001b[0m\u001b[0;34m(\u001b[0m\u001b[0mdataset\u001b[0m\u001b[0;34m,\u001b[0m \u001b[0mnum_graphs\u001b[0m\u001b[0;34m=\u001b[0m\u001b[0;36m1\u001b[0m\u001b[0;34m)\u001b[0m\u001b[0;34m\u001b[0m\u001b[0;34m\u001b[0m\u001b[0m\n\u001b[0m\u001b[1;32m    185\u001b[0m \u001b[0;34m\u001b[0m\u001b[0m\n\u001b[1;32m    186\u001b[0m \u001b[0;34m\u001b[0m\u001b[0m\n",
            "\u001b[0;32m<ipython-input-31-2ce1c427f6b9>\u001b[0m in \u001b[0;36minspect_dataset\u001b[0;34m(dataset, num_graphs)\u001b[0m\n\u001b[1;32m    164\u001b[0m         \u001b[0mprint\u001b[0m\u001b[0;34m(\u001b[0m\u001b[0;34mf\"Has self-loops: {data.has_self_loops()}\"\u001b[0m\u001b[0;34m)\u001b[0m\u001b[0;34m\u001b[0m\u001b[0;34m\u001b[0m\u001b[0m\n\u001b[1;32m    165\u001b[0m         \u001b[0mprint\u001b[0m\u001b[0;34m(\u001b[0m\u001b[0;34mf\"Is undirected: {data.is_undirected()}\"\u001b[0m\u001b[0;34m)\u001b[0m\u001b[0;34m\u001b[0m\u001b[0;34m\u001b[0m\u001b[0m\n\u001b[0;32m--> 166\u001b[0;31m         \u001b[0mprint\u001b[0m\u001b[0;34m(\u001b[0m\u001b[0;34mf\"Train mask: {data.train_mask.sum()}\"\u001b[0m\u001b[0;34m)\u001b[0m\u001b[0;34m\u001b[0m\u001b[0;34m\u001b[0m\u001b[0m\n\u001b[0m\u001b[1;32m    167\u001b[0m \u001b[0;34m\u001b[0m\u001b[0m\n\u001b[1;32m    168\u001b[0m         \u001b[0mMIDSdataset\u001b[0m\u001b[0;34m.\u001b[0m\u001b[0mvisualize_data\u001b[0m\u001b[0;34m(\u001b[0m\u001b[0mdata\u001b[0m\u001b[0;34m)\u001b[0m\u001b[0;34m\u001b[0m\u001b[0;34m\u001b[0m\u001b[0m\n",
            "\u001b[0;32m/usr/local/lib/python3.10/dist-packages/torch_geometric/data/data.py\u001b[0m in \u001b[0;36m__getattr__\u001b[0;34m(self, key)\u001b[0m\n\u001b[1;32m    557\u001b[0m                 \u001b[0;34m\"dataset, remove the 'processed/' directory in the dataset's \"\u001b[0m\u001b[0;34m\u001b[0m\u001b[0;34m\u001b[0m\u001b[0m\n\u001b[1;32m    558\u001b[0m                 \"root folder and try again.\")\n\u001b[0;32m--> 559\u001b[0;31m         \u001b[0;32mreturn\u001b[0m \u001b[0mgetattr\u001b[0m\u001b[0;34m(\u001b[0m\u001b[0mself\u001b[0m\u001b[0;34m.\u001b[0m\u001b[0m_store\u001b[0m\u001b[0;34m,\u001b[0m \u001b[0mkey\u001b[0m\u001b[0;34m)\u001b[0m\u001b[0;34m\u001b[0m\u001b[0;34m\u001b[0m\u001b[0m\n\u001b[0m\u001b[1;32m    560\u001b[0m \u001b[0;34m\u001b[0m\u001b[0m\n\u001b[1;32m    561\u001b[0m     \u001b[0;32mdef\u001b[0m \u001b[0m__setattr__\u001b[0m\u001b[0;34m(\u001b[0m\u001b[0mself\u001b[0m\u001b[0;34m,\u001b[0m \u001b[0mkey\u001b[0m\u001b[0;34m:\u001b[0m \u001b[0mstr\u001b[0m\u001b[0;34m,\u001b[0m \u001b[0mvalue\u001b[0m\u001b[0;34m:\u001b[0m \u001b[0mAny\u001b[0m\u001b[0;34m)\u001b[0m\u001b[0;34m:\u001b[0m\u001b[0;34m\u001b[0m\u001b[0;34m\u001b[0m\u001b[0m\n",
            "\u001b[0;32m/usr/local/lib/python3.10/dist-packages/torch_geometric/data/storage.py\u001b[0m in \u001b[0;36m__getattr__\u001b[0;34m(self, key)\u001b[0m\n\u001b[1;32m     94\u001b[0m             \u001b[0;32mreturn\u001b[0m \u001b[0mself\u001b[0m\u001b[0;34m[\u001b[0m\u001b[0mkey\u001b[0m\u001b[0;34m]\u001b[0m\u001b[0;34m\u001b[0m\u001b[0;34m\u001b[0m\u001b[0m\n\u001b[1;32m     95\u001b[0m         \u001b[0;32mexcept\u001b[0m \u001b[0mKeyError\u001b[0m\u001b[0;34m:\u001b[0m\u001b[0;34m\u001b[0m\u001b[0;34m\u001b[0m\u001b[0m\n\u001b[0;32m---> 96\u001b[0;31m             raise AttributeError(\n\u001b[0m\u001b[1;32m     97\u001b[0m                 \u001b[0;34mf\"'{self.__class__.__name__}' object has no attribute '{key}'\"\u001b[0m\u001b[0;34m\u001b[0m\u001b[0;34m\u001b[0m\u001b[0m\n\u001b[1;32m     98\u001b[0m             ) from None\n",
            "\u001b[0;31mAttributeError\u001b[0m: 'GlobalStorage' object has no attribute 'train_mask'"
          ]
        }
      ]
    },
    {
      "cell_type": "markdown",
      "source": [
        "Load dataset"
      ],
      "metadata": {
        "id": "TF8IuIdjBcrR"
      }
    },
    {
      "cell_type": "code",
      "source": [
        "root = Path.cwd() / \"Dataset\"\n",
        "raw_included_subdirs = None\n",
        "\n",
        "dataset = MIDSdataset(root, raw_included_subdirs=raw_included_subdirs)\n",
        "\n",
        "print()\n",
        "print(f\"Dataset: {dataset}:\")\n",
        "print(\"====================\")\n",
        "print(f\"Number of graphs: {len(dataset)}\")\n",
        "print(f\"Number of features: {dataset.num_features}\")\n",
        "print(f\"Number of classes: {dataset.num_classes}\")"
      ],
      "metadata": {
        "id": "zcgfJdNqBdst",
        "colab": {
          "base_uri": "https://localhost:8080/"
        },
        "outputId": "87f9999f-852c-400a-b65b-2f2ada441185"
      },
      "execution_count": 4,
      "outputs": [
        {
          "output_type": "stream",
          "name": "stdout",
          "text": [
            "\n",
            "Dataset: MIDSdataset(40591):\n",
            "====================\n",
            "Number of graphs: 40591\n",
            "Number of features: 3\n",
            "Number of classes: 2\n"
          ]
        }
      ]
    },
    {
      "cell_type": "code",
      "source": [
        "inspect_dataset(dataset, num_graphs=1)"
      ],
      "metadata": {
        "colab": {
          "base_uri": "https://localhost:8080/",
          "height": 672
        },
        "id": "mPIaOVOXJ_qq",
        "outputId": "da174899-0106-4a4f-b159-f1fb764fe5c0"
      },
      "execution_count": 15,
      "outputs": [
        {
          "output_type": "stream",
          "name": "stdout",
          "text": [
            "\n",
            "Data(edge_index=[2, 14], x=[8, 3], y=[8])\n",
            "=============================================================\n",
            "Number of nodes: 8\n",
            "Number of edges: 14\n",
            "Average node degree: 1.75\n",
            "Has isolated nodes: False\n",
            "Has self-loops: False\n",
            "Is undirected: True\n"
          ]
        },
        {
          "output_type": "display_data",
          "data": {
            "text/plain": [
              "<Figure size 640x480 with 1 Axes>"
            ],
            "image/png": "[encoded data removed]"
          },
          "metadata": {}
        }
      ]
    },
    {
      "cell_type": "markdown",
      "source": [
        "Split into test and train"
      ],
      "metadata": {
        "id": "wIv4ZvQwKcvG"
      }
    },
    {
      "cell_type": "code",
      "source": [
        "torch.manual_seed(12345)\n",
        "dataset = dataset.shuffle()\n",
        "\n",
        "train_dataset = dataset[:35000]\n",
        "test_dataset = dataset[35000:]\n",
        "\n",
        "print(f'Number of training graphs: {len(train_dataset)}')\n",
        "print(f'Number of test graphs: {len(test_dataset)}')"
      ],
      "metadata": {
        "colab": {
          "base_uri": "https://localhost:8080/"
        },
        "id": "9xeCaRAMKKLj",
        "outputId": "144fd420-869c-451c-83ad-30e8602c813c"
      },
      "execution_count": 16,
      "outputs": [
        {
          "output_type": "stream",
          "name": "stdout",
          "text": [
            "Number of training graphs: 35000\n",
            "Number of test graphs: 5591\n"
          ]
        }
      ]
    },
    {
      "cell_type": "code",
      "source": [
        "from torch_geometric.loader import DataLoader\n",
        "\n",
        "train_loader = DataLoader(train_dataset, batch_size=1, shuffle=True)\n",
        "test_loader = DataLoader(test_dataset, batch_size=1, shuffle=False)"
      ],
      "metadata": {
        "id": "PfPRovayKrGM"
      },
      "execution_count": 63,
      "outputs": []
    },
    {
      "cell_type": "markdown",
      "source": [
        "Copy/paste GCN"
      ],
      "metadata": {
        "id": "JWfUE0U4MgMN"
      }
    },
    {
      "cell_type": "code",
      "source": [
        "from torch.nn import Linear\n",
        "import torch.nn.functional as F\n",
        "from torch_geometric.nn import GCNConv\n",
        "from torch_geometric.nn import global_mean_pool\n",
        "\n",
        "\n",
        "class GCN(torch.nn.Module):\n",
        "    def __init__(self, hidden_channels):\n",
        "        super().__init__()\n",
        "        torch.manual_seed(1234567)\n",
        "        self.conv1 = GCNConv(dataset.num_features, hidden_channels)\n",
        "        self.conv2 = GCNConv(hidden_channels, hidden_channels)\n",
        "        self.conv3 = GCNConv(hidden_channels, hidden_channels)\n",
        "        self.lin = Linear(hidden_channels, dataset.num_classes)\n",
        "\n",
        "    def forward(self, x, edge_index):\n",
        "        # 1. Obtain node embeddings\n",
        "        x = self.conv1(x, edge_index)\n",
        "        x = x.relu()\n",
        "        x = self.conv2(x, edge_index)\n",
        "        x = x.relu()\n",
        "        x = self.conv3(x, edge_index)\n",
        "\n",
        "        # 2. Readout layer\n",
        "        #x = global_mean_pool(x, batch)  # [batch_size, hidden_channels]\n",
        "\n",
        "        # 3. Apply a final classifier\n",
        "        x = F.dropout(x, p=0.5, training=self.training)\n",
        "        x = self.lin(x)\n",
        "        return x\n",
        "\n",
        "model = GCN(hidden_channels=128)\n",
        "print(model)"
      ],
      "metadata": {
        "colab": {
          "base_uri": "https://localhost:8080/"
        },
        "id": "vLNe1T74Mfdc",
        "outputId": "075e2bb0-02b1-47fb-d887-c9f46eec0c3c"
      },
      "execution_count": 64,
      "outputs": [
        {
          "output_type": "stream",
          "name": "stdout",
          "text": [
            "GCN(\n",
            "  (conv1): GCNConv(3, 128)\n",
            "  (conv2): GCNConv(128, 128)\n",
            "  (conv3): GCNConv(128, 128)\n",
            "  (lin): Linear(in_features=128, out_features=2, bias=True)\n",
            ")\n"
          ]
        }
      ]
    },
    {
      "cell_type": "code",
      "source": [
        "from IPython.display import Javascript  # Restrict height of output cell.\n",
        "import numpy as np\n",
        "\n",
        "display(Javascript('''google.colab.output.setIframeHeight(0, true, {maxHeight: 300})'''))\n",
        "\n",
        "model = GCN(hidden_channels=16)\n",
        "optimizer = torch.optim.Adam(model.parameters(), lr=0.01, weight_decay=5e-4)\n",
        "criterion = torch.nn.CrossEntropyLoss()\n",
        "\n",
        "def train():\n",
        "      model.train()\n",
        "\n",
        "      for i, data in enumerate(train_loader):\n",
        "        #if i%100 !=0:\n",
        "        #  continue\n",
        "        out = model(data.x, data.edge_index)  # Perform a single forward pass.\n",
        "        #print(data.y)\n",
        "        #print(out)\n",
        "        #print(data.x)\n",
        "        #a = np.ones((data.x.size(dim=0),2))\n",
        "        #print(a)\n",
        "        #t = torch.from_numpy(a)\n",
        "        #t = t.type(torch.bool)\n",
        "        #train_mask = torch.tensor([1, 1, 1, 0, 0, 0, 0, 0, 0, 0], dtype=torch.bool)\n",
        "        loss = criterion(out, data.y.type(torch.LongTensor))  # Compute the loss solely based on the training nodes.\n",
        "        loss.backward()  # Derive gradients.\n",
        "        optimizer.step()  # Update parameters based on gradients.\n",
        "        optimizer.zero_grad()  # Clear gradients.\n",
        "\n",
        "def test(loader):\n",
        "      model.eval()\n",
        "      correct = 0\n",
        "      for data in loader:\n",
        "        out = model(data.x, data.edge_index)\n",
        "        pred = out.argmax(dim=1)  # Use the class with highest probability.\n",
        "        #a = np.ones(data.x.size(dim=1))\n",
        "        #train_mask = torch.tensor([1, 1, 1, 0, 0, 0, 0, 0, 0, 0], dtype=torch.bool)\n",
        "        test_correct = pred == data.y  # Check against ground-truth labels.\n",
        "        correct += int(torch.equal(pred,data.y))  # Derive ratio of correct predictions.\n",
        "      return correct/len(loader.dataset)*100\n",
        "\n",
        "\n",
        "for epoch in range(1, 101):\n",
        "    loss = train()\n",
        "    train_acc = test(train_loader)\n",
        "    test_acc = test(test_loader)\n",
        "    print(f'Epoch: {epoch:03d}, Train Acc: {train_acc:.4f}, Test Acc: {test_acc:.4f}')"
      ],
      "metadata": {
        "id": "rBJxnMHaYUIt",
        "colab": {
          "base_uri": "https://localhost:8080/",
          "height": 300
        },
        "outputId": "298bb52b-0ffa-43a1-e3cc-0d36374f6b41"
      },
      "execution_count": null,
      "outputs": [
        {
          "data": {
            "application/javascript": [
              "google.colab.output.setIframeHeight(0, true, {maxHeight: 300})"
            ],
            "text/plain": [
              "<IPython.core.display.Javascript object>"
            ]
          },
          "metadata": {},
          "output_type": "display_data"
        },
        {
          "output_type": "stream",
          "name": "stdout",
          "text": [
            "Epoch: 001, Train Acc: 0.0200, Test Acc: 0.0000\n",
            "Epoch: 002, Train Acc: 0.0000, Test Acc: 0.0000\n",
            "Epoch: 003, Train Acc: 0.0371, Test Acc: 0.0179\n",
            "Epoch: 004, Train Acc: 0.0371, Test Acc: 0.0000\n",
            "Epoch: 005, Train Acc: 0.0057, Test Acc: 0.0000\n",
            "Epoch: 006, Train Acc: 0.3600, Test Acc: 0.3041\n",
            "Epoch: 007, Train Acc: 0.0229, Test Acc: 0.0179\n",
            "Epoch: 008, Train Acc: 1.6457, Test Acc: 1.3593\n",
            "Epoch: 009, Train Acc: 0.0114, Test Acc: 0.0000\n",
            "Epoch: 010, Train Acc: 0.0743, Test Acc: 0.0537\n",
            "Epoch: 011, Train Acc: 0.0057, Test Acc: 0.0000\n",
            "Epoch: 012, Train Acc: 0.0314, Test Acc: 0.0179\n",
            "Epoch: 013, Train Acc: 0.0029, Test Acc: 0.0000\n",
            "Epoch: 014, Train Acc: 0.0086, Test Acc: 0.0000\n",
            "Epoch: 015, Train Acc: 0.2200, Test Acc: 0.1789\n",
            "Epoch: 016, Train Acc: 0.0000, Test Acc: 0.0000\n",
            "Epoch: 017, Train Acc: 0.0000, Test Acc: 0.0000\n",
            "Epoch: 018, Train Acc: 0.0171, Test Acc: 0.0000\n",
            "Epoch: 019, Train Acc: 0.4943, Test Acc: 0.4471\n",
            "Epoch: 020, Train Acc: 0.0000, Test Acc: 0.0000\n",
            "Epoch: 021, Train Acc: 0.4029, Test Acc: 0.3577\n",
            "Epoch: 022, Train Acc: 0.3229, Test Acc: 0.2325\n",
            "Epoch: 023, Train Acc: 0.0029, Test Acc: 0.0000\n",
            "Epoch: 024, Train Acc: 0.0429, Test Acc: 0.0179\n",
            "Epoch: 025, Train Acc: 0.0029, Test Acc: 0.0000\n",
            "Epoch: 026, Train Acc: 0.0200, Test Acc: 0.0000\n",
            "Epoch: 027, Train Acc: 0.1657, Test Acc: 0.1431\n",
            "Epoch: 028, Train Acc: 0.0000, Test Acc: 0.0000\n",
            "Epoch: 029, Train Acc: 0.0057, Test Acc: 0.0000\n",
            "Epoch: 030, Train Acc: 0.0514, Test Acc: 0.0179\n",
            "Epoch: 031, Train Acc: 0.0200, Test Acc: 0.0179\n",
            "Epoch: 032, Train Acc: 0.0086, Test Acc: 0.0000\n",
            "Epoch: 033, Train Acc: 0.0000, Test Acc: 0.0000\n",
            "Epoch: 034, Train Acc: 0.0057, Test Acc: 0.0000\n",
            "Epoch: 035, Train Acc: 0.0457, Test Acc: 0.0179\n",
            "Epoch: 036, Train Acc: 0.0343, Test Acc: 0.0179\n",
            "Epoch: 037, Train Acc: 0.0143, Test Acc: 0.0000\n",
            "Epoch: 038, Train Acc: 0.0114, Test Acc: 0.0000\n"
          ]
        }
      ]
    }
  ]
}