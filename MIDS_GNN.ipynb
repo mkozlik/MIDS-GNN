{
  "nbformat": 4,
  "nbformat_minor": 0,
  "metadata": {
    "colab": {
      "provenance": [],
      "mount_file_id": "1hUKqhtOnX3L9Khi1wpkEzDEUbc-6UnYw",
      "authorship_tag": "ABX9TyMTOWfxmSlJPlO+PbBn55lS",
      "include_colab_link": true
    },
    "kernelspec": {
      "name": "python3",
      "display_name": "Python 3"
    },
    "language_info": {
      "name": "python"
    }
  },
  "cells": [
    {
      "cell_type": "markdown",
      "metadata": {
        "id": "view-in-github",
        "colab_type": "text"
      },
      "source": [
        "<a href=\"https://colab.research.google.com/github/mkozlik/MIDS-GNN/blob/main/MIDS_GNN.ipynb\" target=\"_parent\"><img src=\"https://colab.research.google.com/assets/colab-badge.svg\" alt=\"Open In Colab\"/></a>"
      ]
    },
    {
      "cell_type": "markdown",
      "source": [
        "Import and install\n"
      ],
      "metadata": {
        "id": "ISds4F7dBH1D"
      }
    },
    {
      "cell_type": "code",
      "source": [
        "# Install required packages.\n",
        "import os\n",
        "import torch\n",
        "os.environ['TORCH'] = torch.__version__\n",
        "print(torch.__version__)\n",
        "\n",
        "!pip install -q torch-scatter -f https://data.pyg.org/whl/torch-${TORCH}.html\n",
        "!pip install -q torch-sparse -f https://data.pyg.org/whl/torch-${TORCH}.html\n",
        "!pip install -q git+https://github.com/pyg-team/pytorch_geometric.git"
      ],
      "metadata": {
        "colab": {
          "base_uri": "https://localhost:8080/"
        },
        "id": "pYc4D5xfBNKU",
        "outputId": "584f4fb6-0bd8-45ba-85f6-6a3fa4b84cf9"
      },
      "execution_count": 11,
      "outputs": [
        {
          "output_type": "stream",
          "name": "stdout",
          "text": [
            "2.2.1+cu121\n",
            "\u001b[2K     \u001b[90m━━━━━━━━━━━━━━━━━━━━━━━━━━━━━━━━━━━━━━━━\u001b[0m \u001b[32m10.9/10.9 MB\u001b[0m \u001b[31m68.3 MB/s\u001b[0m eta \u001b[36m0:00:00\u001b[0m\n",
            "\u001b[2K     \u001b[90m━━━━━━━━━━━━━━━━━━━━━━━━━━━━━━━━━━━━━━━━\u001b[0m \u001b[32m5.0/5.0 MB\u001b[0m \u001b[31m40.0 MB/s\u001b[0m eta \u001b[36m0:00:00\u001b[0m\n",
            "\u001b[?25h  Installing build dependencies ... \u001b[?25l\u001b[?25hdone\n",
            "  Getting requirements to build wheel ... \u001b[?25l\u001b[?25hdone\n",
            "  Preparing metadata (pyproject.toml) ... \u001b[?25l\u001b[?25hdone\n",
            "  Building wheel for torch_geometric (pyproject.toml) ... \u001b[?25l\u001b[?25hdone\n"
          ]
        }
      ]
    },
    {
      "cell_type": "code",
      "source": [
        "import os\n",
        "from google.colab import drive\n",
        "\n",
        "drive.mount('/content/drive')\n",
        "\n",
        "os.chdir('/content/drive/My Drive/MIDS-GNN')"
      ],
      "metadata": {
        "colab": {
          "base_uri": "https://localhost:8080/"
        },
        "id": "R3nSfegi1aKd",
        "outputId": "c3001ba4-5b08-46ae-8caf-971213a671d5"
      },
      "execution_count": 9,
      "outputs": [
        {
          "output_type": "stream",
          "name": "stdout",
          "text": [
            "Drive already mounted at /content/drive; to attempt to forcibly remount, call drive.mount(\"/content/drive\", force_remount=True).\n"
          ]
        }
      ]
    },
    {
      "cell_type": "code",
      "source": [
        "import random\n",
        "from pathlib import Path\n",
        "\n",
        "import matplotlib\n",
        "import networkx as nx\n",
        "import torch\n",
        "import torch_geometric.utils as pygUtils\n",
        "import Utilities.utils as utils\n",
        "import yaml\n",
        "from matplotlib import pyplot as plt\n",
        "from torch_geometric.data import InMemoryDataset, download_url, extract_zip\n",
        "from tqdm import tqdm\n",
        "\n",
        "\n",
        "raw_download_url = \"https://github.com/mkrizmancic/MIDS_collection/raw/master/PyTorch%20Geometric/Dataset/raw_data.zip\"\n",
        "\n",
        "\n",
        "class MIDSdataset(InMemoryDataset):\n",
        "    def __init__(self, root, transform=None, pre_transform=None, pre_filter=None, **kwargs):\n",
        "        self.raw_included_subdirs = kwargs.get(\"raw_included_subdirs\", None)\n",
        "\n",
        "        super().__init__(root, transform, pre_transform, pre_filter)\n",
        "\n",
        "        self.data, self.slices = torch.load(self.processed_paths[0])\n",
        "\n",
        "    @property\n",
        "    def raw_file_names(self):\n",
        "        \"\"\"\n",
        "        Return a list of all raw files in the dataset.\n",
        "\n",
        "        This method has two jobs. The returned list with raw files is compared\n",
        "        with the files currently in raw directory. Files that are missing are\n",
        "        automatically downloaded using download method. The second job is to\n",
        "        return the list of raw file names that will be used in the process\n",
        "        method.\n",
        "        \"\"\"\n",
        "        raw_dir = Path(self.raw_dir)\n",
        "        raw_files = []\n",
        "        with open(raw_dir.parent / \"file_list.yaml\", \"r\") as file:\n",
        "            raw_dir_structure = yaml.safe_load(file)\n",
        "            for subdir in raw_dir_structure:\n",
        "                if self.raw_included_subdirs is None or subdir in self.raw_included_subdirs:\n",
        "                    raw_files.extend([f\"{subdir}/{filename}\" for filename in raw_dir_structure[subdir]])\n",
        "\n",
        "        return raw_files\n",
        "\n",
        "    @property\n",
        "    def processed_file_names(self):\n",
        "        \"\"\"\n",
        "        Return a list of all processed files in the dataset.\n",
        "\n",
        "        If a processed file is missing, it will be automatically created using\n",
        "        the process method.\n",
        "\n",
        "        That means that if you want to reprocess the data, you need to delete\n",
        "        the processed files and reimport the dataset.\n",
        "        \"\"\"\n",
        "        # TODO: Automatically detect changes in the dataset.\n",
        "        #       We could come up with a namig scheme that will differentiate\n",
        "        #       which graph families (and/or sizes) and features were used to\n",
        "        #       generate the dataset. This way, we could detect changes and\n",
        "        #       reprocess the dataset when needed.\n",
        "        return [\"data.pt\"]\n",
        "\n",
        "    def download(self):\n",
        "        \"\"\"Automatically download raw files if missing.\"\"\"\n",
        "        # TODO: Should check and download only missing files.\n",
        "\n",
        "        zip_file = Path(self.root) / \"raw_data.zip\"\n",
        "\n",
        "        # Delete the exising zip file.\n",
        "        zip_file.unlink(missing_ok=True)\n",
        "\n",
        "        # Download the raw files using the helper function.\n",
        "        download_url(raw_download_url, self.root, filename=\"raw_data.zip\")\n",
        "\n",
        "        # Unzip the downloaded files.\n",
        "        extract_zip(str(zip_file.resolve()), self.raw_dir)\n",
        "\n",
        "    def process(self):\n",
        "        \"\"\"Process the raw files into a graph dataset.\"\"\"\n",
        "        # Read data into huge `Data` list.\n",
        "        data_list = []\n",
        "        with tqdm(total=len(self.raw_file_names)) as pbar:\n",
        "            for graph_file in self.raw_file_names:\n",
        "                data = self.make_data(Path(self.raw_dir) / graph_file)\n",
        "                data_list.extend(data)\n",
        "                pbar.update(1)\n",
        "\n",
        "        if self.pre_filter is not None:\n",
        "            data_list = [data for data in data_list if self.pre_filter(data)]\n",
        "\n",
        "        if self.pre_transform is not None:\n",
        "            data_list = [self.pre_transform(data) for data in data_list]\n",
        "\n",
        "        data, slices = self.collate(data_list)\n",
        "        torch.save((data, slices), self.processed_paths[0])\n",
        "\n",
        "    def make_data(self, graph_file):\n",
        "        \"\"\"Create a PyG data object from a graph file.\"\"\"\n",
        "        G = nx.read_edgelist(graph_file, nodetype=int)\n",
        "\n",
        "        # Define features in use.\n",
        "        feature_functions = {\n",
        "            \"degree\": G.degree,\n",
        "            \"degree_centrality\": nx.degree_centrality(G),\n",
        "            \"betweenness_centrality\": nx.betweenness_centrality(G)\n",
        "        }\n",
        "\n",
        "        # Compute and add features to the nodes in the graph.\n",
        "        for node in G.nodes():\n",
        "            for feature in feature_functions:\n",
        "                G.nodes[node][feature] = feature_functions[feature][node]\n",
        "\n",
        "        # for node in G.nodes():\n",
        "        #     G.nodes[node][\"degree\"] = G.degree(node)\n",
        "\n",
        "        # degree_cent = nx.degree_centrality(G)\n",
        "        # for node in G.nodes():\n",
        "        #     G.nodes[node][\"degree_centrality\"] = degree_cent[node]\n",
        "\n",
        "        # between_cent = nx.betweenness_centrality(G)\n",
        "        # for node in G.nodes():\n",
        "        #     G.nodes[node][\"betweenness_centrality\"] = between_cent[node]\n",
        "\n",
        "        torch_G = pygUtils.from_networkx(G, group_node_attrs=list(feature_functions.keys()))\n",
        "        true_labels = MIDSdataset.get_labels(utils.find_MIDS(G), G.number_of_nodes())\n",
        "        data = []\n",
        "        for labels in true_labels:\n",
        "            data.append(torch_G.clone())\n",
        "            data[-1].y = labels\n",
        "\n",
        "        return data\n",
        "\n",
        "    @staticmethod\n",
        "    def get_labels(mids, num_nodes):\n",
        "        # Encode found cliques as support vectors.\n",
        "        for i, nodes in enumerate(mids):\n",
        "            mids[i] = torch.zeros(num_nodes)\n",
        "            mids[i][nodes] = 1\n",
        "\n",
        "        return mids\n",
        "\n",
        "    @staticmethod\n",
        "    def visualize_data(data):\n",
        "        G = pygUtils.to_networkx(data, to_undirected=True)\n",
        "        nx.draw(G, with_labels=True, node_color=data.y, cmap=matplotlib.colormaps[\"bwr\"])\n",
        "        plt.show()\n",
        "\n",
        "\n",
        "def inspect_dataset(dataset, num_graphs=1):\n",
        "    for i in random.sample(range(len(dataset)), num_graphs):\n",
        "        data = dataset[i]  # Get a random graph object\n",
        "\n",
        "        print()\n",
        "        print(data)\n",
        "        print(\"=============================================================\")\n",
        "\n",
        "        # Gather some statistics about the first graph.\n",
        "        print(f\"Number of nodes: {data.num_nodes}\")\n",
        "        print(f\"Number of edges: {data.num_edges}\")\n",
        "        print(f\"Average node degree: {data.num_edges / data.num_nodes:.2f}\")\n",
        "        print(f\"Has isolated nodes: {data.has_isolated_nodes()}\")\n",
        "        print(f\"Has self-loops: {data.has_self_loops()}\")\n",
        "        print(f\"Is undirected: {data.is_undirected()}\")\n",
        "\n",
        "        MIDSdataset.visualize_data(data)\n",
        "\n",
        "\n",
        "def main():\n",
        "    root = Path.cwd() / \"Dataset\"\n",
        "    raw_included_subdirs = None\n",
        "\n",
        "    dataset = MIDSdataset(root, raw_included_subdirs=raw_included_subdirs)\n",
        "\n",
        "    print()\n",
        "    print(f\"Dataset: {dataset}:\")\n",
        "    print(\"====================\")\n",
        "    print(f\"Number of graphs: {len(dataset)}\")\n",
        "    print(f\"Number of features: {dataset.num_features}\")\n",
        "    print(f\"Number of classes: {dataset.num_classes}\")\n",
        "\n",
        "    inspect_dataset(dataset, num_graphs=1)\n",
        "\n",
        "\n",
        "if __name__ == \"__main__\":\n",
        "    main()\n"
      ],
      "metadata": {
        "id": "3WKDb_XaEIjY",
        "outputId": "6f409a53-b8f3-44e8-bfcf-f2ee2087c7ab",
        "colab": {
          "base_uri": "https://localhost:8080/",
          "height": 883
        }
      },
      "execution_count": 12,
      "outputs": [
        {
          "output_type": "stream",
          "name": "stderr",
          "text": [
            "Downloading https://github.com/mkrizmancic/MIDS_collection/raw/master/PyTorch%20Geometric/Dataset/raw_data.zip\n",
            "Extracting /content/drive/MyDrive/MIDS-GNN/Dataset/raw_data.zip\n",
            "Processing...\n",
            "100%|██████████| 12111/12111 [01:26<00:00, 140.39it/s]\n",
            "Done!\n"
          ]
        },
        {
          "output_type": "stream",
          "name": "stdout",
          "text": [
            "\n",
            "Dataset: MIDSdataset(40591):\n",
            "====================\n",
            "Number of graphs: 40591\n",
            "Number of features: 3\n",
            "Number of classes: 2\n",
            "\n",
            "Data(edge_index=[2, 24], x=[8, 3], y=[8])\n",
            "=============================================================\n",
            "Number of nodes: 8\n",
            "Number of edges: 24\n",
            "Average node degree: 3.00\n",
            "Has isolated nodes: False\n",
            "Has self-loops: False\n",
            "Is undirected: True\n"
          ]
        },
        {
          "output_type": "display_data",
          "data": {
            "text/plain": [
              "<Figure size 640x480 with 1 Axes>"
            ],
            "image/png": "[encoded data removed]"
          },
          "metadata": {}
        }
      ]
    },
    {
      "cell_type": "code",
      "source": [
        "!rm -rf Dataset/raw/\n",
        "!rm -rf Dataset/processed/"
      ],
      "metadata": {
        "id": "AT4RQxuD9GQ4"
      },
      "execution_count": 46,
      "outputs": []
    },
    {
      "cell_type": "code",
      "source": [
        "!python pyg_dataset.py"
      ],
      "metadata": {
        "colab": {
          "base_uri": "https://localhost:8080/"
        },
        "id": "cri87N9G6ZHH",
        "outputId": "325388b8-95f1-4c49-c1a5-12489bb6aa81"
      },
      "execution_count": 47,
      "outputs": [
        {
          "output_type": "stream",
          "name": "stdout",
          "text": [
            "Downloading https://github.com/mkrizmancic/MIDS_collection/raw/master/PyTorch%20Geometric/Dataset/raw_data.zip\n",
            "Extracting /content/drive/MyDrive/MIDS-GNN/Dataset/raw_data.zip\n",
            "Processing...\n",
            "100% 12111/12111 [01:33<00:00, 129.01it/s]\n",
            "Done!\n",
            "\n",
            "Dataset: MIDSdataset(40591):\n",
            "====================\n",
            "Number of graphs: 40591\n",
            "Number of features: 5\n",
            "Number of classes: 2\n",
            "\n",
            "Data(edge_index=[2, 24], x=[8, 5], y=[8])\n",
            "=============================================================\n",
            "Number of nodes: 8\n",
            "Number of edges: 24\n",
            "Average node degree: 3.00\n",
            "Has isolated nodes: False\n",
            "Has self-loops: False\n",
            "Is undirected: True\n",
            "Figure(640x480)\n"
          ]
        }
      ]
    },
    {
      "cell_type": "markdown",
      "source": [
        "Load dataset"
      ],
      "metadata": {
        "id": "TF8IuIdjBcrR"
      }
    },
    {
      "cell_type": "code",
      "source": [
        "root = Path.cwd() / \"Dataset\"\n",
        "raw_included_subdirs = None\n",
        "\n",
        "dataset = MIDSdataset(root, raw_included_subdirs=raw_included_subdirs)\n",
        "\n",
        "print()\n",
        "print(f\"Dataset: {dataset}:\")\n",
        "print(\"====================\")\n",
        "print(f\"Number of graphs: {len(dataset)}\")\n",
        "print(f\"Number of features: {dataset.num_features}\")\n",
        "print(f\"Number of classes: {dataset.num_classes}\")"
      ],
      "metadata": {
        "id": "zcgfJdNqBdst",
        "colab": {
          "base_uri": "https://localhost:8080/"
        },
        "outputId": "b64612f4-c20a-4f43-b9e4-21c813beaeb4"
      },
      "execution_count": 48,
      "outputs": [
        {
          "output_type": "stream",
          "name": "stdout",
          "text": [
            "\n",
            "Dataset: MIDSdataset(40591):\n",
            "====================\n",
            "Number of graphs: 40591\n",
            "Number of features: 5\n",
            "Number of classes: 2\n"
          ]
        }
      ]
    },
    {
      "cell_type": "code",
      "source": [
        "inspect_dataset(dataset, num_graphs=1)"
      ],
      "metadata": {
        "colab": {
          "base_uri": "https://localhost:8080/",
          "height": 672
        },
        "id": "mPIaOVOXJ_qq",
        "outputId": "a0e64372-d1fe-4649-8078-9d650040d687"
      },
      "execution_count": 49,
      "outputs": [
        {
          "output_type": "stream",
          "name": "stdout",
          "text": [
            "\n",
            "Data(edge_index=[2, 20], x=[8, 5], y=[8])\n",
            "=============================================================\n",
            "Number of nodes: 8\n",
            "Number of edges: 20\n",
            "Average node degree: 2.50\n",
            "Has isolated nodes: False\n",
            "Has self-loops: False\n",
            "Is undirected: True\n"
          ]
        },
        {
          "output_type": "display_data",
          "data": {
            "text/plain": [
              "<Figure size 640x480 with 1 Axes>"
            ],
            "image/png": "[encoded data removed]"
          },
          "metadata": {}
        }
      ]
    },
    {
      "cell_type": "markdown",
      "source": [
        "Split into test and train"
      ],
      "metadata": {
        "id": "wIv4ZvQwKcvG"
      }
    },
    {
      "cell_type": "code",
      "source": [
        "torch.manual_seed(12345)\n",
        "dataset = dataset.shuffle()\n",
        "\n",
        "train_dataset = dataset[:38000]\n",
        "test_dataset = dataset[38000:]\n",
        "\n",
        "print(f'Number of training graphs: {len(train_dataset)}')\n",
        "print(f'Number of test graphs: {len(test_dataset)}')"
      ],
      "metadata": {
        "colab": {
          "base_uri": "https://localhost:8080/"
        },
        "id": "9xeCaRAMKKLj",
        "outputId": "a8cc6192-bc29-4ceb-c227-a3ef0eb93f83"
      },
      "execution_count": 50,
      "outputs": [
        {
          "output_type": "stream",
          "name": "stdout",
          "text": [
            "Number of training graphs: 38000\n",
            "Number of test graphs: 2591\n"
          ]
        }
      ]
    },
    {
      "cell_type": "code",
      "source": [
        "from torch_geometric.loader import DataLoader\n",
        "\n",
        "train_loader = DataLoader(train_dataset, batch_size=1, shuffle=True)\n",
        "test_loader = DataLoader(test_dataset, batch_size=1, shuffle=False)"
      ],
      "metadata": {
        "id": "PfPRovayKrGM"
      },
      "execution_count": 51,
      "outputs": []
    },
    {
      "cell_type": "markdown",
      "source": [
        "Copy/paste GCN"
      ],
      "metadata": {
        "id": "JWfUE0U4MgMN"
      }
    },
    {
      "cell_type": "code",
      "source": [
        "from torch.nn import Linear\n",
        "import torch.nn.functional as F\n",
        "from torch_geometric.nn import GCNConv\n",
        "from torch_geometric.nn import global_mean_pool\n",
        "\n",
        "\n",
        "class GCN(torch.nn.Module):\n",
        "    def __init__(self, hidden_channels):\n",
        "        super().__init__()\n",
        "        torch.manual_seed(1234567)\n",
        "        self.conv1 = GCNConv(dataset.num_features, hidden_channels)\n",
        "        self.conv2 = GCNConv(hidden_channels, hidden_channels)\n",
        "        self.conv3 = GCNConv(hidden_channels, hidden_channels)\n",
        "        self.lin = Linear(hidden_channels, dataset.num_classes)\n",
        "\n",
        "    def forward(self, x, edge_index):\n",
        "        # 1. Obtain node embeddings\n",
        "        x = self.conv1(x, edge_index)\n",
        "        x = x.relu()\n",
        "        x = self.conv2(x, edge_index)\n",
        "        x = x.relu()\n",
        "        x = self.conv3(x, edge_index)\n",
        "\n",
        "        # 2. Readout layer\n",
        "        #x = global_mean_pool(x, batch)  # [batch_size, hidden_channels]\n",
        "\n",
        "        # 3. Apply a final classifier\n",
        "        x = F.dropout(x, p=0.5, training=self.training)\n",
        "        x = self.lin(x)\n",
        "        return x\n",
        "\n",
        "#model = GCN(hidden_channels=128)\n",
        "#print(model)"
      ],
      "metadata": {
        "id": "vLNe1T74Mfdc"
      },
      "execution_count": 52,
      "outputs": []
    },
    {
      "cell_type": "code",
      "source": [
        "from IPython.display import Javascript  # Restrict height of output cell.\n",
        "import numpy as np\n",
        "\n",
        "display(Javascript('''google.colab.output.setIframeHeight(0, true, {maxHeight: 300})'''))\n",
        "\n",
        "model = GCN(hidden_channels=16)\n",
        "optimizer = torch.optim.Adam(model.parameters(), lr=0.01, weight_decay=5e-4)\n",
        "criterion = torch.nn.CrossEntropyLoss()\n",
        "\n",
        "def train():\n",
        "      model.train()\n",
        "\n",
        "      for i, data in enumerate(train_loader):\n",
        "        #if i%100 !=0:\n",
        "        #  continue\n",
        "        out = model(data.x, data.edge_index)  # Perform a single forward pass.\n",
        "        #print(data.y)\n",
        "        #print(out)\n",
        "        #print(data.x)\n",
        "        #a = np.ones((data.x.size(dim=0),2))\n",
        "        #print(a)\n",
        "        #t = torch.from_numpy(a)\n",
        "        #t = t.type(torch.bool)\n",
        "        #train_mask = torch.tensor([1, 1, 1, 0, 0, 0, 0, 0, 0, 0], dtype=torch.bool)\n",
        "        # TODO: check criterion, maybe use different approach for loss function\n",
        "        loss = criterion(out, data.y.type(torch.LongTensor))  # Compute the loss solely based on the training nodes.\n",
        "        loss.backward()  # Derive gradients.\n",
        "        optimizer.step()  # Update parameters based on gradients.\n",
        "        optimizer.zero_grad()  # Clear gradients.\n",
        "\n",
        "def test(loader):\n",
        "      model.eval()\n",
        "      correct = 0\n",
        "      for data in loader:\n",
        "        out = model(data.x, data.edge_index)\n",
        "        pred = out.argmax(dim=1)  # Use the class with highest probability.\n",
        "        #a = np.ones(data.x.size(dim=1))\n",
        "        #train_mask = torch.tensor([1, 1, 1, 0, 0, 0, 0, 0, 0, 0], dtype=torch.bool)\n",
        "        test_correct = pred == data.y  # Check against ground-truth labels.\n",
        "        correct += int(torch.equal(pred,data.y))  # Derive ratio of correct predictions.\n",
        "      return correct/len(loader.dataset)*100\n",
        "\n",
        "\n",
        "for epoch in range(1, 101):\n",
        "    loss = train()\n",
        "    train_acc = test(train_loader)\n",
        "    test_acc = test(test_loader)\n",
        "    print(f'Epoch: {epoch:03d}, Train Acc: {train_acc:.4f}, Test Acc: {test_acc:.4f}')"
      ],
      "metadata": {
        "id": "rBJxnMHaYUIt",
        "colab": {
          "base_uri": "https://localhost:8080/",
          "height": 300
        },
        "outputId": "7e027838-6ff2-4c7a-c5ac-ed7ae5b1b7be"
      },
      "execution_count": 40,
      "outputs": [
        {
          "output_type": "display_data",
          "data": {
            "text/plain": [
              "<IPython.core.display.Javascript object>"
            ],
            "application/javascript": [
              "google.colab.output.setIframeHeight(0, true, {maxHeight: 300})"
            ]
          },
          "metadata": {}
        },
        {
          "output_type": "stream",
          "name": "stdout",
          "text": [
            "Epoch: 001, Train Acc: 0.0000, Test Acc: 0.0000\n"
          ]
        },
        {
          "output_type": "error",
          "ename": "KeyboardInterrupt",
          "evalue": "",
          "traceback": [
            "\u001b[0;31m---------------------------------------------------------------------------\u001b[0m",
            "\u001b[0;31mKeyboardInterrupt\u001b[0m                         Traceback (most recent call last)",
            "\u001b[0;32m<ipython-input-40-214e2fc3cf05>\u001b[0m in \u001b[0;36m<cell line: 44>\u001b[0;34m()\u001b[0m\n\u001b[1;32m     43\u001b[0m \u001b[0;34m\u001b[0m\u001b[0m\n\u001b[1;32m     44\u001b[0m \u001b[0;32mfor\u001b[0m \u001b[0mepoch\u001b[0m \u001b[0;32min\u001b[0m \u001b[0mrange\u001b[0m\u001b[0;34m(\u001b[0m\u001b[0;36m1\u001b[0m\u001b[0;34m,\u001b[0m \u001b[0;36m101\u001b[0m\u001b[0;34m)\u001b[0m\u001b[0;34m:\u001b[0m\u001b[0;34m\u001b[0m\u001b[0;34m\u001b[0m\u001b[0m\n\u001b[0;32m---> 45\u001b[0;31m     \u001b[0mloss\u001b[0m \u001b[0;34m=\u001b[0m \u001b[0mtrain\u001b[0m\u001b[0;34m(\u001b[0m\u001b[0;34m)\u001b[0m\u001b[0;34m\u001b[0m\u001b[0;34m\u001b[0m\u001b[0m\n\u001b[0m\u001b[1;32m     46\u001b[0m     \u001b[0mtrain_acc\u001b[0m \u001b[0;34m=\u001b[0m \u001b[0mtest\u001b[0m\u001b[0;34m(\u001b[0m\u001b[0mtrain_loader\u001b[0m\u001b[0;34m)\u001b[0m\u001b[0;34m\u001b[0m\u001b[0;34m\u001b[0m\u001b[0m\n\u001b[1;32m     47\u001b[0m     \u001b[0mtest_acc\u001b[0m \u001b[0;34m=\u001b[0m \u001b[0mtest\u001b[0m\u001b[0;34m(\u001b[0m\u001b[0mtest_loader\u001b[0m\u001b[0;34m)\u001b[0m\u001b[0;34m\u001b[0m\u001b[0;34m\u001b[0m\u001b[0m\n",
            "\u001b[0;32m<ipython-input-40-214e2fc3cf05>\u001b[0m in \u001b[0;36mtrain\u001b[0;34m()\u001b[0m\n\u001b[1;32m     14\u001b[0m         \u001b[0;31m#if i%100 !=0:\u001b[0m\u001b[0;34m\u001b[0m\u001b[0;34m\u001b[0m\u001b[0m\n\u001b[1;32m     15\u001b[0m         \u001b[0;31m#  continue\u001b[0m\u001b[0;34m\u001b[0m\u001b[0;34m\u001b[0m\u001b[0m\n\u001b[0;32m---> 16\u001b[0;31m         \u001b[0mout\u001b[0m \u001b[0;34m=\u001b[0m \u001b[0mmodel\u001b[0m\u001b[0;34m(\u001b[0m\u001b[0mdata\u001b[0m\u001b[0;34m.\u001b[0m\u001b[0mx\u001b[0m\u001b[0;34m,\u001b[0m \u001b[0mdata\u001b[0m\u001b[0;34m.\u001b[0m\u001b[0medge_index\u001b[0m\u001b[0;34m)\u001b[0m  \u001b[0;31m# Perform a single forward pass.\u001b[0m\u001b[0;34m\u001b[0m\u001b[0;34m\u001b[0m\u001b[0m\n\u001b[0m\u001b[1;32m     17\u001b[0m         \u001b[0;31m#print(data.y)\u001b[0m\u001b[0;34m\u001b[0m\u001b[0;34m\u001b[0m\u001b[0m\n\u001b[1;32m     18\u001b[0m         \u001b[0;31m#print(out)\u001b[0m\u001b[0;34m\u001b[0m\u001b[0;34m\u001b[0m\u001b[0m\n",
            "\u001b[0;32m/usr/local/lib/python3.10/dist-packages/torch/nn/modules/module.py\u001b[0m in \u001b[0;36m_wrapped_call_impl\u001b[0;34m(self, *args, **kwargs)\u001b[0m\n\u001b[1;32m   1509\u001b[0m             \u001b[0;32mreturn\u001b[0m \u001b[0mself\u001b[0m\u001b[0;34m.\u001b[0m\u001b[0m_compiled_call_impl\u001b[0m\u001b[0;34m(\u001b[0m\u001b[0;34m*\u001b[0m\u001b[0margs\u001b[0m\u001b[0;34m,\u001b[0m \u001b[0;34m**\u001b[0m\u001b[0mkwargs\u001b[0m\u001b[0;34m)\u001b[0m  \u001b[0;31m# type: ignore[misc]\u001b[0m\u001b[0;34m\u001b[0m\u001b[0;34m\u001b[0m\u001b[0m\n\u001b[1;32m   1510\u001b[0m         \u001b[0;32melse\u001b[0m\u001b[0;34m:\u001b[0m\u001b[0;34m\u001b[0m\u001b[0;34m\u001b[0m\u001b[0m\n\u001b[0;32m-> 1511\u001b[0;31m             \u001b[0;32mreturn\u001b[0m \u001b[0mself\u001b[0m\u001b[0;34m.\u001b[0m\u001b[0m_call_impl\u001b[0m\u001b[0;34m(\u001b[0m\u001b[0;34m*\u001b[0m\u001b[0margs\u001b[0m\u001b[0;34m,\u001b[0m \u001b[0;34m**\u001b[0m\u001b[0mkwargs\u001b[0m\u001b[0;34m)\u001b[0m\u001b[0;34m\u001b[0m\u001b[0;34m\u001b[0m\u001b[0m\n\u001b[0m\u001b[1;32m   1512\u001b[0m \u001b[0;34m\u001b[0m\u001b[0m\n\u001b[1;32m   1513\u001b[0m     \u001b[0;32mdef\u001b[0m \u001b[0m_call_impl\u001b[0m\u001b[0;34m(\u001b[0m\u001b[0mself\u001b[0m\u001b[0;34m,\u001b[0m \u001b[0;34m*\u001b[0m\u001b[0margs\u001b[0m\u001b[0;34m,\u001b[0m \u001b[0;34m**\u001b[0m\u001b[0mkwargs\u001b[0m\u001b[0;34m)\u001b[0m\u001b[0;34m:\u001b[0m\u001b[0;34m\u001b[0m\u001b[0;34m\u001b[0m\u001b[0m\n",
            "\u001b[0;32m/usr/local/lib/python3.10/dist-packages/torch/nn/modules/module.py\u001b[0m in \u001b[0;36m_call_impl\u001b[0;34m(self, *args, **kwargs)\u001b[0m\n\u001b[1;32m   1518\u001b[0m                 \u001b[0;32mor\u001b[0m \u001b[0m_global_backward_pre_hooks\u001b[0m \u001b[0;32mor\u001b[0m \u001b[0m_global_backward_hooks\u001b[0m\u001b[0;34m\u001b[0m\u001b[0;34m\u001b[0m\u001b[0m\n\u001b[1;32m   1519\u001b[0m                 or _global_forward_hooks or _global_forward_pre_hooks):\n\u001b[0;32m-> 1520\u001b[0;31m             \u001b[0;32mreturn\u001b[0m \u001b[0mforward_call\u001b[0m\u001b[0;34m(\u001b[0m\u001b[0;34m*\u001b[0m\u001b[0margs\u001b[0m\u001b[0;34m,\u001b[0m \u001b[0;34m**\u001b[0m\u001b[0mkwargs\u001b[0m\u001b[0;34m)\u001b[0m\u001b[0;34m\u001b[0m\u001b[0;34m\u001b[0m\u001b[0m\n\u001b[0m\u001b[1;32m   1521\u001b[0m \u001b[0;34m\u001b[0m\u001b[0m\n\u001b[1;32m   1522\u001b[0m         \u001b[0;32mtry\u001b[0m\u001b[0;34m:\u001b[0m\u001b[0;34m\u001b[0m\u001b[0;34m\u001b[0m\u001b[0m\n",
            "\u001b[0;32m<ipython-input-39-08b9bdc5b4fe>\u001b[0m in \u001b[0;36mforward\u001b[0;34m(self, x, edge_index)\u001b[0m\n\u001b[1;32m     20\u001b[0m         \u001b[0mx\u001b[0m \u001b[0;34m=\u001b[0m \u001b[0mself\u001b[0m\u001b[0;34m.\u001b[0m\u001b[0mconv2\u001b[0m\u001b[0;34m(\u001b[0m\u001b[0mx\u001b[0m\u001b[0;34m,\u001b[0m \u001b[0medge_index\u001b[0m\u001b[0;34m)\u001b[0m\u001b[0;34m\u001b[0m\u001b[0;34m\u001b[0m\u001b[0m\n\u001b[1;32m     21\u001b[0m         \u001b[0mx\u001b[0m \u001b[0;34m=\u001b[0m \u001b[0mx\u001b[0m\u001b[0;34m.\u001b[0m\u001b[0mrelu\u001b[0m\u001b[0;34m(\u001b[0m\u001b[0;34m)\u001b[0m\u001b[0;34m\u001b[0m\u001b[0;34m\u001b[0m\u001b[0m\n\u001b[0;32m---> 22\u001b[0;31m         \u001b[0mx\u001b[0m \u001b[0;34m=\u001b[0m \u001b[0mself\u001b[0m\u001b[0;34m.\u001b[0m\u001b[0mconv3\u001b[0m\u001b[0;34m(\u001b[0m\u001b[0mx\u001b[0m\u001b[0;34m,\u001b[0m \u001b[0medge_index\u001b[0m\u001b[0;34m)\u001b[0m\u001b[0;34m\u001b[0m\u001b[0;34m\u001b[0m\u001b[0m\n\u001b[0m\u001b[1;32m     23\u001b[0m \u001b[0;34m\u001b[0m\u001b[0m\n\u001b[1;32m     24\u001b[0m         \u001b[0;31m# 2. Readout layer\u001b[0m\u001b[0;34m\u001b[0m\u001b[0;34m\u001b[0m\u001b[0m\n",
            "\u001b[0;32m/usr/local/lib/python3.10/dist-packages/torch/nn/modules/module.py\u001b[0m in \u001b[0;36m_wrapped_call_impl\u001b[0;34m(self, *args, **kwargs)\u001b[0m\n\u001b[1;32m   1509\u001b[0m             \u001b[0;32mreturn\u001b[0m \u001b[0mself\u001b[0m\u001b[0;34m.\u001b[0m\u001b[0m_compiled_call_impl\u001b[0m\u001b[0;34m(\u001b[0m\u001b[0;34m*\u001b[0m\u001b[0margs\u001b[0m\u001b[0;34m,\u001b[0m \u001b[0;34m**\u001b[0m\u001b[0mkwargs\u001b[0m\u001b[0;34m)\u001b[0m  \u001b[0;31m# type: ignore[misc]\u001b[0m\u001b[0;34m\u001b[0m\u001b[0;34m\u001b[0m\u001b[0m\n\u001b[1;32m   1510\u001b[0m         \u001b[0;32melse\u001b[0m\u001b[0;34m:\u001b[0m\u001b[0;34m\u001b[0m\u001b[0;34m\u001b[0m\u001b[0m\n\u001b[0;32m-> 1511\u001b[0;31m             \u001b[0;32mreturn\u001b[0m \u001b[0mself\u001b[0m\u001b[0;34m.\u001b[0m\u001b[0m_call_impl\u001b[0m\u001b[0;34m(\u001b[0m\u001b[0;34m*\u001b[0m\u001b[0margs\u001b[0m\u001b[0;34m,\u001b[0m \u001b[0;34m**\u001b[0m\u001b[0mkwargs\u001b[0m\u001b[0;34m)\u001b[0m\u001b[0;34m\u001b[0m\u001b[0;34m\u001b[0m\u001b[0m\n\u001b[0m\u001b[1;32m   1512\u001b[0m \u001b[0;34m\u001b[0m\u001b[0m\n\u001b[1;32m   1513\u001b[0m     \u001b[0;32mdef\u001b[0m \u001b[0m_call_impl\u001b[0m\u001b[0;34m(\u001b[0m\u001b[0mself\u001b[0m\u001b[0;34m,\u001b[0m \u001b[0;34m*\u001b[0m\u001b[0margs\u001b[0m\u001b[0;34m,\u001b[0m \u001b[0;34m**\u001b[0m\u001b[0mkwargs\u001b[0m\u001b[0;34m)\u001b[0m\u001b[0;34m:\u001b[0m\u001b[0;34m\u001b[0m\u001b[0;34m\u001b[0m\u001b[0m\n",
            "\u001b[0;32m/usr/local/lib/python3.10/dist-packages/torch/nn/modules/module.py\u001b[0m in \u001b[0;36m_call_impl\u001b[0;34m(self, *args, **kwargs)\u001b[0m\n\u001b[1;32m   1518\u001b[0m                 \u001b[0;32mor\u001b[0m \u001b[0m_global_backward_pre_hooks\u001b[0m \u001b[0;32mor\u001b[0m \u001b[0m_global_backward_hooks\u001b[0m\u001b[0;34m\u001b[0m\u001b[0;34m\u001b[0m\u001b[0m\n\u001b[1;32m   1519\u001b[0m                 or _global_forward_hooks or _global_forward_pre_hooks):\n\u001b[0;32m-> 1520\u001b[0;31m             \u001b[0;32mreturn\u001b[0m \u001b[0mforward_call\u001b[0m\u001b[0;34m(\u001b[0m\u001b[0;34m*\u001b[0m\u001b[0margs\u001b[0m\u001b[0;34m,\u001b[0m \u001b[0;34m**\u001b[0m\u001b[0mkwargs\u001b[0m\u001b[0;34m)\u001b[0m\u001b[0;34m\u001b[0m\u001b[0;34m\u001b[0m\u001b[0m\n\u001b[0m\u001b[1;32m   1521\u001b[0m \u001b[0;34m\u001b[0m\u001b[0m\n\u001b[1;32m   1522\u001b[0m         \u001b[0;32mtry\u001b[0m\u001b[0;34m:\u001b[0m\u001b[0;34m\u001b[0m\u001b[0;34m\u001b[0m\u001b[0m\n",
            "\u001b[0;32m/usr/local/lib/python3.10/dist-packages/torch_geometric/nn/conv/gcn_conv.py\u001b[0m in \u001b[0;36mforward\u001b[0;34m(self, x, edge_index, edge_weight)\u001b[0m\n\u001b[1;32m    261\u001b[0m \u001b[0;34m\u001b[0m\u001b[0m\n\u001b[1;32m    262\u001b[0m         \u001b[0;31m# propagate_type: (x: Tensor, edge_weight: OptTensor)\u001b[0m\u001b[0;34m\u001b[0m\u001b[0;34m\u001b[0m\u001b[0m\n\u001b[0;32m--> 263\u001b[0;31m         \u001b[0mout\u001b[0m \u001b[0;34m=\u001b[0m \u001b[0mself\u001b[0m\u001b[0;34m.\u001b[0m\u001b[0mpropagate\u001b[0m\u001b[0;34m(\u001b[0m\u001b[0medge_index\u001b[0m\u001b[0;34m,\u001b[0m \u001b[0mx\u001b[0m\u001b[0;34m=\u001b[0m\u001b[0mx\u001b[0m\u001b[0;34m,\u001b[0m \u001b[0medge_weight\u001b[0m\u001b[0;34m=\u001b[0m\u001b[0medge_weight\u001b[0m\u001b[0;34m)\u001b[0m\u001b[0;34m\u001b[0m\u001b[0;34m\u001b[0m\u001b[0m\n\u001b[0m\u001b[1;32m    264\u001b[0m \u001b[0;34m\u001b[0m\u001b[0m\n\u001b[1;32m    265\u001b[0m         \u001b[0;32mif\u001b[0m \u001b[0mself\u001b[0m\u001b[0;34m.\u001b[0m\u001b[0mbias\u001b[0m \u001b[0;32mis\u001b[0m \u001b[0;32mnot\u001b[0m \u001b[0;32mNone\u001b[0m\u001b[0;34m:\u001b[0m\u001b[0;34m\u001b[0m\u001b[0;34m\u001b[0m\u001b[0m\n",
            "\u001b[0;32m/tmp/torch_geometric.nn.conv.gcn_conv_GCNConv_propagate_gbt0vl4x.py\u001b[0m in \u001b[0;36mpropagate\u001b[0;34m(self, edge_index, x, edge_weight, size)\u001b[0m\n\u001b[1;32m    235\u001b[0m         \u001b[0;31m# End Aggregate Forward Pre Hook #######################################\u001b[0m\u001b[0;34m\u001b[0m\u001b[0;34m\u001b[0m\u001b[0m\n\u001b[1;32m    236\u001b[0m \u001b[0;34m\u001b[0m\u001b[0m\n\u001b[0;32m--> 237\u001b[0;31m         out = self.aggregate(\n\u001b[0m\u001b[1;32m    238\u001b[0m             \u001b[0mout\u001b[0m\u001b[0;34m,\u001b[0m\u001b[0;34m\u001b[0m\u001b[0;34m\u001b[0m\u001b[0m\n\u001b[1;32m    239\u001b[0m             \u001b[0mindex\u001b[0m\u001b[0;34m=\u001b[0m\u001b[0mkwargs\u001b[0m\u001b[0;34m.\u001b[0m\u001b[0mindex\u001b[0m\u001b[0;34m,\u001b[0m\u001b[0;34m\u001b[0m\u001b[0;34m\u001b[0m\u001b[0m\n",
            "\u001b[0;32m/usr/local/lib/python3.10/dist-packages/torch_geometric/nn/conv/message_passing.py\u001b[0m in \u001b[0;36maggregate\u001b[0;34m(self, inputs, index, ptr, dim_size)\u001b[0m\n\u001b[1;32m    633\u001b[0m         \u001b[0;32mas\u001b[0m \u001b[0mspecified\u001b[0m \u001b[0;32min\u001b[0m \u001b[0;34m:\u001b[0m\u001b[0mmeth\u001b[0m\u001b[0;34m:\u001b[0m\u001b[0;31m`\u001b[0m\u001b[0m__init__\u001b[0m\u001b[0;31m`\u001b[0m \u001b[0mby\u001b[0m \u001b[0mthe\u001b[0m \u001b[0;34m:\u001b[0m\u001b[0mobj\u001b[0m\u001b[0;34m:\u001b[0m\u001b[0;31m`\u001b[0m\u001b[0maggr\u001b[0m\u001b[0;31m`\u001b[0m \u001b[0margument\u001b[0m\u001b[0;34m.\u001b[0m\u001b[0;34m\u001b[0m\u001b[0;34m\u001b[0m\u001b[0m\n\u001b[1;32m    634\u001b[0m         \"\"\"\n\u001b[0;32m--> 635\u001b[0;31m         return self.aggr_module(inputs, index, ptr=ptr, dim_size=dim_size,\n\u001b[0m\u001b[1;32m    636\u001b[0m                                 dim=self.node_dim)\n\u001b[1;32m    637\u001b[0m \u001b[0;34m\u001b[0m\u001b[0m\n",
            "\u001b[0;32m/usr/local/lib/python3.10/dist-packages/torch_geometric/experimental.py\u001b[0m in \u001b[0;36mwrapper\u001b[0;34m(*args, **kwargs)\u001b[0m\n\u001b[1;32m    115\u001b[0m         \u001b[0;32mdef\u001b[0m \u001b[0mwrapper\u001b[0m\u001b[0;34m(\u001b[0m\u001b[0;34m*\u001b[0m\u001b[0margs\u001b[0m\u001b[0;34m:\u001b[0m \u001b[0mAny\u001b[0m\u001b[0;34m,\u001b[0m \u001b[0;34m**\u001b[0m\u001b[0mkwargs\u001b[0m\u001b[0;34m:\u001b[0m \u001b[0mAny\u001b[0m\u001b[0;34m)\u001b[0m \u001b[0;34m->\u001b[0m \u001b[0mAny\u001b[0m\u001b[0;34m:\u001b[0m\u001b[0;34m\u001b[0m\u001b[0;34m\u001b[0m\u001b[0m\n\u001b[1;32m    116\u001b[0m             \u001b[0;32mif\u001b[0m \u001b[0;32mnot\u001b[0m \u001b[0mis_experimental_mode_enabled\u001b[0m\u001b[0;34m(\u001b[0m\u001b[0;34m'disable_dynamic_shapes'\u001b[0m\u001b[0;34m)\u001b[0m\u001b[0;34m:\u001b[0m\u001b[0;34m\u001b[0m\u001b[0;34m\u001b[0m\u001b[0m\n\u001b[0;32m--> 117\u001b[0;31m                 \u001b[0;32mreturn\u001b[0m \u001b[0mfunc\u001b[0m\u001b[0;34m(\u001b[0m\u001b[0;34m*\u001b[0m\u001b[0margs\u001b[0m\u001b[0;34m,\u001b[0m \u001b[0;34m**\u001b[0m\u001b[0mkwargs\u001b[0m\u001b[0;34m)\u001b[0m\u001b[0;34m\u001b[0m\u001b[0;34m\u001b[0m\u001b[0m\n\u001b[0m\u001b[1;32m    118\u001b[0m \u001b[0;34m\u001b[0m\u001b[0m\n\u001b[1;32m    119\u001b[0m             \u001b[0;32mfor\u001b[0m \u001b[0mrequired_arg\u001b[0m \u001b[0;32min\u001b[0m \u001b[0mrequired_args\u001b[0m\u001b[0;34m:\u001b[0m\u001b[0;34m\u001b[0m\u001b[0;34m\u001b[0m\u001b[0m\n",
            "\u001b[0;32m/usr/local/lib/python3.10/dist-packages/torch_geometric/nn/aggr/base.py\u001b[0m in \u001b[0;36m__call__\u001b[0;34m(self, x, index, ptr, dim_size, dim, **kwargs)\u001b[0m\n\u001b[1;32m    101\u001b[0m         \u001b[0;32mpass\u001b[0m\u001b[0;34m\u001b[0m\u001b[0;34m\u001b[0m\u001b[0m\n\u001b[1;32m    102\u001b[0m \u001b[0;34m\u001b[0m\u001b[0m\n\u001b[0;32m--> 103\u001b[0;31m     \u001b[0;34m@\u001b[0m\u001b[0mdisable_dynamic_shapes\u001b[0m\u001b[0;34m(\u001b[0m\u001b[0mrequired_args\u001b[0m\u001b[0;34m=\u001b[0m\u001b[0;34m[\u001b[0m\u001b[0;34m'dim_size'\u001b[0m\u001b[0;34m]\u001b[0m\u001b[0;34m)\u001b[0m\u001b[0;34m\u001b[0m\u001b[0;34m\u001b[0m\u001b[0m\n\u001b[0m\u001b[1;32m    104\u001b[0m     def __call__(\n\u001b[1;32m    105\u001b[0m         \u001b[0mself\u001b[0m\u001b[0;34m,\u001b[0m\u001b[0;34m\u001b[0m\u001b[0;34m\u001b[0m\u001b[0m\n",
            "\u001b[0;31mKeyboardInterrupt\u001b[0m: "
          ]
        }
      ]
    },
    {
      "cell_type": "markdown",
      "source": [
        "Inspired by Pontoizeau et al. - 2021 - Neural Maximum Independent Set.pdf"
      ],
      "metadata": {
        "id": "BFsapS1CdrO0"
      }
    },
    {
      "cell_type": "code",
      "source": [
        "from torch.nn import Linear\n",
        "import torch.nn.functional as F\n",
        "from torch.nn import Conv1d\n",
        "from torch_geometric.nn import GCNConv, GIN, norm\n",
        "from torch_geometric.nn import global_mean_pool\n",
        "\n",
        "\n",
        "class GCN(torch.nn.Module):\n",
        "    def __init__(self, hidden_channels):\n",
        "        super().__init__()\n",
        "        torch.manual_seed(1234567)\n",
        "        self.conv1 = GCNConv(dataset.num_features, hidden_channels)\n",
        "        self.gin = GIN(hidden_channels, hidden_channels, 1, hidden_channels)\n",
        "        self.conv3 = GCNConv(hidden_channels, hidden_channels)\n",
        "        self.lin = Linear(hidden_channels, dataset.num_classes)\n",
        "\n",
        "    def forward(self, x, edge_index):\n",
        "        residual = x\n",
        "        #print(x)\n",
        "        #print(edge_index)\n",
        "        # 1. Obtain node embeddings\n",
        "        x = self.conv1(x, edge_index)\n",
        "        x = x.relu()\n",
        "        #x = norm.BatchNorm(x)\n",
        "        #print(1)\n",
        "        x = self.gin(x, edge_index)\n",
        "        #x = F.dropout(x, p=0.5, training=self.training)\n",
        "       #print(2)\n",
        "        x = x.relu()\n",
        "        #x = norm.BatchNorm(x)\n",
        "        x = self.conv3(x, edge_index)\n",
        "\n",
        "        # 2. Readout layer\n",
        "        #x = global_mean_pool(x, batch)  # [batch_size, hidden_channels]\n",
        "\n",
        "        # 3. Apply a final classifier\n",
        "        #x = F.dropout(x, p=0.5, training=self.training)\n",
        "        x = self.lin(x)\n",
        "        return x\n",
        "\n",
        "#model = GCN(hidden_channels=128)\n",
        "#print(model)"
      ],
      "metadata": {
        "id": "jF0gkqoTdqzL"
      },
      "execution_count": 62,
      "outputs": []
    },
    {
      "cell_type": "code",
      "source": [
        "from IPython.display import Javascript  # Restrict height of output cell.\n",
        "import numpy as np\n",
        "\n",
        "display(Javascript('''google.colab.output.setIframeHeight(0, true, {maxHeight: 300})'''))\n",
        "\n",
        "model = GCN(hidden_channels=128)\n",
        "optimizer = torch.optim.Adam(model.parameters(), lr=0.01, weight_decay=5e-4)\n",
        "criterion = torch.nn.CrossEntropyLoss()\n",
        "#criterion = torch.nn.BCELoss()\n",
        "\n",
        "def train():\n",
        "      model.train()\n",
        "\n",
        "      for i, data in enumerate(train_loader):\n",
        "        #if i%100 !=0:\n",
        "        #  continue\n",
        "        out = model(data.x, data.edge_index)  # Perform a single forward pass.\n",
        "        #print(data.y)\n",
        "        #print(out)\n",
        "        #print(data.x)\n",
        "        #a = np.ones((data.x.size(dim=0),2))\n",
        "        #print(a)\n",
        "        #t = torch.from_numpy(a)\n",
        "        #t = t.type(torch.bool)\n",
        "        #train_mask = torch.tensor([1, 1, 1, 0, 0, 0, 0, 0, 0, 0], dtype=torch.bool)\n",
        "        # TODO: check criterion, maybe use different approach for loss function\n",
        "        loss = criterion(out, data.y.type(torch.LongTensor))  # Compute the loss solely based on the training nodes.\n",
        "        loss.backward()  # Derive gradients.\n",
        "        optimizer.step()  # Update parameters based on gradients.\n",
        "        optimizer.zero_grad()  # Clear gradients.\n",
        "\n",
        "def test(loader):\n",
        "      model.eval()\n",
        "      correct = 0\n",
        "      for data in loader:\n",
        "        out = model(data.x, data.edge_index)\n",
        "        pred = out.argmax(dim=1)  # Use the class with highest probability.\n",
        "        #a = np.ones(data.x.size(dim=1))\n",
        "        #train_mask = torch.tensor([1, 1, 1, 0, 0, 0, 0, 0, 0, 0], dtype=torch.bool)\n",
        "        test_correct = pred == data.y  # Check against ground-truth labels.\n",
        "        correct += int(torch.equal(pred,data.y))  # Derive ratio of correct predictions.\n",
        "      return correct/len(loader.dataset)*100\n",
        "\n",
        "\n",
        "for epoch in range(1, 101):\n",
        "    loss = train()\n",
        "    train_acc = test(train_loader)\n",
        "    test_acc = test(test_loader)\n",
        "    print(f'Epoch: {epoch:03d}, Train Acc: {train_acc:.4f}, Test Acc: {test_acc:.4f}')"
      ],
      "metadata": {
        "colab": {
          "base_uri": "https://localhost:8080/",
          "height": 300
        },
        "id": "FFdTLxCmitgF",
        "outputId": "d0bb26eb-d86e-446e-fbe2-d9319c204290"
      },
      "execution_count": null,
      "outputs": [
        {
          "data": {
            "application/javascript": [
              "google.colab.output.setIframeHeight(0, true, {maxHeight: 300})"
            ],
            "text/plain": [
              "<IPython.core.display.Javascript object>"
            ]
          },
          "metadata": {},
          "output_type": "display_data"
        },
        {
          "output_type": "stream",
          "name": "stdout",
          "text": [
            "Epoch: 001, Train Acc: 0.8868, Test Acc: 0.8105\n",
            "Epoch: 002, Train Acc: 2.5368, Test Acc: 2.5859\n",
            "Epoch: 003, Train Acc: 1.9395, Test Acc: 1.8912\n",
            "Epoch: 004, Train Acc: 3.0105, Test Acc: 2.9332\n",
            "Epoch: 005, Train Acc: 0.8447, Test Acc: 0.7333\n",
            "Epoch: 006, Train Acc: 1.7605, Test Acc: 1.6210\n",
            "Epoch: 007, Train Acc: 3.2342, Test Acc: 3.1648\n",
            "Epoch: 008, Train Acc: 2.6711, Test Acc: 2.7403\n",
            "Epoch: 009, Train Acc: 1.7105, Test Acc: 1.5824\n",
            "Epoch: 010, Train Acc: 0.8053, Test Acc: 0.6175\n",
            "Epoch: 011, Train Acc: 1.4974, Test Acc: 1.4666\n",
            "Epoch: 012, Train Acc: 1.5842, Test Acc: 1.5824\n",
            "Epoch: 013, Train Acc: 2.3342, Test Acc: 2.3157\n",
            "Epoch: 014, Train Acc: 2.0079, Test Acc: 2.1227\n",
            "Epoch: 015, Train Acc: 0.8316, Test Acc: 0.8105\n",
            "Epoch: 016, Train Acc: 4.0368, Test Acc: 4.2069\n",
            "Epoch: 017, Train Acc: 1.1921, Test Acc: 0.9649\n",
            "Epoch: 018, Train Acc: 1.6579, Test Acc: 1.6982\n",
            "Epoch: 019, Train Acc: 3.8789, Test Acc: 4.2841\n",
            "Epoch: 020, Train Acc: 4.8500, Test Acc: 4.7858\n",
            "Epoch: 021, Train Acc: 4.4711, Test Acc: 4.7472\n"
          ]
        }
      ]
    }
  ]
}