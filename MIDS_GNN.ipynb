{
  "nbformat": 4,
  "nbformat_minor": 0,
  "metadata": {
    "colab": {
      "provenance": [],
      "mount_file_id": "1hUKqhtOnX3L9Khi1wpkEzDEUbc-6UnYw",
      "authorship_tag": "ABX9TyMbG1c+z2M1RKspdzLcFICl",
      "include_colab_link": true
    },
    "kernelspec": {
      "name": "python3",
      "display_name": "Python 3"
    },
    "language_info": {
      "name": "python"
    }
  },
  "cells": [
    {
      "cell_type": "markdown",
      "metadata": {
        "id": "view-in-github",
        "colab_type": "text"
      },
      "source": [
        "<a href=\"https://colab.research.google.com/github/mkozlik/MIDS-GNN/blob/main/MIDS_GNN.ipynb\" target=\"_parent\"><img src=\"https://colab.research.google.com/assets/colab-badge.svg\" alt=\"Open In Colab\"/></a>"
      ]
    },
    {
      "cell_type": "markdown",
      "source": [
        "Import and install\n"
      ],
      "metadata": {
        "id": "ISds4F7dBH1D"
      }
    },
    {
      "cell_type": "code",
      "source": [
        "# Install required packages.\n",
        "import os\n",
        "import torch\n",
        "os.environ['TORCH'] = torch.__version__\n",
        "print(torch.__version__)\n",
        "\n",
        "!pip install -q torch-scatter -f https://data.pyg.org/whl/torch-${TORCH}.html\n",
        "!pip install -q torch-sparse -f https://data.pyg.org/whl/torch-${TORCH}.html\n",
        "!pip install -q git+https://github.com/pyg-team/pytorch_geometric.git"
      ],
      "metadata": {
        "colab": {
          "base_uri": "https://localhost:8080/"
        },
        "id": "pYc4D5xfBNKU",
        "outputId": "50d9c22f-befb-434e-9bfe-afeab959f343"
      },
      "execution_count": 3,
      "outputs": [
        {
          "output_type": "stream",
          "name": "stdout",
          "text": [
            "2.2.1+cu121\n",
            "  Installing build dependencies ... \u001b[?25l\u001b[?25hdone\n",
            "  Getting requirements to build wheel ... \u001b[?25l\u001b[?25hdone\n",
            "  Preparing metadata (pyproject.toml) ... \u001b[?25l\u001b[?25hdone\n"
          ]
        }
      ]
    },
    {
      "cell_type": "code",
      "source": [
        "import os\n",
        "from google.colab import drive\n",
        "\n",
        "drive.mount('/content/drive')\n",
        "\n",
        "os.chdir('/content/drive/My Drive/MIDS-GNN')"
      ],
      "metadata": {
        "colab": {
          "base_uri": "https://localhost:8080/"
        },
        "id": "R3nSfegi1aKd",
        "outputId": "ed0e3b32-9687-4a8c-a166-1c1487b0aaab"
      },
      "execution_count": 4,
      "outputs": [
        {
          "output_type": "stream",
          "name": "stdout",
          "text": [
            "Drive already mounted at /content/drive; to attempt to forcibly remount, call drive.mount(\"/content/drive\", force_remount=True).\n"
          ]
        }
      ]
    },
    {
      "cell_type": "code",
      "source": [
        "import random\n",
        "from pathlib import Path\n",
        "\n",
        "import matplotlib\n",
        "import networkx as nx\n",
        "import torch\n",
        "import torch_geometric.utils as pygUtils\n",
        "import Utilities.utils as utils\n",
        "import yaml\n",
        "from matplotlib import pyplot as plt\n",
        "from torch_geometric.data import InMemoryDataset, download_url, extract_zip\n",
        "from tqdm import tqdm\n",
        "import random\n",
        "\n",
        "\n",
        "raw_download_url = \"https://github.com/mkrizmancic/MIDS_collection/raw/master/PyTorch%20Geometric/Dataset/raw_data.zip\"\n",
        "\n",
        "\n",
        "class MIDSdataset(InMemoryDataset):\n",
        "    def __init__(self, root, transform=None, pre_transform=None, pre_filter=None, **kwargs):\n",
        "        self.raw_included_subdirs = kwargs.get(\"raw_included_subdirs\", None)\n",
        "\n",
        "        super().__init__(root, transform, pre_transform, pre_filter)\n",
        "\n",
        "        self.data, self.slices = torch.load(self.processed_paths[0])\n",
        "\n",
        "    @property\n",
        "    def raw_file_names(self):\n",
        "        \"\"\"\n",
        "        Return a list of all raw files in the dataset.\n",
        "\n",
        "        This method has two jobs. The returned list with raw files is compared\n",
        "        with the files currently in raw directory. Files that are missing are\n",
        "        automatically downloaded using download method. The second job is to\n",
        "        return the list of raw file names that will be used in the process\n",
        "        method.\n",
        "        \"\"\"\n",
        "        raw_dir = Path(self.raw_dir)\n",
        "        raw_files = []\n",
        "        with open(raw_dir.parent / \"file_list.yaml\", \"r\") as file:\n",
        "            raw_dir_structure = yaml.safe_load(file)\n",
        "            for subdir in raw_dir_structure:\n",
        "                if self.raw_included_subdirs is None or subdir in self.raw_included_subdirs:\n",
        "                    raw_files.extend([f\"{subdir}/{filename}\" for filename in raw_dir_structure[subdir]])\n",
        "\n",
        "        return raw_files\n",
        "\n",
        "    @property\n",
        "    def processed_file_names(self):\n",
        "        \"\"\"\n",
        "        Return a list of all processed files in the dataset.\n",
        "\n",
        "        If a processed file is missing, it will be automatically created using\n",
        "        the process method.\n",
        "\n",
        "        That means that if you want to reprocess the data, you need to delete\n",
        "        the processed files and reimport the dataset.\n",
        "        \"\"\"\n",
        "        # TODO: Automatically detect changes in the dataset.\n",
        "        #       We could come up with a namig scheme that will differentiate\n",
        "        #       which graph families (and/or sizes) and features were used to\n",
        "        #       generate the dataset. This way, we could detect changes and\n",
        "        #       reprocess the dataset when needed.\n",
        "        return [\"data.pt\"]\n",
        "\n",
        "    def download(self):\n",
        "        \"\"\"Automatically download raw files if missing.\"\"\"\n",
        "        # TODO: Should check and download only missing files.\n",
        "\n",
        "        zip_file = Path(self.root) / \"raw_data.zip\"\n",
        "\n",
        "        # Delete the exising zip file.\n",
        "        zip_file.unlink(missing_ok=True)\n",
        "\n",
        "        # Download the raw files using the helper function.\n",
        "        download_url(raw_download_url, self.root, filename=\"raw_data.zip\")\n",
        "\n",
        "        # Unzip the downloaded files.\n",
        "        extract_zip(str(zip_file.resolve()), self.raw_dir)\n",
        "\n",
        "    def process(self):\n",
        "        \"\"\"Process the raw files into a graph dataset.\"\"\"\n",
        "        # Read data into huge `Data` list.\n",
        "        data_list = []\n",
        "        with tqdm(total=len(self.raw_file_names)) as pbar:\n",
        "            for graph_file in self.raw_file_names:\n",
        "                data = self.make_data(Path(self.raw_dir) / graph_file)\n",
        "                data_list.extend(data)\n",
        "                pbar.update(1)\n",
        "\n",
        "        if self.pre_filter is not None:\n",
        "            data_list = [data for data in data_list if self.pre_filter(data)]\n",
        "\n",
        "        if self.pre_transform is not None:\n",
        "            data_list = [self.pre_transform(data) for data in data_list]\n",
        "\n",
        "        data, slices = self.collate(data_list)\n",
        "        torch.save((data, slices), self.processed_paths[0])\n",
        "\n",
        "    def make_data(self, graph_file):\n",
        "        \"\"\"Create a PyG data object from a graph file.\"\"\"\n",
        "        G = nx.read_edgelist(graph_file, nodetype=int)\n",
        "\n",
        "        # Define features in use.\n",
        "        feature_functions = {\n",
        "            \"degree\": G.degree,\n",
        "            \"degree_centrality\": nx.degree_centrality(G),\n",
        "            \"betweenness_centrality\": nx.betweenness_centrality(G),\n",
        "            \"avg_neighbor_degree\": nx.average_neighbor_degree(G),\n",
        "            \"number_of_cliques\": nx.number_of_cliques(G), # mozda kompleksno\n",
        "        }\n",
        "\n",
        "        # Compute and add features to the nodes in the graph.\n",
        "        #print(\" \")\n",
        "        #print(nx.voterank(G))\n",
        "        for node in G.nodes():\n",
        "            for feature in feature_functions:\n",
        "                #print(f'feature: {feature}')\n",
        "                #print(f'node: {node}')\n",
        "                #print(feature_functions[feature][node])\n",
        "                G.nodes[node][feature] = feature_functions[feature][node]\n",
        "\n",
        "        # for node in G.nodes():\n",
        "        #     G.nodes[node][\"degree\"] = G.degree(node)\n",
        "\n",
        "        # degree_cent = nx.degree_centrality(G)\n",
        "        # for node in G.nodes():\n",
        "        #     G.nodes[node][\"degree_centrality\"] = degree_cent[node]\n",
        "\n",
        "        # between_cent = nx.betweenness_centrality(G)\n",
        "        # for node in G.nodes():\n",
        "        #     G.nodes[node][\"betweenness_centrality\"] = between_cent[node]\n",
        "\n",
        "        torch_G = pygUtils.from_networkx(G, group_node_attrs=list(feature_functions.keys()))\n",
        "        true_labels = MIDSdataset.get_labels(utils.find_MIDS(G), G.number_of_nodes())\n",
        "        data = []\n",
        "        for labels in true_labels:\n",
        "            data.append(torch_G.clone())\n",
        "            data[-1].y = labels\n",
        "\n",
        "        return [data[0]]\n",
        "\n",
        "    @staticmethod\n",
        "    def get_labels(mids, num_nodes):\n",
        "        # Encode found cliques as support vectors.\n",
        "        for i, nodes in enumerate(mids):\n",
        "            mids[i] = torch.zeros(num_nodes)\n",
        "            mids[i][nodes] = 1\n",
        "\n",
        "        return mids\n",
        "\n",
        "    @staticmethod\n",
        "    def visualize_data(data):\n",
        "        G = pygUtils.to_networkx(data, to_undirected=True)\n",
        "        nx.draw(G, with_labels=True, node_color=data.y, cmap=matplotlib.colormaps[\"bwr\"])\n",
        "        plt.show()\n",
        "\n",
        "\n",
        "def inspect_dataset(dataset, num_graphs=1):\n",
        "    for i in random.sample(range(len(dataset)), num_graphs):\n",
        "        data = dataset[i]  # Get a random graph object\n",
        "\n",
        "        print()\n",
        "        print(data)\n",
        "        print(\"=============================================================\")\n",
        "\n",
        "        # Gather some statistics about the first graph.\n",
        "        print(f\"Number of nodes: {data.num_nodes}\")\n",
        "        print(f\"Number of edges: {data.num_edges}\")\n",
        "        print(f\"Average node degree: {data.num_edges / data.num_nodes:.2f}\")\n",
        "        print(f\"Has isolated nodes: {data.has_isolated_nodes()}\")\n",
        "        print(f\"Has self-loops: {data.has_self_loops()}\")\n",
        "        print(f\"Is undirected: {data.is_undirected()}\")\n",
        "\n",
        "        MIDSdataset.visualize_data(data)\n",
        "\n",
        "\n",
        "def main():\n",
        "    root = Path.cwd() / \"Dataset\"\n",
        "    raw_included_subdirs = None\n",
        "\n",
        "    dataset = MIDSdataset(root, raw_included_subdirs=raw_included_subdirs)\n",
        "\n",
        "    print()\n",
        "    print(f\"Dataset: {dataset}:\")\n",
        "    print(\"====================\")\n",
        "    print(f\"Number of graphs: {len(dataset)}\")\n",
        "    print(f\"Number of features: {dataset.num_features}\")\n",
        "    print(f\"Number of classes: {dataset.num_classes}\")\n",
        "\n",
        "    inspect_dataset(dataset, num_graphs=1)\n",
        "\n",
        "\n",
        "if __name__ == \"__main__\":\n",
        "    main()"
      ],
      "metadata": {
        "id": "3WKDb_XaEIjY",
        "outputId": "f8fd460e-90dc-4c11-90ff-81bd1e6a12e8",
        "colab": {
          "base_uri": "https://localhost:8080/",
          "height": 863
        }
      },
      "execution_count": 6,
      "outputs": [
        {
          "output_type": "stream",
          "name": "stderr",
          "text": [
            "Downloading https://github.com/mkrizmancic/MIDS_collection/raw/master/PyTorch%20Geometric/Dataset/raw_data.zip\n",
            "Extracting /content/drive/MyDrive/MIDS-GNN/Dataset/raw_data.zip\n",
            "Processing...\n",
            "100%|██████████| 12111/12111 [01:33<00:00, 129.40it/s]\n",
            "Done!\n"
          ]
        },
        {
          "output_type": "stream",
          "name": "stdout",
          "text": [
            "\n",
            "Dataset: MIDSdataset(12111):\n",
            "====================\n",
            "Number of graphs: 12111\n",
            "Number of features: 5\n",
            "Number of classes: 2\n",
            "\n",
            "Data(edge_index=[2, 34], x=[8, 5], y=[8])\n",
            "=============================================================\n",
            "Number of nodes: 8\n",
            "Number of edges: 34\n",
            "Average node degree: 4.25\n",
            "Has isolated nodes: False\n",
            "Has self-loops: False\n",
            "Is undirected: True\n"
          ]
        },
        {
          "output_type": "display_data",
          "data": {
            "text/plain": [
              "<Figure size 640x480 with 1 Axes>"
            ],
            "image/png": "[encoded data removed]"
          },
          "metadata": {}
        }
      ]
    },
    {
      "cell_type": "code",
      "source": [
        "#!rm -rf Dataset/raw/\n",
        "!rm -rf Dataset/processed/"
      ],
      "metadata": {
        "id": "AT4RQxuD9GQ4"
      },
      "execution_count": 5,
      "outputs": []
    },
    {
      "cell_type": "code",
      "source": [
        "!python pyg_dataset.py"
      ],
      "metadata": {
        "colab": {
          "base_uri": "https://localhost:8080/"
        },
        "id": "cri87N9G6ZHH",
        "outputId": "f1841152-fa67-4ca9-d485-8337de5b4bcf"
      },
      "execution_count": 18,
      "outputs": [
        {
          "output_type": "stream",
          "name": "stdout",
          "text": [
            "Downloading https://github.com/mkrizmancic/MIDS_collection/raw/master/PyTorch%20Geometric/Dataset/raw_data.zip\n",
            "Extracting /content/drive/MyDrive/MIDS-GNN/Dataset/raw_data.zip\n",
            "Processing...\n",
            "100% 12111/12111 [01:26<00:00, 139.80it/s]\n",
            "Done!\n",
            "\n",
            "Dataset: MIDSdataset(40591):\n",
            "====================\n",
            "Number of graphs: 40591\n",
            "Number of features: 5\n",
            "Number of classes: 2\n",
            "\n",
            "Data(edge_index=[2, 34], x=[8, 5], y=[8])\n",
            "=============================================================\n",
            "Number of nodes: 8\n",
            "Number of edges: 34\n",
            "Average node degree: 4.25\n",
            "Has isolated nodes: False\n",
            "Has self-loops: False\n",
            "Is undirected: True\n",
            "Figure(640x480)\n"
          ]
        }
      ]
    },
    {
      "cell_type": "markdown",
      "source": [
        "Load dataset"
      ],
      "metadata": {
        "id": "TF8IuIdjBcrR"
      }
    },
    {
      "cell_type": "code",
      "source": [
        "from pathlib import Path\n",
        "root = Path.cwd() / \"Dataset\"\n",
        "raw_included_subdirs = None\n",
        "\n",
        "dataset = MIDSdataset(root, raw_included_subdirs=raw_included_subdirs)\n",
        "\n",
        "print()\n",
        "print(f\"Dataset: {dataset}:\")\n",
        "print(\"====================\")\n",
        "print(f\"Number of graphs: {len(dataset)}\")\n",
        "print(f\"Number of features: {dataset.num_features}\")\n",
        "print(f\"Number of classes: {dataset.num_classes}\")"
      ],
      "metadata": {
        "id": "zcgfJdNqBdst",
        "colab": {
          "base_uri": "https://localhost:8080/"
        },
        "outputId": "cb31faa0-46db-489f-8812-0f961832970e"
      },
      "execution_count": 7,
      "outputs": [
        {
          "output_type": "stream",
          "name": "stdout",
          "text": [
            "\n",
            "Dataset: MIDSdataset(12111):\n",
            "====================\n",
            "Number of graphs: 12111\n",
            "Number of features: 5\n",
            "Number of classes: 2\n"
          ]
        }
      ]
    },
    {
      "cell_type": "code",
      "source": [
        "inspect_dataset(dataset, num_graphs=1)"
      ],
      "metadata": {
        "colab": {
          "base_uri": "https://localhost:8080/",
          "height": 672
        },
        "id": "mPIaOVOXJ_qq",
        "outputId": "feeae388-887a-4202-923c-9ea417fd09c7"
      },
      "execution_count": 21,
      "outputs": [
        {
          "output_type": "stream",
          "name": "stdout",
          "text": [
            "\n",
            "Data(edge_index=[2, 32], x=[8, 5], y=[8])\n",
            "=============================================================\n",
            "Number of nodes: 8\n",
            "Number of edges: 32\n",
            "Average node degree: 4.00\n",
            "Has isolated nodes: False\n",
            "Has self-loops: False\n",
            "Is undirected: True\n"
          ]
        },
        {
          "output_type": "display_data",
          "data": {
            "text/plain": [
              "<Figure size 640x480 with 1 Axes>"
            ],
            "image/png": "[encoded data removed]"
          },
          "metadata": {}
        }
      ]
    },
    {
      "cell_type": "markdown",
      "source": [
        "Split into test and train"
      ],
      "metadata": {
        "id": "wIv4ZvQwKcvG"
      }
    },
    {
      "cell_type": "code",
      "source": [
        "torch.manual_seed(12345)\n",
        "dataset = dataset.shuffle()\n",
        "\n",
        "train_dataset = dataset[:10000]\n",
        "test_dataset = dataset[10000:]\n",
        "\n",
        "print(f'Number of training graphs: {len(train_dataset)}')\n",
        "print(f'Number of test graphs: {len(test_dataset)}')"
      ],
      "metadata": {
        "colab": {
          "base_uri": "https://localhost:8080/"
        },
        "id": "9xeCaRAMKKLj",
        "outputId": "d9c75070-c3b9-45e4-f08b-b9d452cf1b73"
      },
      "execution_count": 22,
      "outputs": [
        {
          "output_type": "stream",
          "name": "stdout",
          "text": [
            "Number of training graphs: 10000\n",
            "Number of test graphs: 2111\n"
          ]
        }
      ]
    },
    {
      "cell_type": "code",
      "source": [
        "from torch_geometric.loader import DataLoader\n",
        "\n",
        "train_loader = DataLoader(train_dataset, batch_size=1, shuffle=True)\n",
        "test_loader = DataLoader(test_dataset, batch_size=1, shuffle=False)"
      ],
      "metadata": {
        "id": "PfPRovayKrGM"
      },
      "execution_count": 23,
      "outputs": []
    },
    {
      "cell_type": "markdown",
      "source": [
        "Copy/paste GCN"
      ],
      "metadata": {
        "id": "JWfUE0U4MgMN"
      }
    },
    {
      "cell_type": "code",
      "source": [
        "from torch.nn import Linear\n",
        "import torch.nn.functional as F\n",
        "from torch_geometric.nn import GCNConv\n",
        "from torch_geometric.nn import global_mean_pool\n",
        "\n",
        "\n",
        "class GCN(torch.nn.Module):\n",
        "    def __init__(self, hidden_channels):\n",
        "        super().__init__()\n",
        "        torch.manual_seed(1234567)\n",
        "        self.conv1 = GCNConv(dataset.num_features, hidden_channels)\n",
        "        self.conv2 = GCNConv(hidden_channels, hidden_channels)\n",
        "        self.conv3 = GCNConv(hidden_channels, hidden_channels)\n",
        "        self.lin = Linear(hidden_channels, dataset.num_classes)\n",
        "\n",
        "    def forward(self, x, edge_index):\n",
        "        # 1. Obtain node embeddings\n",
        "        x = self.conv1(x, edge_index)\n",
        "        x = x.relu()\n",
        "        x = self.conv2(x, edge_index)\n",
        "        x = x.relu()\n",
        "        x = self.conv3(x, edge_index)\n",
        "\n",
        "        # 2. Readout layer\n",
        "        #x = global_mean_pool(x, batch)  # [batch_size, hidden_channels]\n",
        "\n",
        "        # 3. Apply a final classifier\n",
        "        x = F.dropout(x, p=0.5, training=self.training)\n",
        "        x = self.lin(x)\n",
        "        return x\n",
        "\n",
        "#model = GCN(hidden_channels=128)\n",
        "#print(model)"
      ],
      "metadata": {
        "id": "vLNe1T74Mfdc"
      },
      "execution_count": 52,
      "outputs": []
    },
    {
      "cell_type": "code",
      "source": [
        "from IPython.display import Javascript  # Restrict height of output cell.\n",
        "import numpy as np\n",
        "\n",
        "display(Javascript('''google.colab.output.setIframeHeight(0, true, {maxHeight: 300})'''))\n",
        "\n",
        "model = GCN(hidden_channels=16)\n",
        "optimizer = torch.optim.Adam(model.parameters(), lr=0.01, weight_decay=5e-4)\n",
        "criterion = torch.nn.CrossEntropyLoss()\n",
        "\n",
        "def train():\n",
        "      model.train()\n",
        "\n",
        "      for i, data in enumerate(train_loader):\n",
        "        #if i%100 !=0:\n",
        "        #  continue\n",
        "        out = model(data.x, data.edge_index)  # Perform a single forward pass.\n",
        "        #print(data.y)\n",
        "        #print(out)\n",
        "        #print(data.x)\n",
        "        #a = np.ones((data.x.size(dim=0),2))\n",
        "        #print(a)\n",
        "        #t = torch.from_numpy(a)\n",
        "        #t = t.type(torch.bool)\n",
        "        #train_mask = torch.tensor([1, 1, 1, 0, 0, 0, 0, 0, 0, 0], dtype=torch.bool)\n",
        "        # TODO: check criterion, maybe use different approach for loss function\n",
        "        loss = criterion(out, data.y.type(torch.LongTensor))  # Compute the loss solely based on the training nodes.\n",
        "        loss.backward()  # Derive gradients.\n",
        "        optimizer.step()  # Update parameters based on gradients.\n",
        "        optimizer.zero_grad()  # Clear gradients.\n",
        "\n",
        "def test(loader):\n",
        "      model.eval()\n",
        "      correct = 0\n",
        "      for data in loader:\n",
        "        out = model(data.x, data.edge_index)\n",
        "        pred = out.argmax(dim=1)  # Use the class with highest probability.\n",
        "        #a = np.ones(data.x.size(dim=1))\n",
        "        #train_mask = torch.tensor([1, 1, 1, 0, 0, 0, 0, 0, 0, 0], dtype=torch.bool)\n",
        "        test_correct = pred == data.y  # Check against ground-truth labels.\n",
        "        correct += int(torch.equal(pred,data.y))  # Derive ratio of correct predictions.\n",
        "      return correct/len(loader.dataset)*100\n",
        "\n",
        "\n",
        "for epoch in range(1, 101):\n",
        "    loss = train()\n",
        "    train_acc = test(train_loader)\n",
        "    test_acc = test(test_loader)\n",
        "    print(f'Epoch: {epoch:03d}, Train Acc: {train_acc:.4f}, Test Acc: {test_acc:.4f}')"
      ],
      "metadata": {
        "id": "rBJxnMHaYUIt",
        "colab": {
          "base_uri": "https://localhost:8080/",
          "height": 300
        },
        "outputId": "7e027838-6ff2-4c7a-c5ac-ed7ae5b1b7be"
      },
      "execution_count": 40,
      "outputs": [
        {
          "output_type": "display_data",
          "data": {
            "text/plain": [
              "<IPython.core.display.Javascript object>"
            ],
            "application/javascript": [
              "google.colab.output.setIframeHeight(0, true, {maxHeight: 300})"
            ]
          },
          "metadata": {}
        },
        {
          "output_type": "stream",
          "name": "stdout",
          "text": [
            "Epoch: 001, Train Acc: 0.0000, Test Acc: 0.0000\n"
          ]
        },
        {
          "output_type": "error",
          "ename": "KeyboardInterrupt",
          "evalue": "",
          "traceback": [
            "\u001b[0;31m---------------------------------------------------------------------------\u001b[0m",
            "\u001b[0;31mKeyboardInterrupt\u001b[0m                         Traceback (most recent call last)",
            "\u001b[0;32m<ipython-input-40-214e2fc3cf05>\u001b[0m in \u001b[0;36m<cell line: 44>\u001b[0;34m()\u001b[0m\n\u001b[1;32m     43\u001b[0m \u001b[0;34m\u001b[0m\u001b[0m\n\u001b[1;32m     44\u001b[0m \u001b[0;32mfor\u001b[0m \u001b[0mepoch\u001b[0m \u001b[0;32min\u001b[0m \u001b[0mrange\u001b[0m\u001b[0;34m(\u001b[0m\u001b[0;36m1\u001b[0m\u001b[0;34m,\u001b[0m \u001b[0;36m101\u001b[0m\u001b[0;34m)\u001b[0m\u001b[0;34m:\u001b[0m\u001b[0;34m\u001b[0m\u001b[0;34m\u001b[0m\u001b[0m\n\u001b[0;32m---> 45\u001b[0;31m     \u001b[0mloss\u001b[0m \u001b[0;34m=\u001b[0m \u001b[0mtrain\u001b[0m\u001b[0;34m(\u001b[0m\u001b[0;34m)\u001b[0m\u001b[0;34m\u001b[0m\u001b[0;34m\u001b[0m\u001b[0m\n\u001b[0m\u001b[1;32m     46\u001b[0m     \u001b[0mtrain_acc\u001b[0m \u001b[0;34m=\u001b[0m \u001b[0mtest\u001b[0m\u001b[0;34m(\u001b[0m\u001b[0mtrain_loader\u001b[0m\u001b[0;34m)\u001b[0m\u001b[0;34m\u001b[0m\u001b[0;34m\u001b[0m\u001b[0m\n\u001b[1;32m     47\u001b[0m     \u001b[0mtest_acc\u001b[0m \u001b[0;34m=\u001b[0m \u001b[0mtest\u001b[0m\u001b[0;34m(\u001b[0m\u001b[0mtest_loader\u001b[0m\u001b[0;34m)\u001b[0m\u001b[0;34m\u001b[0m\u001b[0;34m\u001b[0m\u001b[0m\n",
            "\u001b[0;32m<ipython-input-40-214e2fc3cf05>\u001b[0m in \u001b[0;36mtrain\u001b[0;34m()\u001b[0m\n\u001b[1;32m     14\u001b[0m         \u001b[0;31m#if i%100 !=0:\u001b[0m\u001b[0;34m\u001b[0m\u001b[0;34m\u001b[0m\u001b[0m\n\u001b[1;32m     15\u001b[0m         \u001b[0;31m#  continue\u001b[0m\u001b[0;34m\u001b[0m\u001b[0;34m\u001b[0m\u001b[0m\n\u001b[0;32m---> 16\u001b[0;31m         \u001b[0mout\u001b[0m \u001b[0;34m=\u001b[0m \u001b[0mmodel\u001b[0m\u001b[0;34m(\u001b[0m\u001b[0mdata\u001b[0m\u001b[0;34m.\u001b[0m\u001b[0mx\u001b[0m\u001b[0;34m,\u001b[0m \u001b[0mdata\u001b[0m\u001b[0;34m.\u001b[0m\u001b[0medge_index\u001b[0m\u001b[0;34m)\u001b[0m  \u001b[0;31m# Perform a single forward pass.\u001b[0m\u001b[0;34m\u001b[0m\u001b[0;34m\u001b[0m\u001b[0m\n\u001b[0m\u001b[1;32m     17\u001b[0m         \u001b[0;31m#print(data.y)\u001b[0m\u001b[0;34m\u001b[0m\u001b[0;34m\u001b[0m\u001b[0m\n\u001b[1;32m     18\u001b[0m         \u001b[0;31m#print(out)\u001b[0m\u001b[0;34m\u001b[0m\u001b[0;34m\u001b[0m\u001b[0m\n",
            "\u001b[0;32m/usr/local/lib/python3.10/dist-packages/torch/nn/modules/module.py\u001b[0m in \u001b[0;36m_wrapped_call_impl\u001b[0;34m(self, *args, **kwargs)\u001b[0m\n\u001b[1;32m   1509\u001b[0m             \u001b[0;32mreturn\u001b[0m \u001b[0mself\u001b[0m\u001b[0;34m.\u001b[0m\u001b[0m_compiled_call_impl\u001b[0m\u001b[0;34m(\u001b[0m\u001b[0;34m*\u001b[0m\u001b[0margs\u001b[0m\u001b[0;34m,\u001b[0m \u001b[0;34m**\u001b[0m\u001b[0mkwargs\u001b[0m\u001b[0;34m)\u001b[0m  \u001b[0;31m# type: ignore[misc]\u001b[0m\u001b[0;34m\u001b[0m\u001b[0;34m\u001b[0m\u001b[0m\n\u001b[1;32m   1510\u001b[0m         \u001b[0;32melse\u001b[0m\u001b[0;34m:\u001b[0m\u001b[0;34m\u001b[0m\u001b[0;34m\u001b[0m\u001b[0m\n\u001b[0;32m-> 1511\u001b[0;31m             \u001b[0;32mreturn\u001b[0m \u001b[0mself\u001b[0m\u001b[0;34m.\u001b[0m\u001b[0m_call_impl\u001b[0m\u001b[0;34m(\u001b[0m\u001b[0;34m*\u001b[0m\u001b[0margs\u001b[0m\u001b[0;34m,\u001b[0m \u001b[0;34m**\u001b[0m\u001b[0mkwargs\u001b[0m\u001b[0;34m)\u001b[0m\u001b[0;34m\u001b[0m\u001b[0;34m\u001b[0m\u001b[0m\n\u001b[0m\u001b[1;32m   1512\u001b[0m \u001b[0;34m\u001b[0m\u001b[0m\n\u001b[1;32m   1513\u001b[0m     \u001b[0;32mdef\u001b[0m \u001b[0m_call_impl\u001b[0m\u001b[0;34m(\u001b[0m\u001b[0mself\u001b[0m\u001b[0;34m,\u001b[0m \u001b[0;34m*\u001b[0m\u001b[0margs\u001b[0m\u001b[0;34m,\u001b[0m \u001b[0;34m**\u001b[0m\u001b[0mkwargs\u001b[0m\u001b[0;34m)\u001b[0m\u001b[0;34m:\u001b[0m\u001b[0;34m\u001b[0m\u001b[0;34m\u001b[0m\u001b[0m\n",
            "\u001b[0;32m/usr/local/lib/python3.10/dist-packages/torch/nn/modules/module.py\u001b[0m in \u001b[0;36m_call_impl\u001b[0;34m(self, *args, **kwargs)\u001b[0m\n\u001b[1;32m   1518\u001b[0m                 \u001b[0;32mor\u001b[0m \u001b[0m_global_backward_pre_hooks\u001b[0m \u001b[0;32mor\u001b[0m \u001b[0m_global_backward_hooks\u001b[0m\u001b[0;34m\u001b[0m\u001b[0;34m\u001b[0m\u001b[0m\n\u001b[1;32m   1519\u001b[0m                 or _global_forward_hooks or _global_forward_pre_hooks):\n\u001b[0;32m-> 1520\u001b[0;31m             \u001b[0;32mreturn\u001b[0m \u001b[0mforward_call\u001b[0m\u001b[0;34m(\u001b[0m\u001b[0;34m*\u001b[0m\u001b[0margs\u001b[0m\u001b[0;34m,\u001b[0m \u001b[0;34m**\u001b[0m\u001b[0mkwargs\u001b[0m\u001b[0;34m)\u001b[0m\u001b[0;34m\u001b[0m\u001b[0;34m\u001b[0m\u001b[0m\n\u001b[0m\u001b[1;32m   1521\u001b[0m \u001b[0;34m\u001b[0m\u001b[0m\n\u001b[1;32m   1522\u001b[0m         \u001b[0;32mtry\u001b[0m\u001b[0;34m:\u001b[0m\u001b[0;34m\u001b[0m\u001b[0;34m\u001b[0m\u001b[0m\n",
            "\u001b[0;32m<ipython-input-39-08b9bdc5b4fe>\u001b[0m in \u001b[0;36mforward\u001b[0;34m(self, x, edge_index)\u001b[0m\n\u001b[1;32m     20\u001b[0m         \u001b[0mx\u001b[0m \u001b[0;34m=\u001b[0m \u001b[0mself\u001b[0m\u001b[0;34m.\u001b[0m\u001b[0mconv2\u001b[0m\u001b[0;34m(\u001b[0m\u001b[0mx\u001b[0m\u001b[0;34m,\u001b[0m \u001b[0medge_index\u001b[0m\u001b[0;34m)\u001b[0m\u001b[0;34m\u001b[0m\u001b[0;34m\u001b[0m\u001b[0m\n\u001b[1;32m     21\u001b[0m         \u001b[0mx\u001b[0m \u001b[0;34m=\u001b[0m \u001b[0mx\u001b[0m\u001b[0;34m.\u001b[0m\u001b[0mrelu\u001b[0m\u001b[0;34m(\u001b[0m\u001b[0;34m)\u001b[0m\u001b[0;34m\u001b[0m\u001b[0;34m\u001b[0m\u001b[0m\n\u001b[0;32m---> 22\u001b[0;31m         \u001b[0mx\u001b[0m \u001b[0;34m=\u001b[0m \u001b[0mself\u001b[0m\u001b[0;34m.\u001b[0m\u001b[0mconv3\u001b[0m\u001b[0;34m(\u001b[0m\u001b[0mx\u001b[0m\u001b[0;34m,\u001b[0m \u001b[0medge_index\u001b[0m\u001b[0;34m)\u001b[0m\u001b[0;34m\u001b[0m\u001b[0;34m\u001b[0m\u001b[0m\n\u001b[0m\u001b[1;32m     23\u001b[0m \u001b[0;34m\u001b[0m\u001b[0m\n\u001b[1;32m     24\u001b[0m         \u001b[0;31m# 2. Readout layer\u001b[0m\u001b[0;34m\u001b[0m\u001b[0;34m\u001b[0m\u001b[0m\n",
            "\u001b[0;32m/usr/local/lib/python3.10/dist-packages/torch/nn/modules/module.py\u001b[0m in \u001b[0;36m_wrapped_call_impl\u001b[0;34m(self, *args, **kwargs)\u001b[0m\n\u001b[1;32m   1509\u001b[0m             \u001b[0;32mreturn\u001b[0m \u001b[0mself\u001b[0m\u001b[0;34m.\u001b[0m\u001b[0m_compiled_call_impl\u001b[0m\u001b[0;34m(\u001b[0m\u001b[0;34m*\u001b[0m\u001b[0margs\u001b[0m\u001b[0;34m,\u001b[0m \u001b[0;34m**\u001b[0m\u001b[0mkwargs\u001b[0m\u001b[0;34m)\u001b[0m  \u001b[0;31m# type: ignore[misc]\u001b[0m\u001b[0;34m\u001b[0m\u001b[0;34m\u001b[0m\u001b[0m\n\u001b[1;32m   1510\u001b[0m         \u001b[0;32melse\u001b[0m\u001b[0;34m:\u001b[0m\u001b[0;34m\u001b[0m\u001b[0;34m\u001b[0m\u001b[0m\n\u001b[0;32m-> 1511\u001b[0;31m             \u001b[0;32mreturn\u001b[0m \u001b[0mself\u001b[0m\u001b[0;34m.\u001b[0m\u001b[0m_call_impl\u001b[0m\u001b[0;34m(\u001b[0m\u001b[0;34m*\u001b[0m\u001b[0margs\u001b[0m\u001b[0;34m,\u001b[0m \u001b[0;34m**\u001b[0m\u001b[0mkwargs\u001b[0m\u001b[0;34m)\u001b[0m\u001b[0;34m\u001b[0m\u001b[0;34m\u001b[0m\u001b[0m\n\u001b[0m\u001b[1;32m   1512\u001b[0m \u001b[0;34m\u001b[0m\u001b[0m\n\u001b[1;32m   1513\u001b[0m     \u001b[0;32mdef\u001b[0m \u001b[0m_call_impl\u001b[0m\u001b[0;34m(\u001b[0m\u001b[0mself\u001b[0m\u001b[0;34m,\u001b[0m \u001b[0;34m*\u001b[0m\u001b[0margs\u001b[0m\u001b[0;34m,\u001b[0m \u001b[0;34m**\u001b[0m\u001b[0mkwargs\u001b[0m\u001b[0;34m)\u001b[0m\u001b[0;34m:\u001b[0m\u001b[0;34m\u001b[0m\u001b[0;34m\u001b[0m\u001b[0m\n",
            "\u001b[0;32m/usr/local/lib/python3.10/dist-packages/torch/nn/modules/module.py\u001b[0m in \u001b[0;36m_call_impl\u001b[0;34m(self, *args, **kwargs)\u001b[0m\n\u001b[1;32m   1518\u001b[0m                 \u001b[0;32mor\u001b[0m \u001b[0m_global_backward_pre_hooks\u001b[0m \u001b[0;32mor\u001b[0m \u001b[0m_global_backward_hooks\u001b[0m\u001b[0;34m\u001b[0m\u001b[0;34m\u001b[0m\u001b[0m\n\u001b[1;32m   1519\u001b[0m                 or _global_forward_hooks or _global_forward_pre_hooks):\n\u001b[0;32m-> 1520\u001b[0;31m             \u001b[0;32mreturn\u001b[0m \u001b[0mforward_call\u001b[0m\u001b[0;34m(\u001b[0m\u001b[0;34m*\u001b[0m\u001b[0margs\u001b[0m\u001b[0;34m,\u001b[0m \u001b[0;34m**\u001b[0m\u001b[0mkwargs\u001b[0m\u001b[0;34m)\u001b[0m\u001b[0;34m\u001b[0m\u001b[0;34m\u001b[0m\u001b[0m\n\u001b[0m\u001b[1;32m   1521\u001b[0m \u001b[0;34m\u001b[0m\u001b[0m\n\u001b[1;32m   1522\u001b[0m         \u001b[0;32mtry\u001b[0m\u001b[0;34m:\u001b[0m\u001b[0;34m\u001b[0m\u001b[0;34m\u001b[0m\u001b[0m\n",
            "\u001b[0;32m/usr/local/lib/python3.10/dist-packages/torch_geometric/nn/conv/gcn_conv.py\u001b[0m in \u001b[0;36mforward\u001b[0;34m(self, x, edge_index, edge_weight)\u001b[0m\n\u001b[1;32m    261\u001b[0m \u001b[0;34m\u001b[0m\u001b[0m\n\u001b[1;32m    262\u001b[0m         \u001b[0;31m# propagate_type: (x: Tensor, edge_weight: OptTensor)\u001b[0m\u001b[0;34m\u001b[0m\u001b[0;34m\u001b[0m\u001b[0m\n\u001b[0;32m--> 263\u001b[0;31m         \u001b[0mout\u001b[0m \u001b[0;34m=\u001b[0m \u001b[0mself\u001b[0m\u001b[0;34m.\u001b[0m\u001b[0mpropagate\u001b[0m\u001b[0;34m(\u001b[0m\u001b[0medge_index\u001b[0m\u001b[0;34m,\u001b[0m \u001b[0mx\u001b[0m\u001b[0;34m=\u001b[0m\u001b[0mx\u001b[0m\u001b[0;34m,\u001b[0m \u001b[0medge_weight\u001b[0m\u001b[0;34m=\u001b[0m\u001b[0medge_weight\u001b[0m\u001b[0;34m)\u001b[0m\u001b[0;34m\u001b[0m\u001b[0;34m\u001b[0m\u001b[0m\n\u001b[0m\u001b[1;32m    264\u001b[0m \u001b[0;34m\u001b[0m\u001b[0m\n\u001b[1;32m    265\u001b[0m         \u001b[0;32mif\u001b[0m \u001b[0mself\u001b[0m\u001b[0;34m.\u001b[0m\u001b[0mbias\u001b[0m \u001b[0;32mis\u001b[0m \u001b[0;32mnot\u001b[0m \u001b[0;32mNone\u001b[0m\u001b[0;34m:\u001b[0m\u001b[0;34m\u001b[0m\u001b[0;34m\u001b[0m\u001b[0m\n",
            "\u001b[0;32m/tmp/torch_geometric.nn.conv.gcn_conv_GCNConv_propagate_gbt0vl4x.py\u001b[0m in \u001b[0;36mpropagate\u001b[0;34m(self, edge_index, x, edge_weight, size)\u001b[0m\n\u001b[1;32m    235\u001b[0m         \u001b[0;31m# End Aggregate Forward Pre Hook #######################################\u001b[0m\u001b[0;34m\u001b[0m\u001b[0;34m\u001b[0m\u001b[0m\n\u001b[1;32m    236\u001b[0m \u001b[0;34m\u001b[0m\u001b[0m\n\u001b[0;32m--> 237\u001b[0;31m         out = self.aggregate(\n\u001b[0m\u001b[1;32m    238\u001b[0m             \u001b[0mout\u001b[0m\u001b[0;34m,\u001b[0m\u001b[0;34m\u001b[0m\u001b[0;34m\u001b[0m\u001b[0m\n\u001b[1;32m    239\u001b[0m             \u001b[0mindex\u001b[0m\u001b[0;34m=\u001b[0m\u001b[0mkwargs\u001b[0m\u001b[0;34m.\u001b[0m\u001b[0mindex\u001b[0m\u001b[0;34m,\u001b[0m\u001b[0;34m\u001b[0m\u001b[0;34m\u001b[0m\u001b[0m\n",
            "\u001b[0;32m/usr/local/lib/python3.10/dist-packages/torch_geometric/nn/conv/message_passing.py\u001b[0m in \u001b[0;36maggregate\u001b[0;34m(self, inputs, index, ptr, dim_size)\u001b[0m\n\u001b[1;32m    633\u001b[0m         \u001b[0;32mas\u001b[0m \u001b[0mspecified\u001b[0m \u001b[0;32min\u001b[0m \u001b[0;34m:\u001b[0m\u001b[0mmeth\u001b[0m\u001b[0;34m:\u001b[0m\u001b[0;31m`\u001b[0m\u001b[0m__init__\u001b[0m\u001b[0;31m`\u001b[0m \u001b[0mby\u001b[0m \u001b[0mthe\u001b[0m \u001b[0;34m:\u001b[0m\u001b[0mobj\u001b[0m\u001b[0;34m:\u001b[0m\u001b[0;31m`\u001b[0m\u001b[0maggr\u001b[0m\u001b[0;31m`\u001b[0m \u001b[0margument\u001b[0m\u001b[0;34m.\u001b[0m\u001b[0;34m\u001b[0m\u001b[0;34m\u001b[0m\u001b[0m\n\u001b[1;32m    634\u001b[0m         \"\"\"\n\u001b[0;32m--> 635\u001b[0;31m         return self.aggr_module(inputs, index, ptr=ptr, dim_size=dim_size,\n\u001b[0m\u001b[1;32m    636\u001b[0m                                 dim=self.node_dim)\n\u001b[1;32m    637\u001b[0m \u001b[0;34m\u001b[0m\u001b[0m\n",
            "\u001b[0;32m/usr/local/lib/python3.10/dist-packages/torch_geometric/experimental.py\u001b[0m in \u001b[0;36mwrapper\u001b[0;34m(*args, **kwargs)\u001b[0m\n\u001b[1;32m    115\u001b[0m         \u001b[0;32mdef\u001b[0m \u001b[0mwrapper\u001b[0m\u001b[0;34m(\u001b[0m\u001b[0;34m*\u001b[0m\u001b[0margs\u001b[0m\u001b[0;34m:\u001b[0m \u001b[0mAny\u001b[0m\u001b[0;34m,\u001b[0m \u001b[0;34m**\u001b[0m\u001b[0mkwargs\u001b[0m\u001b[0;34m:\u001b[0m \u001b[0mAny\u001b[0m\u001b[0;34m)\u001b[0m \u001b[0;34m->\u001b[0m \u001b[0mAny\u001b[0m\u001b[0;34m:\u001b[0m\u001b[0;34m\u001b[0m\u001b[0;34m\u001b[0m\u001b[0m\n\u001b[1;32m    116\u001b[0m             \u001b[0;32mif\u001b[0m \u001b[0;32mnot\u001b[0m \u001b[0mis_experimental_mode_enabled\u001b[0m\u001b[0;34m(\u001b[0m\u001b[0;34m'disable_dynamic_shapes'\u001b[0m\u001b[0;34m)\u001b[0m\u001b[0;34m:\u001b[0m\u001b[0;34m\u001b[0m\u001b[0;34m\u001b[0m\u001b[0m\n\u001b[0;32m--> 117\u001b[0;31m                 \u001b[0;32mreturn\u001b[0m \u001b[0mfunc\u001b[0m\u001b[0;34m(\u001b[0m\u001b[0;34m*\u001b[0m\u001b[0margs\u001b[0m\u001b[0;34m,\u001b[0m \u001b[0;34m**\u001b[0m\u001b[0mkwargs\u001b[0m\u001b[0;34m)\u001b[0m\u001b[0;34m\u001b[0m\u001b[0;34m\u001b[0m\u001b[0m\n\u001b[0m\u001b[1;32m    118\u001b[0m \u001b[0;34m\u001b[0m\u001b[0m\n\u001b[1;32m    119\u001b[0m             \u001b[0;32mfor\u001b[0m \u001b[0mrequired_arg\u001b[0m \u001b[0;32min\u001b[0m \u001b[0mrequired_args\u001b[0m\u001b[0;34m:\u001b[0m\u001b[0;34m\u001b[0m\u001b[0;34m\u001b[0m\u001b[0m\n",
            "\u001b[0;32m/usr/local/lib/python3.10/dist-packages/torch_geometric/nn/aggr/base.py\u001b[0m in \u001b[0;36m__call__\u001b[0;34m(self, x, index, ptr, dim_size, dim, **kwargs)\u001b[0m\n\u001b[1;32m    101\u001b[0m         \u001b[0;32mpass\u001b[0m\u001b[0;34m\u001b[0m\u001b[0;34m\u001b[0m\u001b[0m\n\u001b[1;32m    102\u001b[0m \u001b[0;34m\u001b[0m\u001b[0m\n\u001b[0;32m--> 103\u001b[0;31m     \u001b[0;34m@\u001b[0m\u001b[0mdisable_dynamic_shapes\u001b[0m\u001b[0;34m(\u001b[0m\u001b[0mrequired_args\u001b[0m\u001b[0;34m=\u001b[0m\u001b[0;34m[\u001b[0m\u001b[0;34m'dim_size'\u001b[0m\u001b[0;34m]\u001b[0m\u001b[0;34m)\u001b[0m\u001b[0;34m\u001b[0m\u001b[0;34m\u001b[0m\u001b[0m\n\u001b[0m\u001b[1;32m    104\u001b[0m     def __call__(\n\u001b[1;32m    105\u001b[0m         \u001b[0mself\u001b[0m\u001b[0;34m,\u001b[0m\u001b[0;34m\u001b[0m\u001b[0;34m\u001b[0m\u001b[0m\n",
            "\u001b[0;31mKeyboardInterrupt\u001b[0m: "
          ]
        }
      ]
    },
    {
      "cell_type": "markdown",
      "source": [
        "Inspired by Pontoizeau et al. - 2021 - Neural Maximum Independent Set.pdf"
      ],
      "metadata": {
        "id": "BFsapS1CdrO0"
      }
    },
    {
      "cell_type": "code",
      "source": [
        "import torch\n",
        "from torch.nn import Linear\n",
        "import torch.nn.functional as F\n",
        "from torch.nn import Conv1d\n",
        "from torch_geometric.nn import GCNConv, GIN, norm\n",
        "from torch_geometric.nn import global_mean_pool\n",
        "\n",
        "\n",
        "class GCN(torch.nn.Module):\n",
        "    def __init__(self, hidden_channels):\n",
        "        super().__init__()\n",
        "        torch.manual_seed(1234567)\n",
        "        self.conv1 = GCNConv(dataset.num_features, hidden_channels)\n",
        "        self.gin = GIN(hidden_channels, hidden_channels, 1, hidden_channels)\n",
        "        self.conv3 = GCNConv(hidden_channels, hidden_channels)\n",
        "        self.lin = Linear(hidden_channels, dataset.num_classes)\n",
        "\n",
        "    def forward(self, x, edge_index, batch):\n",
        "        residual = x\n",
        "        #print(x)\n",
        "        #print(edge_index)\n",
        "        # 1. Obtain node embeddings\n",
        "        x = self.conv1(x, edge_index)\n",
        "        x = x.relu()\n",
        "        #x = norm.BatchNorm(x)\n",
        "        #print(1)\n",
        "        x = self.gin(x, edge_index)\n",
        "        #x = F.dropout(x, p=0.5, training=self.training)\n",
        "       #print(2)\n",
        "        x = x.relu()\n",
        "        #x = norm.BatchNorm(x)\n",
        "        x = self.conv3(x, edge_index)\n",
        "        x = x.relu()\n",
        "         #2. Readout layer\n",
        "        #x = global_mean_pool(x, batch)  # [batch_size, hidden_channels]\n",
        "\n",
        "        # 3. Apply a final classifier\n",
        "        #x = F.dropout(x, p=0.5, training=self.training)\n",
        "        x = self.lin(x)\n",
        "        return x\n",
        "\n",
        "#model = GCN(hidden_channels=128)\n",
        "#print(model)"
      ],
      "metadata": {
        "id": "jF0gkqoTdqzL"
      },
      "execution_count": 44,
      "outputs": []
    },
    {
      "cell_type": "code",
      "source": [
        "from IPython.display import Javascript  # Restrict height of output cell.\n",
        "import numpy as np\n",
        "\n",
        "display(Javascript('''google.colab.output.setIframeHeight(0, true, {maxHeight: 1000})'''))\n",
        "\n",
        "model = GCN(hidden_channels=128)\n",
        "optimizer = torch.optim.Adam(model.parameters(), lr=0.01, weight_decay=5e-4)\n",
        "criterion = torch.nn.CrossEntropyLoss()\n",
        "#criterion = torch.nn.BCELoss()\n",
        "def examine_pred(data, pred):\n",
        "    G = pygUtils.to_networkx(data, to_undirected=True)\n",
        "    nx.draw(G, with_labels=True, node_color=pred, cmap=matplotlib.colormaps[\"bwr\"])\n",
        "    plt.show()\n",
        "    print(f'prediction: {pred}')\n",
        "    print(f'data.y:     {data.y.type(torch.LongTensor)}')\n",
        "\n",
        "\n",
        "def train():\n",
        "      model.train()\n",
        "\n",
        "      for i, data in enumerate(train_loader):\n",
        "        #if i%100 !=0:\n",
        "        #  continue\n",
        "        out = model(data.x, data.edge_index, data.batch)  # Perform a single forward pass.\n",
        "        #print(data.y)\n",
        "        #print(out)\n",
        "        #print(data.x)\n",
        "        #a = np.ones((data.x.size(dim=0),2))\n",
        "        #print(a)\n",
        "        #t = torch.from_numpy(a)\n",
        "        #t = t.type(torch.bool)\n",
        "        #train_mask = torch.tensor([1, 1, 1, 0, 0, 0, 0, 0, 0, 0], dtype=torch.bool)\n",
        "        # TODO: check criterion, maybe use different approach for loss function\n",
        "        #print(out.size())\n",
        "        loss = criterion(out, data.y.type(torch.LongTensor))  # Compute the loss solely based on the training nodes.\n",
        "        loss.backward()  # Derive gradients.\n",
        "        optimizer.step()  # Update parameters based on gradients.\n",
        "        optimizer.zero_grad()  # Clear gradients.\n",
        "\n",
        "def test(loader):\n",
        "      model.eval()\n",
        "      correct = 0\n",
        "      for data in loader:\n",
        "        out = model(data.x, data.edge_index, data.batch)\n",
        "        pred = out.argmax(dim=1)  # Use the class with highest probability.\n",
        "        #a = np.ones(data.x.size(dim=1))\n",
        "        #train_mask = torch.tensor([1, 1, 1, 0, 0, 0, 0, 0, 0, 0], dtype=torch.bool)\n",
        "        test_correct = pred == data.y  # Check against ground-truth labels.\n",
        "        correct += int(torch.equal(pred,data.y.type(torch.LongTensor)))  # Derive ratio of correct predictions.\n",
        "        #if correct == 1 and torch.equal(pred, data.y.type(torch.LongTensor)):\n",
        "          #examine_pred(data, pred)\n",
        "      return correct/len(loader.dataset)*100\n",
        "\n",
        "\n",
        "for epoch in range(1, 101):\n",
        "    loss = train()\n",
        "    train_acc = test(train_loader)\n",
        "    test_acc = test(test_loader)\n",
        "    print(f'Epoch: {epoch:03d}, Train Acc: {train_acc:.4f}, Test Acc: {test_acc:.4f}')"
      ],
      "metadata": {
        "colab": {
          "base_uri": "https://localhost:8080/",
          "height": 208
        },
        "id": "FFdTLxCmitgF",
        "outputId": "63f70c96-4f74-4311-cdf3-da080c567d29"
      },
      "execution_count": null,
      "outputs": [
        {
          "output_type": "display_data",
          "data": {
            "text/plain": [
              "<IPython.core.display.Javascript object>"
            ],
            "application/javascript": [
              "google.colab.output.setIframeHeight(0, true, {maxHeight: 1000})"
            ]
          },
          "metadata": {}
        },
        {
          "output_type": "stream",
          "name": "stdout",
          "text": [
            "Epoch: 001, Train Acc: 7.5800, Test Acc: 8.1952\n",
            "Epoch: 002, Train Acc: 6.7100, Test Acc: 7.1530\n",
            "Epoch: 003, Train Acc: 6.6900, Test Acc: 6.5846\n",
            "Epoch: 004, Train Acc: 6.1700, Test Acc: 5.5898\n",
            "Epoch: 005, Train Acc: 12.4500, Test Acc: 12.6954\n",
            "Epoch: 006, Train Acc: 6.0100, Test Acc: 5.7319\n",
            "Epoch: 007, Train Acc: 6.3600, Test Acc: 5.7319\n",
            "Epoch: 008, Train Acc: 7.0700, Test Acc: 6.6319\n",
            "Epoch: 009, Train Acc: 11.0100, Test Acc: 11.1795\n",
            "Epoch: 010, Train Acc: 12.6700, Test Acc: 12.6480\n",
            "Epoch: 011, Train Acc: 9.9400, Test Acc: 10.4216\n"
          ]
        }
      ]
    },
    {
      "cell_type": "code",
      "source": [],
      "metadata": {
        "id": "fmmmsXR_MG2A"
      },
      "execution_count": null,
      "outputs": []
    },
    {
      "cell_type": "code",
      "source": [],
      "metadata": {
        "id": "89T_GC6sMIkq"
      },
      "execution_count": null,
      "outputs": []
    }
  ]
}