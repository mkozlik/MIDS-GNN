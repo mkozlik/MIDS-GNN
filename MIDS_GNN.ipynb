{
  "nbformat": 4,
  "nbformat_minor": 0,
  "metadata": {
    "colab": {
      "provenance": [],
      "mount_file_id": "1hUKqhtOnX3L9Khi1wpkEzDEUbc-6UnYw",
      "authorship_tag": "ABX9TyO4jI1jtTAL3rvRMP7Z21pm",
      "include_colab_link": true
    },
    "kernelspec": {
      "name": "python3",
      "display_name": "Python 3"
    },
    "language_info": {
      "name": "python"
    }
  },
  "cells": [
    {
      "cell_type": "markdown",
      "metadata": {
        "id": "view-in-github",
        "colab_type": "text"
      },
      "source": [
        "<a href=\"https://colab.research.google.com/github/mkozlik/MIDS-GNN/blob/main/MIDS_GNN.ipynb\" target=\"_parent\"><img src=\"https://colab.research.google.com/assets/colab-badge.svg\" alt=\"Open In Colab\"/></a>"
      ]
    },
    {
      "cell_type": "markdown",
      "source": [
        "Import and install\n"
      ],
      "metadata": {
        "id": "ISds4F7dBH1D"
      }
    },
    {
      "cell_type": "code",
      "source": [
        "# Install required packages.\n",
        "import os\n",
        "import torch\n",
        "os.environ['TORCH'] = torch.__version__\n",
        "print(torch.__version__)\n",
        "\n",
        "!pip install -q torch-scatter -f https://data.pyg.org/whl/torch-${TORCH}.html\n",
        "!pip install -q torch-sparse -f https://data.pyg.org/whl/torch-${TORCH}.html\n",
        "!pip install -q git+https://github.com/pyg-team/pytorch_geometric.git"
      ],
      "metadata": {
        "colab": {
          "base_uri": "https://localhost:8080/"
        },
        "id": "pYc4D5xfBNKU",
        "outputId": "a3577b2c-5503-4023-838f-884e05396a61"
      },
      "execution_count": 12,
      "outputs": [
        {
          "output_type": "stream",
          "name": "stdout",
          "text": [
            "2.2.1+cu121\n",
            "  Installing build dependencies ... \u001b[?25l\u001b[?25hdone\n",
            "  Getting requirements to build wheel ... \u001b[?25l\u001b[?25hdone\n",
            "  Preparing metadata (pyproject.toml) ... \u001b[?25l\u001b[?25hdone\n"
          ]
        }
      ]
    },
    {
      "cell_type": "code",
      "source": [
        "import os\n",
        "from google.colab import drive\n",
        "\n",
        "drive.mount('/content/drive')\n",
        "\n",
        "os.chdir('/content/drive/My Drive/MIDS-GNN')"
      ],
      "metadata": {
        "colab": {
          "base_uri": "https://localhost:8080/"
        },
        "id": "R3nSfegi1aKd",
        "outputId": "16e0b1a9-9cd5-401d-9b49-2bd357e237fd"
      },
      "execution_count": 13,
      "outputs": [
        {
          "output_type": "stream",
          "name": "stdout",
          "text": [
            "Drive already mounted at /content/drive; to attempt to forcibly remount, call drive.mount(\"/content/drive\", force_remount=True).\n"
          ]
        }
      ]
    },
    {
      "cell_type": "code",
      "source": [
        "import random\n",
        "from pathlib import Path\n",
        "\n",
        "import matplotlib\n",
        "import networkx as nx\n",
        "import torch\n",
        "import torch_geometric.utils as pygUtils\n",
        "import Utilities.utils as utils\n",
        "import yaml\n",
        "from matplotlib import pyplot as plt\n",
        "from torch_geometric.data import InMemoryDataset, download_url, extract_zip\n",
        "from tqdm import tqdm\n",
        "import random\n",
        "\n",
        "\n",
        "raw_download_url = \"https://github.com/mkrizmancic/MIDS_collection/raw/master/PyTorch%20Geometric/Dataset/raw_data.zip\"\n",
        "\n",
        "\n",
        "class MIDSdataset(InMemoryDataset):\n",
        "    def __init__(self, root, transform=None, pre_transform=None, pre_filter=None, **kwargs):\n",
        "        self.raw_included_subdirs = kwargs.get(\"raw_included_subdirs\", None)\n",
        "\n",
        "        super().__init__(root, transform, pre_transform, pre_filter)\n",
        "\n",
        "        self.data, self.slices = torch.load(self.processed_paths[0])\n",
        "\n",
        "    @property\n",
        "    def raw_file_names(self):\n",
        "        \"\"\"\n",
        "        Return a list of all raw files in the dataset.\n",
        "\n",
        "        This method has two jobs. The returned list with raw files is compared\n",
        "        with the files currently in raw directory. Files that are missing are\n",
        "        automatically downloaded using download method. The second job is to\n",
        "        return the list of raw file names that will be used in the process\n",
        "        method.\n",
        "        \"\"\"\n",
        "        raw_dir = Path(self.raw_dir)\n",
        "        raw_files = []\n",
        "        with open(raw_dir.parent / \"file_list.yaml\", \"r\") as file:\n",
        "            raw_dir_structure = yaml.safe_load(file)\n",
        "            for subdir in raw_dir_structure:\n",
        "                if self.raw_included_subdirs is None or subdir in self.raw_included_subdirs:\n",
        "                    raw_files.extend([f\"{subdir}/{filename}\" for filename in raw_dir_structure[subdir]])\n",
        "\n",
        "        return raw_files\n",
        "\n",
        "    @property\n",
        "    def processed_file_names(self):\n",
        "        \"\"\"\n",
        "        Return a list of all processed files in the dataset.\n",
        "\n",
        "        If a processed file is missing, it will be automatically created using\n",
        "        the process method.\n",
        "\n",
        "        That means that if you want to reprocess the data, you need to delete\n",
        "        the processed files and reimport the dataset.\n",
        "        \"\"\"\n",
        "        # TODO: Automatically detect changes in the dataset.\n",
        "        #       We could come up with a namig scheme that will differentiate\n",
        "        #       which graph families (and/or sizes) and features were used to\n",
        "        #       generate the dataset. This way, we could detect changes and\n",
        "        #       reprocess the dataset when needed.\n",
        "        return [\"data.pt\"]\n",
        "\n",
        "    def download(self):\n",
        "        \"\"\"Automatically download raw files if missing.\"\"\"\n",
        "        # TODO: Should check and download only missing files.\n",
        "\n",
        "        zip_file = Path(self.root) / \"raw_data.zip\"\n",
        "\n",
        "        # Delete the exising zip file.\n",
        "        zip_file.unlink(missing_ok=True)\n",
        "\n",
        "        # Download the raw files using the helper function.\n",
        "        download_url(raw_download_url, self.root, filename=\"raw_data.zip\")\n",
        "\n",
        "        # Unzip the downloaded files.\n",
        "        extract_zip(str(zip_file.resolve()), self.raw_dir)\n",
        "\n",
        "    def process(self):\n",
        "        \"\"\"Process the raw files into a graph dataset.\"\"\"\n",
        "        # Read data into huge `Data` list.\n",
        "        data_list = []\n",
        "        with tqdm(total=len(self.raw_file_names)) as pbar:\n",
        "            for graph_file in self.raw_file_names:\n",
        "                data = self.make_data(Path(self.raw_dir) / graph_file)\n",
        "                if data:\n",
        "                    data_list.extend(data)\n",
        "                pbar.update(1)\n",
        "\n",
        "        if self.pre_filter is not None:\n",
        "            data_list = [data for data in data_list if self.pre_filter(data)]\n",
        "\n",
        "        if self.pre_transform is not None:\n",
        "            data_list = [self.pre_transform(data) for data in data_list]\n",
        "\n",
        "        data, slices = self.collate(data_list)\n",
        "        torch.save((data, slices), self.processed_paths[0])\n",
        "\n",
        "    def make_data(self, graph_file):\n",
        "        \"\"\"Create a PyG data object from a graph file.\"\"\"\n",
        "        G = nx.read_edgelist(graph_file, nodetype=int)\n",
        "\n",
        "        # Define features in use.\n",
        "        feature_functions = {\n",
        "            \"degree\": G.degree,\n",
        "            \"degree_centrality\": nx.degree_centrality(G),\n",
        "            \"betweenness_centrality\": nx.betweenness_centrality(G),\n",
        "            \"avg_neighbor_degree\": nx.average_neighbor_degree(G),\n",
        "            \"number_of_cliques\": nx.number_of_cliques(G), # mozda kompleksno\n",
        "        }\n",
        "\n",
        "        # Compute and add features to the nodes in the graph.\n",
        "        #print(\" \")\n",
        "        #print(nx.voterank(G))\n",
        "        for node in G.nodes():\n",
        "            for feature in feature_functions:\n",
        "                #print(f'feature: {feature}')\n",
        "                #print(f'node: {node}')\n",
        "                #print(feature_functions[feature][node])\n",
        "                G.nodes[node][feature] = feature_functions[feature][node]\n",
        "\n",
        "        # for node in G.nodes():\n",
        "        #     G.nodes[node][\"degree\"] = G.degree(node)\n",
        "\n",
        "        # degree_cent = nx.degree_centrality(G)\n",
        "        # for node in G.nodes():\n",
        "        #     G.nodes[node][\"degree_centrality\"] = degree_cent[node]\n",
        "\n",
        "        # between_cent = nx.betweenness_centrality(G)\n",
        "        # for node in G.nodes():\n",
        "        #     G.nodes[node][\"betweenness_centrality\"] = between_cent[node]\n",
        "\n",
        "        torch_G = pygUtils.from_networkx(G, group_node_attrs=list(feature_functions.keys()))\n",
        "        true_labels = MIDSdataset.get_labels(utils.find_MIDS(G), G.number_of_nodes())\n",
        "        data = []\n",
        "        if len(true_labels) == 1:\n",
        "            data.append(torch_G.clone())\n",
        "            data[-1].y = true_labels[0]\n",
        "            return data\n",
        "        else:\n",
        "            return 0\n",
        "        for labels in true_labels:\n",
        "            data.append(torch_G.clone())\n",
        "            data[-1].y = labels\n",
        "\n",
        "        return [data[0]]\n",
        "\n",
        "    @staticmethod\n",
        "    def get_labels(mids, num_nodes):\n",
        "        # Encode found cliques as support vectors.\n",
        "        for i, nodes in enumerate(mids):\n",
        "            mids[i] = torch.zeros(num_nodes)\n",
        "            mids[i][nodes] = 1\n",
        "\n",
        "        return mids\n",
        "\n",
        "    @staticmethod\n",
        "    def visualize_data(data):\n",
        "        G = pygUtils.to_networkx(data, to_undirected=True)\n",
        "        nx.draw(G, with_labels=True, node_color=data.y, cmap=matplotlib.colormaps[\"bwr\"])\n",
        "        plt.show()\n",
        "\n",
        "\n",
        "def inspect_dataset(dataset, num_graphs=1):\n",
        "    for i in random.sample(range(len(dataset)), num_graphs):\n",
        "        data = dataset[i]  # Get a random graph object\n",
        "\n",
        "        print()\n",
        "        print(data)\n",
        "        print(\"=============================================================\")\n",
        "\n",
        "        # Gather some statistics about the first graph.\n",
        "        print(f\"Number of nodes: {data.num_nodes}\")\n",
        "        print(f\"Number of edges: {data.num_edges}\")\n",
        "        print(f\"Average node degree: {data.num_edges / data.num_nodes:.2f}\")\n",
        "        print(f\"Has isolated nodes: {data.has_isolated_nodes()}\")\n",
        "        print(f\"Has self-loops: {data.has_self_loops()}\")\n",
        "        print(f\"Is undirected: {data.is_undirected()}\")\n",
        "\n",
        "        MIDSdataset.visualize_data(data)\n",
        "\n",
        "\n",
        "def main():\n",
        "    root = Path.cwd() / \"Dataset\"\n",
        "    raw_included_subdirs = None\n",
        "\n",
        "    dataset = MIDSdataset(root, raw_included_subdirs=raw_included_subdirs)\n",
        "\n",
        "    print()\n",
        "    print(f\"Dataset: {dataset}:\")\n",
        "    print(\"====================\")\n",
        "    print(f\"Number of graphs: {len(dataset)}\")\n",
        "    print(f\"Number of features: {dataset.num_features}\")\n",
        "    print(f\"Number of classes: {dataset.num_classes}\")\n",
        "\n",
        "    inspect_dataset(dataset, num_graphs=1)\n",
        "\n",
        "\n",
        "if __name__ == \"__main__\":\n",
        "    main()"
      ],
      "metadata": {
        "id": "3WKDb_XaEIjY",
        "outputId": "6d06f891-0e84-454c-f028-7077b0866712",
        "colab": {
          "base_uri": "https://localhost:8080/",
          "height": 844
        }
      },
      "execution_count": 15,
      "outputs": [
        {
          "output_type": "stream",
          "name": "stderr",
          "text": [
            "Processing...\n",
            "100%|██████████| 12111/12111 [40:08<00:00,  5.03it/s]\n",
            "Done!\n"
          ]
        },
        {
          "output_type": "stream",
          "name": "stdout",
          "text": [
            "\n",
            "Dataset: MIDSdataset(3171):\n",
            "====================\n",
            "Number of graphs: 3171\n",
            "Number of features: 5\n",
            "Number of classes: 2\n",
            "\n",
            "Data(edge_index=[2, 26], x=[8, 5], y=[8])\n",
            "=============================================================\n",
            "Number of nodes: 8\n",
            "Number of edges: 26\n",
            "Average node degree: 3.25\n",
            "Has isolated nodes: False\n",
            "Has self-loops: False\n",
            "Is undirected: True\n"
          ]
        },
        {
          "output_type": "display_data",
          "data": {
            "text/plain": [
              "<Figure size 640x480 with 1 Axes>"
            ],
            "image/png": "[encoded data removed]"
          },
          "metadata": {}
        }
      ]
    },
    {
      "cell_type": "code",
      "source": [
        "#!rm -rf Dataset/raw/\n",
        "!rm -rf Dataset/processed/"
      ],
      "metadata": {
        "id": "AT4RQxuD9GQ4"
      },
      "execution_count": 14,
      "outputs": []
    },
    {
      "cell_type": "code",
      "source": [
        "!python pyg_dataset.py"
      ],
      "metadata": {
        "colab": {
          "base_uri": "https://localhost:8080/"
        },
        "id": "cri87N9G6ZHH",
        "outputId": "f1841152-fa67-4ca9-d485-8337de5b4bcf"
      },
      "execution_count": null,
      "outputs": [
        {
          "output_type": "stream",
          "name": "stdout",
          "text": [
            "Downloading https://github.com/mkrizmancic/MIDS_collection/raw/master/PyTorch%20Geometric/Dataset/raw_data.zip\n",
            "Extracting /content/drive/MyDrive/MIDS-GNN/Dataset/raw_data.zip\n",
            "Processing...\n",
            "100% 12111/12111 [01:26<00:00, 139.80it/s]\n",
            "Done!\n",
            "\n",
            "Dataset: MIDSdataset(40591):\n",
            "====================\n",
            "Number of graphs: 40591\n",
            "Number of features: 5\n",
            "Number of classes: 2\n",
            "\n",
            "Data(edge_index=[2, 34], x=[8, 5], y=[8])\n",
            "=============================================================\n",
            "Number of nodes: 8\n",
            "Number of edges: 34\n",
            "Average node degree: 4.25\n",
            "Has isolated nodes: False\n",
            "Has self-loops: False\n",
            "Is undirected: True\n",
            "Figure(640x480)\n"
          ]
        }
      ]
    },
    {
      "cell_type": "markdown",
      "source": [
        "Load dataset"
      ],
      "metadata": {
        "id": "TF8IuIdjBcrR"
      }
    },
    {
      "cell_type": "code",
      "source": [
        "from pathlib import Path\n",
        "root = Path.cwd() / \"Dataset\"\n",
        "raw_included_subdirs = None\n",
        "\n",
        "dataset = MIDSdataset(root, raw_included_subdirs=raw_included_subdirs)\n",
        "\n",
        "print()\n",
        "print(f\"Dataset: {dataset}:\")\n",
        "print(\"====================\")\n",
        "print(f\"Number of graphs: {len(dataset)}\")\n",
        "print(f\"Number of features: {dataset.num_features}\")\n",
        "print(f\"Number of classes: {dataset.num_classes}\")"
      ],
      "metadata": {
        "id": "zcgfJdNqBdst",
        "colab": {
          "base_uri": "https://localhost:8080/"
        },
        "outputId": "f91ddcf3-2f70-40db-cf34-0643935c19b8"
      },
      "execution_count": 16,
      "outputs": [
        {
          "output_type": "stream",
          "name": "stdout",
          "text": [
            "\n",
            "Dataset: MIDSdataset(3171):\n",
            "====================\n",
            "Number of graphs: 3171\n",
            "Number of features: 5\n",
            "Number of classes: 2\n"
          ]
        }
      ]
    },
    {
      "cell_type": "code",
      "source": [
        "inspect_dataset(dataset, num_graphs=1)"
      ],
      "metadata": {
        "colab": {
          "base_uri": "https://localhost:8080/",
          "height": 680
        },
        "id": "mPIaOVOXJ_qq",
        "outputId": "2124f62d-4538-48d0-aeff-2c649454c606"
      },
      "execution_count": 17,
      "outputs": [
        {
          "output_type": "stream",
          "name": "stdout",
          "text": [
            "\n",
            "Data(edge_index=[2, 30], x=[8, 5], y=[8])\n",
            "=============================================================\n",
            "Number of nodes: 8\n",
            "Number of edges: 30\n",
            "Average node degree: 3.75\n",
            "Has isolated nodes: False\n",
            "Has self-loops: False\n",
            "Is undirected: True\n"
          ]
        },
        {
          "output_type": "display_data",
          "data": {
            "text/plain": [
              "<Figure size 640x480 with 1 Axes>"
            ],
            "image/png": "[encoded data removed]"
          },
          "metadata": {}
        }
      ]
    },
    {
      "cell_type": "markdown",
      "source": [
        "Split into test and train"
      ],
      "metadata": {
        "id": "wIv4ZvQwKcvG"
      }
    },
    {
      "cell_type": "code",
      "source": [
        "torch.manual_seed(12345)\n",
        "dataset = dataset.shuffle()\n",
        "\n",
        "train_dataset = dataset[:10000]\n",
        "test_dataset = dataset[10000:]\n",
        "\n",
        "print(f'Number of training graphs: {len(train_dataset)}')\n",
        "print(f'Number of test graphs: {len(test_dataset)}')"
      ],
      "metadata": {
        "colab": {
          "base_uri": "https://localhost:8080/"
        },
        "id": "9xeCaRAMKKLj",
        "outputId": "d9c75070-c3b9-45e4-f08b-b9d452cf1b73"
      },
      "execution_count": null,
      "outputs": [
        {
          "output_type": "stream",
          "name": "stdout",
          "text": [
            "Number of training graphs: 10000\n",
            "Number of test graphs: 2111\n"
          ]
        }
      ]
    },
    {
      "cell_type": "code",
      "source": [
        "from torch_geometric.loader import DataLoader\n",
        "\n",
        "train_loader = DataLoader(train_dataset, batch_size=1, shuffle=True)\n",
        "test_loader = DataLoader(test_dataset, batch_size=1, shuffle=False)"
      ],
      "metadata": {
        "id": "PfPRovayKrGM"
      },
      "execution_count": null,
      "outputs": []
    },
    {
      "cell_type": "markdown",
      "source": [
        "Copy/paste GCN"
      ],
      "metadata": {
        "id": "JWfUE0U4MgMN"
      }
    },
    {
      "cell_type": "code",
      "source": [
        "from torch.nn import Linear\n",
        "import torch.nn.functional as F\n",
        "from torch_geometric.nn import GCNConv\n",
        "from torch_geometric.nn import global_mean_pool\n",
        "\n",
        "\n",
        "class GCN(torch.nn.Module):\n",
        "    def __init__(self, hidden_channels):\n",
        "        super().__init__()\n",
        "        torch.manual_seed(1234567)\n",
        "        self.conv1 = GCNConv(dataset.num_features, hidden_channels)\n",
        "        self.conv2 = GCNConv(hidden_channels, hidden_channels)\n",
        "        self.conv3 = GCNConv(hidden_channels, hidden_channels)\n",
        "        self.lin = Linear(hidden_channels, dataset.num_classes)\n",
        "\n",
        "    def forward(self, x, edge_index):\n",
        "        # 1. Obtain node embeddings\n",
        "        x = self.conv1(x, edge_index)\n",
        "        x = x.relu()\n",
        "        x = self.conv2(x, edge_index)\n",
        "        x = x.relu()\n",
        "        x = self.conv3(x, edge_index)\n",
        "\n",
        "        # 2. Readout layer\n",
        "        #x = global_mean_pool(x, batch)  # [batch_size, hidden_channels]\n",
        "\n",
        "        # 3. Apply a final classifier\n",
        "        x = F.dropout(x, p=0.5, training=self.training)\n",
        "        x = self.lin(x)\n",
        "        return x\n",
        "\n",
        "#model = GCN(hidden_channels=128)\n",
        "#print(model)"
      ],
      "metadata": {
        "id": "vLNe1T74Mfdc"
      },
      "execution_count": null,
      "outputs": []
    },
    {
      "cell_type": "code",
      "source": [
        "from IPython.display import Javascript  # Restrict height of output cell.\n",
        "import numpy as np\n",
        "\n",
        "display(Javascript('''google.colab.output.setIframeHeight(0, true, {maxHeight: 300})'''))\n",
        "\n",
        "model = GCN(hidden_channels=16)\n",
        "optimizer = torch.optim.Adam(model.parameters(), lr=0.01, weight_decay=5e-4)\n",
        "criterion = torch.nn.CrossEntropyLoss()\n",
        "\n",
        "def train():\n",
        "      model.train()\n",
        "\n",
        "      for i, data in enumerate(train_loader):\n",
        "        #if i%100 !=0:\n",
        "        #  continue\n",
        "        out = model(data.x, data.edge_index)  # Perform a single forward pass.\n",
        "        #print(data.y)\n",
        "        #print(out)\n",
        "        #print(data.x)\n",
        "        #a = np.ones((data.x.size(dim=0),2))\n",
        "        #print(a)\n",
        "        #t = torch.from_numpy(a)\n",
        "        #t = t.type(torch.bool)\n",
        "        #train_mask = torch.tensor([1, 1, 1, 0, 0, 0, 0, 0, 0, 0], dtype=torch.bool)\n",
        "        # TODO: check criterion, maybe use different approach for loss function\n",
        "        loss = criterion(out, data.y.type(torch.LongTensor))  # Compute the loss solely based on the training nodes.\n",
        "        loss.backward()  # Derive gradients.\n",
        "        optimizer.step()  # Update parameters based on gradients.\n",
        "        optimizer.zero_grad()  # Clear gradients.\n",
        "\n",
        "def test(loader):\n",
        "      model.eval()\n",
        "      correct = 0\n",
        "      for data in loader:\n",
        "        out = model(data.x, data.edge_index)\n",
        "        pred = out.argmax(dim=1)  # Use the class with highest probability.\n",
        "        #a = np.ones(data.x.size(dim=1))\n",
        "        #train_mask = torch.tensor([1, 1, 1, 0, 0, 0, 0, 0, 0, 0], dtype=torch.bool)\n",
        "        test_correct = pred == data.y  # Check against ground-truth labels.\n",
        "        correct += int(torch.equal(pred,data.y))  # Derive ratio of correct predictions.\n",
        "      return correct/len(loader.dataset)*100\n",
        "\n",
        "\n",
        "for epoch in range(1, 101):\n",
        "    loss = train()\n",
        "    train_acc = test(train_loader)\n",
        "    test_acc = test(test_loader)\n",
        "    print(f'Epoch: {epoch:03d}, Train Acc: {train_acc:.4f}, Test Acc: {test_acc:.4f}')"
      ],
      "metadata": {
        "id": "rBJxnMHaYUIt",
        "colab": {
          "base_uri": "https://localhost:8080/",
          "height": 300
        },
        "outputId": "7e027838-6ff2-4c7a-c5ac-ed7ae5b1b7be"
      },
      "execution_count": null,
      "outputs": [
        {
          "output_type": "display_data",
          "data": {
            "text/plain": [
              "<IPython.core.display.Javascript object>"
            ],
            "application/javascript": [
              "google.colab.output.setIframeHeight(0, true, {maxHeight: 300})"
            ]
          },
          "metadata": {}
        },
        {
          "output_type": "stream",
          "name": "stdout",
          "text": [
            "Epoch: 001, Train Acc: 0.0000, Test Acc: 0.0000\n"
          ]
        },
        {
          "output_type": "error",
          "ename": "KeyboardInterrupt",
          "evalue": "",
          "traceback": [
            "\u001b[0;31m---------------------------------------------------------------------------\u001b[0m",
            "\u001b[0;31mKeyboardInterrupt\u001b[0m                         Traceback (most recent call last)",
            "\u001b[0;32m<ipython-input-40-214e2fc3cf05>\u001b[0m in \u001b[0;36m<cell line: 44>\u001b[0;34m()\u001b[0m\n\u001b[1;32m     43\u001b[0m \u001b[0;34m\u001b[0m\u001b[0m\n\u001b[1;32m     44\u001b[0m \u001b[0;32mfor\u001b[0m \u001b[0mepoch\u001b[0m \u001b[0;32min\u001b[0m \u001b[0mrange\u001b[0m\u001b[0;34m(\u001b[0m\u001b[0;36m1\u001b[0m\u001b[0;34m,\u001b[0m \u001b[0;36m101\u001b[0m\u001b[0;34m)\u001b[0m\u001b[0;34m:\u001b[0m\u001b[0;34m\u001b[0m\u001b[0;34m\u001b[0m\u001b[0m\n\u001b[0;32m---> 45\u001b[0;31m     \u001b[0mloss\u001b[0m \u001b[0;34m=\u001b[0m \u001b[0mtrain\u001b[0m\u001b[0;34m(\u001b[0m\u001b[0;34m)\u001b[0m\u001b[0;34m\u001b[0m\u001b[0;34m\u001b[0m\u001b[0m\n\u001b[0m\u001b[1;32m     46\u001b[0m     \u001b[0mtrain_acc\u001b[0m \u001b[0;34m=\u001b[0m \u001b[0mtest\u001b[0m\u001b[0;34m(\u001b[0m\u001b[0mtrain_loader\u001b[0m\u001b[0;34m)\u001b[0m\u001b[0;34m\u001b[0m\u001b[0;34m\u001b[0m\u001b[0m\n\u001b[1;32m     47\u001b[0m     \u001b[0mtest_acc\u001b[0m \u001b[0;34m=\u001b[0m \u001b[0mtest\u001b[0m\u001b[0;34m(\u001b[0m\u001b[0mtest_loader\u001b[0m\u001b[0;34m)\u001b[0m\u001b[0;34m\u001b[0m\u001b[0;34m\u001b[0m\u001b[0m\n",
            "\u001b[0;32m<ipython-input-40-214e2fc3cf05>\u001b[0m in \u001b[0;36mtrain\u001b[0;34m()\u001b[0m\n\u001b[1;32m     14\u001b[0m         \u001b[0;31m#if i%100 !=0:\u001b[0m\u001b[0;34m\u001b[0m\u001b[0;34m\u001b[0m\u001b[0m\n\u001b[1;32m     15\u001b[0m         \u001b[0;31m#  continue\u001b[0m\u001b[0;34m\u001b[0m\u001b[0;34m\u001b[0m\u001b[0m\n\u001b[0;32m---> 16\u001b[0;31m         \u001b[0mout\u001b[0m \u001b[0;34m=\u001b[0m \u001b[0mmodel\u001b[0m\u001b[0;34m(\u001b[0m\u001b[0mdata\u001b[0m\u001b[0;34m.\u001b[0m\u001b[0mx\u001b[0m\u001b[0;34m,\u001b[0m \u001b[0mdata\u001b[0m\u001b[0;34m.\u001b[0m\u001b[0medge_index\u001b[0m\u001b[0;34m)\u001b[0m  \u001b[0;31m# Perform a single forward pass.\u001b[0m\u001b[0;34m\u001b[0m\u001b[0;34m\u001b[0m\u001b[0m\n\u001b[0m\u001b[1;32m     17\u001b[0m         \u001b[0;31m#print(data.y)\u001b[0m\u001b[0;34m\u001b[0m\u001b[0;34m\u001b[0m\u001b[0m\n\u001b[1;32m     18\u001b[0m         \u001b[0;31m#print(out)\u001b[0m\u001b[0;34m\u001b[0m\u001b[0;34m\u001b[0m\u001b[0m\n",
            "\u001b[0;32m/usr/local/lib/python3.10/dist-packages/torch/nn/modules/module.py\u001b[0m in \u001b[0;36m_wrapped_call_impl\u001b[0;34m(self, *args, **kwargs)\u001b[0m\n\u001b[1;32m   1509\u001b[0m             \u001b[0;32mreturn\u001b[0m \u001b[0mself\u001b[0m\u001b[0;34m.\u001b[0m\u001b[0m_compiled_call_impl\u001b[0m\u001b[0;34m(\u001b[0m\u001b[0;34m*\u001b[0m\u001b[0margs\u001b[0m\u001b[0;34m,\u001b[0m \u001b[0;34m**\u001b[0m\u001b[0mkwargs\u001b[0m\u001b[0;34m)\u001b[0m  \u001b[0;31m# type: ignore[misc]\u001b[0m\u001b[0;34m\u001b[0m\u001b[0;34m\u001b[0m\u001b[0m\n\u001b[1;32m   1510\u001b[0m         \u001b[0;32melse\u001b[0m\u001b[0;34m:\u001b[0m\u001b[0;34m\u001b[0m\u001b[0;34m\u001b[0m\u001b[0m\n\u001b[0;32m-> 1511\u001b[0;31m             \u001b[0;32mreturn\u001b[0m \u001b[0mself\u001b[0m\u001b[0;34m.\u001b[0m\u001b[0m_call_impl\u001b[0m\u001b[0;34m(\u001b[0m\u001b[0;34m*\u001b[0m\u001b[0margs\u001b[0m\u001b[0;34m,\u001b[0m \u001b[0;34m**\u001b[0m\u001b[0mkwargs\u001b[0m\u001b[0;34m)\u001b[0m\u001b[0;34m\u001b[0m\u001b[0;34m\u001b[0m\u001b[0m\n\u001b[0m\u001b[1;32m   1512\u001b[0m \u001b[0;34m\u001b[0m\u001b[0m\n\u001b[1;32m   1513\u001b[0m     \u001b[0;32mdef\u001b[0m \u001b[0m_call_impl\u001b[0m\u001b[0;34m(\u001b[0m\u001b[0mself\u001b[0m\u001b[0;34m,\u001b[0m \u001b[0;34m*\u001b[0m\u001b[0margs\u001b[0m\u001b[0;34m,\u001b[0m \u001b[0;34m**\u001b[0m\u001b[0mkwargs\u001b[0m\u001b[0;34m)\u001b[0m\u001b[0;34m:\u001b[0m\u001b[0;34m\u001b[0m\u001b[0;34m\u001b[0m\u001b[0m\n",
            "\u001b[0;32m/usr/local/lib/python3.10/dist-packages/torch/nn/modules/module.py\u001b[0m in \u001b[0;36m_call_impl\u001b[0;34m(self, *args, **kwargs)\u001b[0m\n\u001b[1;32m   1518\u001b[0m                 \u001b[0;32mor\u001b[0m \u001b[0m_global_backward_pre_hooks\u001b[0m \u001b[0;32mor\u001b[0m \u001b[0m_global_backward_hooks\u001b[0m\u001b[0;34m\u001b[0m\u001b[0;34m\u001b[0m\u001b[0m\n\u001b[1;32m   1519\u001b[0m                 or _global_forward_hooks or _global_forward_pre_hooks):\n\u001b[0;32m-> 1520\u001b[0;31m             \u001b[0;32mreturn\u001b[0m \u001b[0mforward_call\u001b[0m\u001b[0;34m(\u001b[0m\u001b[0;34m*\u001b[0m\u001b[0margs\u001b[0m\u001b[0;34m,\u001b[0m \u001b[0;34m**\u001b[0m\u001b[0mkwargs\u001b[0m\u001b[0;34m)\u001b[0m\u001b[0;34m\u001b[0m\u001b[0;34m\u001b[0m\u001b[0m\n\u001b[0m\u001b[1;32m   1521\u001b[0m \u001b[0;34m\u001b[0m\u001b[0m\n\u001b[1;32m   1522\u001b[0m         \u001b[0;32mtry\u001b[0m\u001b[0;34m:\u001b[0m\u001b[0;34m\u001b[0m\u001b[0;34m\u001b[0m\u001b[0m\n",
            "\u001b[0;32m<ipython-input-39-08b9bdc5b4fe>\u001b[0m in \u001b[0;36mforward\u001b[0;34m(self, x, edge_index)\u001b[0m\n\u001b[1;32m     20\u001b[0m         \u001b[0mx\u001b[0m \u001b[0;34m=\u001b[0m \u001b[0mself\u001b[0m\u001b[0;34m.\u001b[0m\u001b[0mconv2\u001b[0m\u001b[0;34m(\u001b[0m\u001b[0mx\u001b[0m\u001b[0;34m,\u001b[0m \u001b[0medge_index\u001b[0m\u001b[0;34m)\u001b[0m\u001b[0;34m\u001b[0m\u001b[0;34m\u001b[0m\u001b[0m\n\u001b[1;32m     21\u001b[0m         \u001b[0mx\u001b[0m \u001b[0;34m=\u001b[0m \u001b[0mx\u001b[0m\u001b[0;34m.\u001b[0m\u001b[0mrelu\u001b[0m\u001b[0;34m(\u001b[0m\u001b[0;34m)\u001b[0m\u001b[0;34m\u001b[0m\u001b[0;34m\u001b[0m\u001b[0m\n\u001b[0;32m---> 22\u001b[0;31m         \u001b[0mx\u001b[0m \u001b[0;34m=\u001b[0m \u001b[0mself\u001b[0m\u001b[0;34m.\u001b[0m\u001b[0mconv3\u001b[0m\u001b[0;34m(\u001b[0m\u001b[0mx\u001b[0m\u001b[0;34m,\u001b[0m \u001b[0medge_index\u001b[0m\u001b[0;34m)\u001b[0m\u001b[0;34m\u001b[0m\u001b[0;34m\u001b[0m\u001b[0m\n\u001b[0m\u001b[1;32m     23\u001b[0m \u001b[0;34m\u001b[0m\u001b[0m\n\u001b[1;32m     24\u001b[0m         \u001b[0;31m# 2. Readout layer\u001b[0m\u001b[0;34m\u001b[0m\u001b[0;34m\u001b[0m\u001b[0m\n",
            "\u001b[0;32m/usr/local/lib/python3.10/dist-packages/torch/nn/modules/module.py\u001b[0m in \u001b[0;36m_wrapped_call_impl\u001b[0;34m(self, *args, **kwargs)\u001b[0m\n\u001b[1;32m   1509\u001b[0m             \u001b[0;32mreturn\u001b[0m \u001b[0mself\u001b[0m\u001b[0;34m.\u001b[0m\u001b[0m_compiled_call_impl\u001b[0m\u001b[0;34m(\u001b[0m\u001b[0;34m*\u001b[0m\u001b[0margs\u001b[0m\u001b[0;34m,\u001b[0m \u001b[0;34m**\u001b[0m\u001b[0mkwargs\u001b[0m\u001b[0;34m)\u001b[0m  \u001b[0;31m# type: ignore[misc]\u001b[0m\u001b[0;34m\u001b[0m\u001b[0;34m\u001b[0m\u001b[0m\n\u001b[1;32m   1510\u001b[0m         \u001b[0;32melse\u001b[0m\u001b[0;34m:\u001b[0m\u001b[0;34m\u001b[0m\u001b[0;34m\u001b[0m\u001b[0m\n\u001b[0;32m-> 1511\u001b[0;31m             \u001b[0;32mreturn\u001b[0m \u001b[0mself\u001b[0m\u001b[0;34m.\u001b[0m\u001b[0m_call_impl\u001b[0m\u001b[0;34m(\u001b[0m\u001b[0;34m*\u001b[0m\u001b[0margs\u001b[0m\u001b[0;34m,\u001b[0m \u001b[0;34m**\u001b[0m\u001b[0mkwargs\u001b[0m\u001b[0;34m)\u001b[0m\u001b[0;34m\u001b[0m\u001b[0;34m\u001b[0m\u001b[0m\n\u001b[0m\u001b[1;32m   1512\u001b[0m \u001b[0;34m\u001b[0m\u001b[0m\n\u001b[1;32m   1513\u001b[0m     \u001b[0;32mdef\u001b[0m \u001b[0m_call_impl\u001b[0m\u001b[0;34m(\u001b[0m\u001b[0mself\u001b[0m\u001b[0;34m,\u001b[0m \u001b[0;34m*\u001b[0m\u001b[0margs\u001b[0m\u001b[0;34m,\u001b[0m \u001b[0;34m**\u001b[0m\u001b[0mkwargs\u001b[0m\u001b[0;34m)\u001b[0m\u001b[0;34m:\u001b[0m\u001b[0;34m\u001b[0m\u001b[0;34m\u001b[0m\u001b[0m\n",
            "\u001b[0;32m/usr/local/lib/python3.10/dist-packages/torch/nn/modules/module.py\u001b[0m in \u001b[0;36m_call_impl\u001b[0;34m(self, *args, **kwargs)\u001b[0m\n\u001b[1;32m   1518\u001b[0m                 \u001b[0;32mor\u001b[0m \u001b[0m_global_backward_pre_hooks\u001b[0m \u001b[0;32mor\u001b[0m \u001b[0m_global_backward_hooks\u001b[0m\u001b[0;34m\u001b[0m\u001b[0;34m\u001b[0m\u001b[0m\n\u001b[1;32m   1519\u001b[0m                 or _global_forward_hooks or _global_forward_pre_hooks):\n\u001b[0;32m-> 1520\u001b[0;31m             \u001b[0;32mreturn\u001b[0m \u001b[0mforward_call\u001b[0m\u001b[0;34m(\u001b[0m\u001b[0;34m*\u001b[0m\u001b[0margs\u001b[0m\u001b[0;34m,\u001b[0m \u001b[0;34m**\u001b[0m\u001b[0mkwargs\u001b[0m\u001b[0;34m)\u001b[0m\u001b[0;34m\u001b[0m\u001b[0;34m\u001b[0m\u001b[0m\n\u001b[0m\u001b[1;32m   1521\u001b[0m \u001b[0;34m\u001b[0m\u001b[0m\n\u001b[1;32m   1522\u001b[0m         \u001b[0;32mtry\u001b[0m\u001b[0;34m:\u001b[0m\u001b[0;34m\u001b[0m\u001b[0;34m\u001b[0m\u001b[0m\n",
            "\u001b[0;32m/usr/local/lib/python3.10/dist-packages/torch_geometric/nn/conv/gcn_conv.py\u001b[0m in \u001b[0;36mforward\u001b[0;34m(self, x, edge_index, edge_weight)\u001b[0m\n\u001b[1;32m    261\u001b[0m \u001b[0;34m\u001b[0m\u001b[0m\n\u001b[1;32m    262\u001b[0m         \u001b[0;31m# propagate_type: (x: Tensor, edge_weight: OptTensor)\u001b[0m\u001b[0;34m\u001b[0m\u001b[0;34m\u001b[0m\u001b[0m\n\u001b[0;32m--> 263\u001b[0;31m         \u001b[0mout\u001b[0m \u001b[0;34m=\u001b[0m \u001b[0mself\u001b[0m\u001b[0;34m.\u001b[0m\u001b[0mpropagate\u001b[0m\u001b[0;34m(\u001b[0m\u001b[0medge_index\u001b[0m\u001b[0;34m,\u001b[0m \u001b[0mx\u001b[0m\u001b[0;34m=\u001b[0m\u001b[0mx\u001b[0m\u001b[0;34m,\u001b[0m \u001b[0medge_weight\u001b[0m\u001b[0;34m=\u001b[0m\u001b[0medge_weight\u001b[0m\u001b[0;34m)\u001b[0m\u001b[0;34m\u001b[0m\u001b[0;34m\u001b[0m\u001b[0m\n\u001b[0m\u001b[1;32m    264\u001b[0m \u001b[0;34m\u001b[0m\u001b[0m\n\u001b[1;32m    265\u001b[0m         \u001b[0;32mif\u001b[0m \u001b[0mself\u001b[0m\u001b[0;34m.\u001b[0m\u001b[0mbias\u001b[0m \u001b[0;32mis\u001b[0m \u001b[0;32mnot\u001b[0m \u001b[0;32mNone\u001b[0m\u001b[0;34m:\u001b[0m\u001b[0;34m\u001b[0m\u001b[0;34m\u001b[0m\u001b[0m\n",
            "\u001b[0;32m/tmp/torch_geometric.nn.conv.gcn_conv_GCNConv_propagate_gbt0vl4x.py\u001b[0m in \u001b[0;36mpropagate\u001b[0;34m(self, edge_index, x, edge_weight, size)\u001b[0m\n\u001b[1;32m    235\u001b[0m         \u001b[0;31m# End Aggregate Forward Pre Hook #######################################\u001b[0m\u001b[0;34m\u001b[0m\u001b[0;34m\u001b[0m\u001b[0m\n\u001b[1;32m    236\u001b[0m \u001b[0;34m\u001b[0m\u001b[0m\n\u001b[0;32m--> 237\u001b[0;31m         out = self.aggregate(\n\u001b[0m\u001b[1;32m    238\u001b[0m             \u001b[0mout\u001b[0m\u001b[0;34m,\u001b[0m\u001b[0;34m\u001b[0m\u001b[0;34m\u001b[0m\u001b[0m\n\u001b[1;32m    239\u001b[0m             \u001b[0mindex\u001b[0m\u001b[0;34m=\u001b[0m\u001b[0mkwargs\u001b[0m\u001b[0;34m.\u001b[0m\u001b[0mindex\u001b[0m\u001b[0;34m,\u001b[0m\u001b[0;34m\u001b[0m\u001b[0;34m\u001b[0m\u001b[0m\n",
            "\u001b[0;32m/usr/local/lib/python3.10/dist-packages/torch_geometric/nn/conv/message_passing.py\u001b[0m in \u001b[0;36maggregate\u001b[0;34m(self, inputs, index, ptr, dim_size)\u001b[0m\n\u001b[1;32m    633\u001b[0m         \u001b[0;32mas\u001b[0m \u001b[0mspecified\u001b[0m \u001b[0;32min\u001b[0m \u001b[0;34m:\u001b[0m\u001b[0mmeth\u001b[0m\u001b[0;34m:\u001b[0m\u001b[0;31m`\u001b[0m\u001b[0m__init__\u001b[0m\u001b[0;31m`\u001b[0m \u001b[0mby\u001b[0m \u001b[0mthe\u001b[0m \u001b[0;34m:\u001b[0m\u001b[0mobj\u001b[0m\u001b[0;34m:\u001b[0m\u001b[0;31m`\u001b[0m\u001b[0maggr\u001b[0m\u001b[0;31m`\u001b[0m \u001b[0margument\u001b[0m\u001b[0;34m.\u001b[0m\u001b[0;34m\u001b[0m\u001b[0;34m\u001b[0m\u001b[0m\n\u001b[1;32m    634\u001b[0m         \"\"\"\n\u001b[0;32m--> 635\u001b[0;31m         return self.aggr_module(inputs, index, ptr=ptr, dim_size=dim_size,\n\u001b[0m\u001b[1;32m    636\u001b[0m                                 dim=self.node_dim)\n\u001b[1;32m    637\u001b[0m \u001b[0;34m\u001b[0m\u001b[0m\n",
            "\u001b[0;32m/usr/local/lib/python3.10/dist-packages/torch_geometric/experimental.py\u001b[0m in \u001b[0;36mwrapper\u001b[0;34m(*args, **kwargs)\u001b[0m\n\u001b[1;32m    115\u001b[0m         \u001b[0;32mdef\u001b[0m \u001b[0mwrapper\u001b[0m\u001b[0;34m(\u001b[0m\u001b[0;34m*\u001b[0m\u001b[0margs\u001b[0m\u001b[0;34m:\u001b[0m \u001b[0mAny\u001b[0m\u001b[0;34m,\u001b[0m \u001b[0;34m**\u001b[0m\u001b[0mkwargs\u001b[0m\u001b[0;34m:\u001b[0m \u001b[0mAny\u001b[0m\u001b[0;34m)\u001b[0m \u001b[0;34m->\u001b[0m \u001b[0mAny\u001b[0m\u001b[0;34m:\u001b[0m\u001b[0;34m\u001b[0m\u001b[0;34m\u001b[0m\u001b[0m\n\u001b[1;32m    116\u001b[0m             \u001b[0;32mif\u001b[0m \u001b[0;32mnot\u001b[0m \u001b[0mis_experimental_mode_enabled\u001b[0m\u001b[0;34m(\u001b[0m\u001b[0;34m'disable_dynamic_shapes'\u001b[0m\u001b[0;34m)\u001b[0m\u001b[0;34m:\u001b[0m\u001b[0;34m\u001b[0m\u001b[0;34m\u001b[0m\u001b[0m\n\u001b[0;32m--> 117\u001b[0;31m                 \u001b[0;32mreturn\u001b[0m \u001b[0mfunc\u001b[0m\u001b[0;34m(\u001b[0m\u001b[0;34m*\u001b[0m\u001b[0margs\u001b[0m\u001b[0;34m,\u001b[0m \u001b[0;34m**\u001b[0m\u001b[0mkwargs\u001b[0m\u001b[0;34m)\u001b[0m\u001b[0;34m\u001b[0m\u001b[0;34m\u001b[0m\u001b[0m\n\u001b[0m\u001b[1;32m    118\u001b[0m \u001b[0;34m\u001b[0m\u001b[0m\n\u001b[1;32m    119\u001b[0m             \u001b[0;32mfor\u001b[0m \u001b[0mrequired_arg\u001b[0m \u001b[0;32min\u001b[0m \u001b[0mrequired_args\u001b[0m\u001b[0;34m:\u001b[0m\u001b[0;34m\u001b[0m\u001b[0;34m\u001b[0m\u001b[0m\n",
            "\u001b[0;32m/usr/local/lib/python3.10/dist-packages/torch_geometric/nn/aggr/base.py\u001b[0m in \u001b[0;36m__call__\u001b[0;34m(self, x, index, ptr, dim_size, dim, **kwargs)\u001b[0m\n\u001b[1;32m    101\u001b[0m         \u001b[0;32mpass\u001b[0m\u001b[0;34m\u001b[0m\u001b[0;34m\u001b[0m\u001b[0m\n\u001b[1;32m    102\u001b[0m \u001b[0;34m\u001b[0m\u001b[0m\n\u001b[0;32m--> 103\u001b[0;31m     \u001b[0;34m@\u001b[0m\u001b[0mdisable_dynamic_shapes\u001b[0m\u001b[0;34m(\u001b[0m\u001b[0mrequired_args\u001b[0m\u001b[0;34m=\u001b[0m\u001b[0;34m[\u001b[0m\u001b[0;34m'dim_size'\u001b[0m\u001b[0;34m]\u001b[0m\u001b[0;34m)\u001b[0m\u001b[0;34m\u001b[0m\u001b[0;34m\u001b[0m\u001b[0m\n\u001b[0m\u001b[1;32m    104\u001b[0m     def __call__(\n\u001b[1;32m    105\u001b[0m         \u001b[0mself\u001b[0m\u001b[0;34m,\u001b[0m\u001b[0;34m\u001b[0m\u001b[0;34m\u001b[0m\u001b[0m\n",
            "\u001b[0;31mKeyboardInterrupt\u001b[0m: "
          ]
        }
      ]
    },
    {
      "cell_type": "markdown",
      "source": [
        "Inspired by Pontoizeau et al. - 2021 - Neural Maximum Independent Set.pdf"
      ],
      "metadata": {
        "id": "BFsapS1CdrO0"
      }
    },
    {
      "cell_type": "code",
      "source": [
        "import torch\n",
        "from torch.nn import Linear\n",
        "import torch.nn.functional as F\n",
        "from torch.nn import Conv1d\n",
        "from torch_geometric.nn import GCNConv, GIN, norm\n",
        "from torch_geometric.nn import global_mean_pool\n",
        "\n",
        "\n",
        "class GCN(torch.nn.Module):\n",
        "    def __init__(self, hidden_channels):\n",
        "        super().__init__()\n",
        "        torch.manual_seed(1234567)\n",
        "        self.conv1 = GCNConv(dataset.num_features, hidden_channels)\n",
        "        self.gin = GIN(hidden_channels, hidden_channels, 1, hidden_channels)\n",
        "        self.conv3 = GCNConv(hidden_channels, hidden_channels)\n",
        "        self.lin = Linear(hidden_channels, dataset.num_classes)\n",
        "\n",
        "    def forward(self, x, edge_index, batch):\n",
        "        residual = x\n",
        "        #print(x)\n",
        "        #print(edge_index)\n",
        "        # 1. Obtain node embeddings\n",
        "        x = self.conv1(x, edge_index)\n",
        "        x = x.relu()\n",
        "        #x = norm.BatchNorm(x)\n",
        "        #print(1)\n",
        "        x = self.gin(x, edge_index)\n",
        "        #x = F.dropout(x, p=0.5, training=self.training)\n",
        "       #print(2)\n",
        "        x = x.relu()\n",
        "        #x = norm.BatchNorm(x)\n",
        "        x = self.conv3(x, edge_index)\n",
        "        x = x.relu()\n",
        "         #2. Readout layer\n",
        "        #x = global_mean_pool(x, batch)  # [batch_size, hidden_channels]\n",
        "\n",
        "        # 3. Apply a final classifier\n",
        "        #x = F.dropout(x, p=0.5, training=self.training)\n",
        "        x = self.lin(x)\n",
        "        return x\n",
        "\n",
        "#model = GCN(hidden_channels=128)\n",
        "#print(model)"
      ],
      "metadata": {
        "id": "jF0gkqoTdqzL"
      },
      "execution_count": null,
      "outputs": []
    },
    {
      "cell_type": "code",
      "source": [
        "from IPython.display import Javascript  # Restrict height of output cell.\n",
        "import numpy as np\n",
        "\n",
        "display(Javascript('''google.colab.output.setIframeHeight(0, true, {maxHeight: 1000})'''))\n",
        "\n",
        "model = GCN(hidden_channels=128)\n",
        "optimizer = torch.optim.Adam(model.parameters(), lr=0.01, weight_decay=5e-4)\n",
        "criterion = torch.nn.CrossEntropyLoss()\n",
        "#criterion = torch.nn.BCELoss()\n",
        "def examine_pred(data, pred):\n",
        "    G = pygUtils.to_networkx(data, to_undirected=True)\n",
        "    nx.draw(G, with_labels=True, node_color=pred, cmap=matplotlib.colormaps[\"bwr\"])\n",
        "    plt.show()\n",
        "    print(f'prediction: {pred}')\n",
        "    print(f'data.y:     {data.y.type(torch.LongTensor)}')\n",
        "\n",
        "\n",
        "def train():\n",
        "      model.train()\n",
        "\n",
        "      for i, data in enumerate(train_loader):\n",
        "        #if i%100 !=0:\n",
        "        #  continue\n",
        "        out = model(data.x, data.edge_index, data.batch)  # Perform a single forward pass.\n",
        "        #print(out)\n",
        "        #print(data.y)\n",
        "        #print(out)\n",
        "        #print(data.x)\n",
        "        #a = np.ones((data.x.size(dim=0),2))\n",
        "        #print(a)\n",
        "        #t = torch.from_numpy(a)\n",
        "        #t = t.type(torch.bool)\n",
        "        #train_mask = torch.tensor([1, 1, 1, 0, 0, 0, 0, 0, 0, 0], dtype=torch.bool)\n",
        "        # TODO: check criterion, maybe use different approach for loss function\n",
        "        #print(out.size())\n",
        "        loss = criterion(out, data.y.type(torch.LongTensor))  # Compute the loss solely based on the training nodes.\n",
        "        loss.backward()  # Derive gradients.\n",
        "        optimizer.step()  # Update parameters based on gradients.\n",
        "        optimizer.zero_grad()  # Clear gradients.\n",
        "\n",
        "def test(loader):\n",
        "      model.eval()\n",
        "      correct = 0\n",
        "      for data in loader:\n",
        "        out = model(data.x, data.edge_index, data.batch)\n",
        "        pred = out.argmax(dim=1)  # Use the class with highest probability.\n",
        "        #a = np.ones(data.x.size(dim=1))\n",
        "        #train_mask = torch.tensor([1, 1, 1, 0, 0, 0, 0, 0, 0, 0], dtype=torch.bool)\n",
        "        test_correct = pred == data.y  # Check against ground-truth labels.\n",
        "        correct += int(torch.equal(pred,data.y.type(torch.LongTensor)))  # Derive ratio of correct predictions.\n",
        "        #if correct == 1 and torch.equal(pred, data.y.type(torch.LongTensor)):\n",
        "          #examine_pred(data, pred)\n",
        "      return correct/len(loader.dataset)*100\n",
        "\n",
        "\n",
        "for epoch in range(1, 101):\n",
        "    loss = train()\n",
        "    train_acc = test(train_loader)\n",
        "    test_acc = test(test_loader)\n",
        "    print(f'Epoch: {epoch:03d}, Train Acc: {train_acc:.4f}, Test Acc: {test_acc:.4f}')"
      ],
      "metadata": {
        "colab": {
          "base_uri": "https://localhost:8080/",
          "height": 211
        },
        "id": "FFdTLxCmitgF",
        "outputId": "c88448dd-1934-4f16-ae67-37507b831808"
      },
      "execution_count": null,
      "outputs": [
        {
          "output_type": "display_data",
          "data": {
            "text/plain": [
              "<IPython.core.display.Javascript object>"
            ],
            "application/javascript": [
              "google.colab.output.setIframeHeight(0, true, {maxHeight: 1000})"
            ]
          },
          "metadata": {}
        },
        {
          "output_type": "error",
          "ename": "NameError",
          "evalue": "name 'GCN' is not defined",
          "traceback": [
            "\u001b[0;31m---------------------------------------------------------------------------\u001b[0m",
            "\u001b[0;31mNameError\u001b[0m                                 Traceback (most recent call last)",
            "\u001b[0;32m<ipython-input-8-0137ee48ba18>\u001b[0m in \u001b[0;36m<cell line: 6>\u001b[0;34m()\u001b[0m\n\u001b[1;32m      4\u001b[0m \u001b[0mdisplay\u001b[0m\u001b[0;34m(\u001b[0m\u001b[0mJavascript\u001b[0m\u001b[0;34m(\u001b[0m\u001b[0;34m'''google.colab.output.setIframeHeight(0, true, {maxHeight: 1000})'''\u001b[0m\u001b[0;34m)\u001b[0m\u001b[0;34m)\u001b[0m\u001b[0;34m\u001b[0m\u001b[0;34m\u001b[0m\u001b[0m\n\u001b[1;32m      5\u001b[0m \u001b[0;34m\u001b[0m\u001b[0m\n\u001b[0;32m----> 6\u001b[0;31m \u001b[0mmodel\u001b[0m \u001b[0;34m=\u001b[0m \u001b[0mGCN\u001b[0m\u001b[0;34m(\u001b[0m\u001b[0mhidden_channels\u001b[0m\u001b[0;34m=\u001b[0m\u001b[0;36m128\u001b[0m\u001b[0;34m)\u001b[0m\u001b[0;34m\u001b[0m\u001b[0;34m\u001b[0m\u001b[0m\n\u001b[0m\u001b[1;32m      7\u001b[0m \u001b[0moptimizer\u001b[0m \u001b[0;34m=\u001b[0m \u001b[0mtorch\u001b[0m\u001b[0;34m.\u001b[0m\u001b[0moptim\u001b[0m\u001b[0;34m.\u001b[0m\u001b[0mAdam\u001b[0m\u001b[0;34m(\u001b[0m\u001b[0mmodel\u001b[0m\u001b[0;34m.\u001b[0m\u001b[0mparameters\u001b[0m\u001b[0;34m(\u001b[0m\u001b[0;34m)\u001b[0m\u001b[0;34m,\u001b[0m \u001b[0mlr\u001b[0m\u001b[0;34m=\u001b[0m\u001b[0;36m0.01\u001b[0m\u001b[0;34m,\u001b[0m \u001b[0mweight_decay\u001b[0m\u001b[0;34m=\u001b[0m\u001b[0;36m5e-4\u001b[0m\u001b[0;34m)\u001b[0m\u001b[0;34m\u001b[0m\u001b[0;34m\u001b[0m\u001b[0m\n\u001b[1;32m      8\u001b[0m \u001b[0mcriterion\u001b[0m \u001b[0;34m=\u001b[0m \u001b[0mtorch\u001b[0m\u001b[0;34m.\u001b[0m\u001b[0mnn\u001b[0m\u001b[0;34m.\u001b[0m\u001b[0mCrossEntropyLoss\u001b[0m\u001b[0;34m(\u001b[0m\u001b[0;34m)\u001b[0m\u001b[0;34m\u001b[0m\u001b[0;34m\u001b[0m\u001b[0m\n",
            "\u001b[0;31mNameError\u001b[0m: name 'GCN' is not defined"
          ]
        }
      ]
    },
    {
      "cell_type": "code",
      "source": [],
      "metadata": {
        "id": "fmmmsXR_MG2A"
      },
      "execution_count": null,
      "outputs": []
    },
    {
      "cell_type": "markdown",
      "source": [
        "Based on https://github.com/pyg-team/pytorch_geometric/blob/master/examples/ppi.py"
      ],
      "metadata": {
        "id": "uTXxGp1BFroq"
      }
    },
    {
      "cell_type": "code",
      "source": [
        "import os.path as osp\n",
        "import time\n",
        "\n",
        "import torch\n",
        "import torch.nn.functional as F\n",
        "from sklearn.metrics import f1_score\n",
        "\n",
        "from torch_geometric.datasets import PPI\n",
        "from torch_geometric.loader import DataLoader\n",
        "from torch_geometric.nn import GATConv\n",
        "\n",
        "#path = osp.join(osp.dirname(osp.realpath(__file__)), '..', 'data', 'PPI')\n",
        "train_dataset = dataset[:2000]\n",
        "test_dataset = dataset[2000:]\n",
        "#val_dataset = PPI(path, split='val')\n",
        "\n",
        "train_loader = DataLoader(train_dataset, batch_size=128, shuffle=True)\n",
        "#val_loader = DataLoader(val_dataset, batch_size=2, shuffle=False)\n",
        "test_loader = DataLoader(test_dataset, batch_size=128, shuffle=False)\n",
        "\n",
        "\n",
        "class Net(torch.nn.Module):\n",
        "    def __init__(self):\n",
        "        super().__init__()\n",
        "        self.conv1 = GATConv(train_dataset.num_features, 256, heads=4)\n",
        "        self.lin1 = torch.nn.Linear(train_dataset.num_features, 4 * 256)\n",
        "        self.conv2 = GATConv(4 * 256, 256, heads=4)\n",
        "        self.lin2 = torch.nn.Linear(4 * 256, 4 * 256)\n",
        "        self.conv3 = GATConv(4 * 256, train_dataset.num_classes, heads=6,\n",
        "                             concat=False)\n",
        "        self.lin3 = torch.nn.Linear(4 * 256, train_dataset.num_classes)\n",
        "\n",
        "    def forward(self, x, edge_index):\n",
        "        x = F.elu(self.conv1(x, edge_index) + self.lin1(x))\n",
        "        x = F.elu(self.conv2(x, edge_index) + self.lin2(x))\n",
        "        x = self.conv3(x, edge_index) + self.lin3(x)\n",
        "        return x"
      ],
      "metadata": {
        "id": "89T_GC6sMIkq"
      },
      "execution_count": 18,
      "outputs": []
    },
    {
      "cell_type": "code",
      "source": [
        "import numpy as np\n",
        "\n",
        "# Play an audio beep. Any audio URL will do.\n",
        "from google.colab import output\n",
        "output.eval_js('new Audio(\"https://upload.wikimedia.org/wikipedia/commons/0/05/Beep-09.ogg\").play()')\n",
        "\n",
        "device = torch.device('cuda' if torch.cuda.is_available() else 'cpu')\n",
        "model = Net().to(device)\n",
        "#loss_op = torch.nn.BCEWithLogitsLoss() # error\n",
        "optimizer = torch.optim.Adam(model.parameters(), lr=0.005)\n",
        "loss_op= torch.nn.CrossEntropyLoss()\n",
        "\n",
        "def train():\n",
        "    model.train()\n",
        "\n",
        "    total_loss = 0\n",
        "    for i, data in enumerate(train_loader):\n",
        "        data = data.to(device)\n",
        "        optimizer.zero_grad()\n",
        "        pred = model(data.x, data.edge_index)\n",
        "        #print(pred)\n",
        "        #print(data.y.type(torch.LongTensor))\n",
        "        real = data.y.type(torch.LongTensor)\n",
        "        #print(real)\n",
        "        loss = loss_op(pred, real)\n",
        "        total_loss += loss.item() * data.num_graphs\n",
        "        loss.backward()\n",
        "        optimizer.step()\n",
        "    return total_loss / len(train_loader.dataset)\n",
        "\n",
        "\n",
        "@torch.no_grad()\n",
        "def test(loader):\n",
        "    model.eval()\n",
        "    #return 0\n",
        "    correct = 0\n",
        "    ys, preds = [], []\n",
        "    for i, data in enumerate(loader):\n",
        "        #print(data)\n",
        "        for idx in range(data.num_graphs):\n",
        "          #ys.append(data.y)\n",
        "          out = model(data.get_example(idx).x.to(device), data.get_example(idx).edge_index.to(device))\n",
        "          pred = out.argmax(dim=1)\n",
        "          #preds.append((out > 0).float().cpu())\n",
        "          correct += int(torch.equal(pred,data.get_example(idx).y.type(torch.LongTensor)))  # Derive ratio of correct predictions.\n",
        "\n",
        "    return correct/len(loader.dataset)*100\n",
        "\n",
        "    y, pred = torch.cat(ys, dim=0).numpy(), torch.cat(preds, dim=0).numpy()\n",
        "    print(y)\n",
        "    print(np.transpose(pred)[0])\n",
        "    return f1_score(y, np.transpose(pred)[0], average='micro') if pred.sum() > 0 else 0\n",
        "\n",
        "\n",
        "times = []\n",
        "losses = []\n",
        "trains = []\n",
        "tests = []\n",
        "for epoch in range(1, 101):\n",
        "    start = time.time()\n",
        "    loss = train()\n",
        "    losses.append(loss)\n",
        "    #val_f1 = test(val_loader)\n",
        "    train_f1 = test(train_loader)\n",
        "    trains.append(train_f1)\n",
        "    test_f1 = test(test_loader)\n",
        "    tests.append(test_f1)\n",
        "    print(f'Epoch: {epoch:03d}, Loss: {loss:.4f}, Train: {train_f1:.4f}% '\n",
        "          f'Test: {test_f1:.4f}%, Time: {(time.time() - start)/60:.2f} min')\n",
        "    times.append(time.time() - start)\n",
        "    output.eval_js('new Audio(\"https://upload.wikimedia.org/wikipedia/commons/0/05/Beep-09.ogg\").play()')\n",
        "print(f\"Median time per epoch: {torch.tensor(times).median():.4f}s\")"
      ],
      "metadata": {
        "colab": {
          "base_uri": "https://localhost:8080/",
          "height": 1000
        },
        "id": "v7x0Abd7I9VJ",
        "outputId": "6c8be8ea-c191-43d2-ebe2-1c28b2538840"
      },
      "execution_count": 19,
      "outputs": [
        {
          "output_type": "stream",
          "name": "stdout",
          "text": [
            "Epoch: 001, Loss: 11.3267, Train: 40.2000% Test: 37.4893%, Time: 0.48 min\n",
            "Epoch: 002, Loss: 0.6049, Train: 63.8500% Test: 60.4611%, Time: 0.43 min\n",
            "Epoch: 003, Loss: 0.2416, Train: 69.4000% Test: 66.3535%, Time: 0.45 min\n",
            "Epoch: 004, Loss: 0.1903, Train: 67.4500% Test: 64.9018%, Time: 0.49 min\n",
            "Epoch: 005, Loss: 0.1704, Train: 72.3500% Test: 70.0256%, Time: 0.48 min\n",
            "Epoch: 006, Loss: 0.1603, Train: 72.3500% Test: 70.1964%, Time: 0.47 min\n",
            "Epoch: 007, Loss: 0.1521, Train: 74.1500% Test: 71.9898%, Time: 0.48 min\n",
            "Epoch: 008, Loss: 0.1433, Train: 74.8500% Test: 74.2101%, Time: 0.47 min\n",
            "Epoch: 009, Loss: 0.1309, Train: 74.6000% Test: 73.2707%, Time: 0.47 min\n",
            "Epoch: 010, Loss: 0.1264, Train: 76.3500% Test: 75.1494%, Time: 0.49 min\n",
            "Epoch: 011, Loss: 0.1172, Train: 79.5000% Test: 76.9428%, Time: 0.51 min\n",
            "Epoch: 012, Loss: 0.1136, Train: 75.6500% Test: 75.4056%, Time: 0.48 min\n",
            "Epoch: 013, Loss: 0.1068, Train: 82.0500% Test: 80.7003%, Time: 0.49 min\n",
            "Epoch: 014, Loss: 0.0997, Train: 83.2500% Test: 80.7003%, Time: 0.49 min\n",
            "Epoch: 015, Loss: 0.0954, Train: 83.6500% Test: 81.2126%, Time: 0.49 min\n",
            "Epoch: 016, Loss: 0.0904, Train: 82.7500% Test: 80.3587%, Time: 0.49 min\n",
            "Epoch: 017, Loss: 0.0873, Train: 83.4000% Test: 81.4688%, Time: 0.52 min\n",
            "Epoch: 018, Loss: 0.0897, Train: 86.5500% Test: 83.6038%, Time: 0.48 min\n",
            "Epoch: 019, Loss: 0.0913, Train: 64.9000% Test: 63.4500%, Time: 0.48 min\n",
            "Epoch: 020, Loss: 0.1214, Train: 81.9000% Test: 78.8215%, Time: 0.47 min\n",
            "Epoch: 021, Loss: 0.0832, Train: 83.1500% Test: 82.3228%, Time: 0.47 min\n",
            "Epoch: 022, Loss: 0.0764, Train: 86.2000% Test: 82.3228%, Time: 0.47 min\n",
            "Epoch: 023, Loss: 0.0746, Train: 84.8500% Test: 82.9206%, Time: 0.47 min\n",
            "Epoch: 024, Loss: 0.0729, Train: 87.8000% Test: 84.9701%, Time: 0.48 min\n",
            "Epoch: 025, Loss: 0.0707, Train: 84.2000% Test: 83.6038%, Time: 0.46 min\n",
            "Epoch: 026, Loss: 0.0697, Train: 85.3000% Test: 84.6285%, Time: 0.46 min\n",
            "Epoch: 027, Loss: 0.0663, Train: 86.5500% Test: 84.9701%, Time: 0.47 min\n",
            "Epoch: 028, Loss: 0.0646, Train: 87.7500% Test: 84.7993%, Time: 0.46 min\n",
            "Epoch: 029, Loss: 0.0693, Train: 88.4000% Test: 86.0803%, Time: 0.47 min\n",
            "Epoch: 030, Loss: 0.0689, Train: 82.3000% Test: 80.9564%, Time: 0.47 min\n",
            "Epoch: 031, Loss: 0.0669, Train: 87.6500% Test: 85.8241%, Time: 0.49 min\n",
            "Epoch: 032, Loss: 0.0592, Train: 88.6000% Test: 85.8241%, Time: 0.48 min\n",
            "Epoch: 033, Loss: 0.0575, Train: 90.1000% Test: 86.6781%, Time: 0.48 min\n",
            "Epoch: 034, Loss: 0.0562, Train: 87.5000% Test: 85.2263%, Time: 0.48 min\n",
            "Epoch: 035, Loss: 0.0561, Train: 88.6000% Test: 85.3971%, Time: 0.48 min\n",
            "Epoch: 036, Loss: 0.0574, Train: 89.5000% Test: 86.9342%, Time: 0.48 min\n",
            "Epoch: 037, Loss: 0.0528, Train: 88.1000% Test: 86.7635%, Time: 0.51 min\n",
            "Epoch: 038, Loss: 0.0484, Train: 89.7500% Test: 87.5320%, Time: 0.48 min\n",
            "Epoch: 039, Loss: 0.0482, Train: 90.7500% Test: 88.5568%, Time: 0.49 min\n",
            "Epoch: 040, Loss: 0.0485, Train: 92.0500% Test: 88.8984%, Time: 0.50 min\n",
            "Epoch: 041, Loss: 0.0522, Train: 85.9500% Test: 83.6038%, Time: 0.49 min\n",
            "Epoch: 042, Loss: 0.0533, Train: 91.5500% Test: 88.3006%, Time: 0.48 min\n",
            "Epoch: 043, Loss: 0.0460, Train: 87.2500% Test: 84.5431%, Time: 0.47 min\n",
            "Epoch: 044, Loss: 0.0543, Train: 87.4000% Test: 85.2263%, Time: 0.49 min\n",
            "Epoch: 045, Loss: 0.0448, Train: 91.4500% Test: 88.4714%, Time: 0.47 min\n",
            "Epoch: 046, Loss: 0.0462, Train: 91.4500% Test: 88.8984%, Time: 0.48 min\n",
            "Epoch: 047, Loss: 0.0447, Train: 93.4000% Test: 89.4108%, Time: 0.47 min\n",
            "Epoch: 048, Loss: 0.0434, Train: 90.6000% Test: 87.1904%, Time: 0.48 min\n",
            "Epoch: 049, Loss: 0.0441, Train: 88.1500% Test: 85.7387%, Time: 0.49 min\n",
            "Epoch: 050, Loss: 0.0543, Train: 89.5500% Test: 87.1904%, Time: 0.51 min\n",
            "Epoch: 051, Loss: 0.0456, Train: 92.4000% Test: 89.6670%, Time: 0.51 min\n",
            "Epoch: 052, Loss: 0.0591, Train: 79.3500% Test: 76.2596%, Time: 0.49 min\n",
            "Epoch: 053, Loss: 0.0573, Train: 91.6000% Test: 88.3860%, Time: 0.50 min\n",
            "Epoch: 054, Loss: 0.0415, Train: 92.9500% Test: 89.3254%, Time: 0.50 min\n",
            "Epoch: 055, Loss: 0.0363, Train: 92.9000% Test: 90.0085%, Time: 0.52 min\n",
            "Epoch: 056, Loss: 0.0379, Train: 92.0500% Test: 87.6174%, Time: 0.51 min\n",
            "Epoch: 057, Loss: 0.0425, Train: 92.9000% Test: 89.3254%, Time: 0.53 min\n",
            "Epoch: 058, Loss: 0.0412, Train: 93.2500% Test: 90.3501%, Time: 0.50 min\n",
            "Epoch: 059, Loss: 0.0356, Train: 90.0500% Test: 87.7028%, Time: 0.52 min\n",
            "Epoch: 060, Loss: 0.0352, Train: 93.5000% Test: 90.2647%, Time: 0.50 min\n",
            "Epoch: 061, Loss: 0.0457, Train: 86.4500% Test: 82.6644%, Time: 0.51 min\n",
            "Epoch: 062, Loss: 0.0906, Train: 80.0000% Test: 80.0171%, Time: 0.50 min\n",
            "Epoch: 063, Loss: 0.0672, Train: 88.3000% Test: 85.3971%, Time: 0.58 min\n",
            "Epoch: 064, Loss: 0.0543, Train: 89.4000% Test: 86.0803%, Time: 0.56 min\n",
            "Epoch: 065, Loss: 0.0419, Train: 92.9000% Test: 89.8377%, Time: 0.57 min\n",
            "Epoch: 066, Loss: 0.0369, Train: 93.3000% Test: 89.9231%, Time: 0.57 min\n",
            "Epoch: 067, Loss: 0.0371, Train: 92.4000% Test: 89.6670%, Time: 0.58 min\n",
            "Epoch: 068, Loss: 0.0366, Train: 91.3500% Test: 88.8130%, Time: 0.57 min\n",
            "Epoch: 069, Loss: 0.0391, Train: 89.4000% Test: 87.0196%, Time: 0.57 min\n",
            "Epoch: 070, Loss: 0.0351, Train: 93.5500% Test: 90.0939%, Time: 0.56 min\n",
            "Epoch: 071, Loss: 0.0296, Train: 93.8500% Test: 90.5209%, Time: 0.57 min\n",
            "Epoch: 072, Loss: 0.0295, Train: 93.8500% Test: 90.9479%, Time: 0.55 min\n",
            "Epoch: 073, Loss: 0.0313, Train: 93.9500% Test: 90.8625%, Time: 0.57 min\n",
            "Epoch: 074, Loss: 0.0293, Train: 94.3500% Test: 90.9479%, Time: 0.57 min\n",
            "Epoch: 075, Loss: 0.0312, Train: 93.9000% Test: 90.6063%, Time: 0.57 min\n",
            "Epoch: 076, Loss: 0.0310, Train: 93.4000% Test: 90.1793%, Time: 0.56 min\n",
            "Epoch: 077, Loss: 0.0370, Train: 95.0500% Test: 90.5209%, Time: 0.57 min\n",
            "Epoch: 078, Loss: 0.0299, Train: 94.7500% Test: 90.0939%, Time: 0.55 min\n",
            "Epoch: 079, Loss: 0.0295, Train: 94.8500% Test: 90.6063%, Time: 0.56 min\n",
            "Epoch: 080, Loss: 0.0263, Train: 95.3500% Test: 91.5457%, Time: 0.57 min\n",
            "Epoch: 081, Loss: 0.0260, Train: 94.1000% Test: 90.6917%, Time: 0.62 min\n",
            "Epoch: 082, Loss: 0.0255, Train: 93.6500% Test: 90.2647%, Time: 0.55 min\n",
            "Epoch: 083, Loss: 0.0319, Train: 91.7500% Test: 88.8130%, Time: 0.56 min\n",
            "Epoch: 084, Loss: 0.0404, Train: 93.2500% Test: 88.8984%, Time: 0.55 min\n",
            "Epoch: 085, Loss: 0.0364, Train: 92.6500% Test: 89.6670%, Time: 0.59 min\n",
            "Epoch: 086, Loss: 0.0352, Train: 94.5500% Test: 90.4355%, Time: 0.54 min\n",
            "Epoch: 087, Loss: 0.0348, Train: 95.9000% Test: 91.8019%, Time: 0.56 min\n",
            "Epoch: 088, Loss: 0.0292, Train: 95.0500% Test: 91.2041%, Time: 0.54 min\n",
            "Epoch: 089, Loss: 0.0326, Train: 91.1000% Test: 87.1050%, Time: 0.55 min\n",
            "Epoch: 090, Loss: 0.0354, Train: 89.6500% Test: 84.8847%, Time: 0.55 min\n",
            "Epoch: 091, Loss: 0.0423, Train: 93.3000% Test: 90.3501%, Time: 0.56 min\n",
            "Epoch: 092, Loss: 0.0302, Train: 93.7000% Test: 89.9231%, Time: 0.55 min\n",
            "Epoch: 093, Loss: 0.0261, Train: 91.4000% Test: 89.2400%, Time: 0.54 min\n",
            "Epoch: 094, Loss: 0.0349, Train: 88.7500% Test: 84.7139%, Time: 0.54 min\n",
            "Epoch: 095, Loss: 0.0354, Train: 94.9000% Test: 90.7771%, Time: 0.55 min\n",
            "Epoch: 096, Loss: 0.0235, Train: 95.4000% Test: 91.4603%, Time: 0.54 min\n",
            "Epoch: 097, Loss: 0.0203, Train: 96.2000% Test: 91.7165%, Time: 0.54 min\n",
            "Epoch: 098, Loss: 0.0190, Train: 97.2000% Test: 91.9727%, Time: 0.54 min\n",
            "Epoch: 099, Loss: 0.0190, Train: 96.5000% Test: 92.1435%, Time: 0.53 min\n",
            "Epoch: 100, Loss: 0.0173, Train: 95.5500% Test: 90.7771%, Time: 0.55 min\n",
            "Median time per epoch: 30.1401s\n"
          ]
        }
      ]
    },
    {
      "cell_type": "code",
      "source": [
        "import matplotlib.pyplot as pp\n",
        "pp.plot(losses)\n",
        "pp.show()"
      ],
      "metadata": {
        "colab": {
          "base_uri": "https://localhost:8080/",
          "height": 430
        },
        "id": "TcF7YtRXCGd_",
        "outputId": "9d7f4eb7-baef-4ba1-c016-a82840d21f24"
      },
      "execution_count": 20,
      "outputs": [
        {
          "output_type": "display_data",
          "data": {
            "text/plain": [
              "<Figure size 640x480 with 1 Axes>"
            ],
            "image/png": "[encoded data removed]"
          },
          "metadata": {}
        }
      ]
    },
    {
      "cell_type": "code",
      "source": [
        "pp.plot(trains)\n",
        "pp.show()"
      ],
      "metadata": {
        "colab": {
          "base_uri": "https://localhost:8080/",
          "height": 435
        },
        "id": "hR3tPs-XDECa",
        "outputId": "52d4a29c-656e-40b5-a395-9c593242ce72"
      },
      "execution_count": 21,
      "outputs": [
        {
          "output_type": "display_data",
          "data": {
            "text/plain": [
              "<Figure size 640x480 with 1 Axes>"
            ],
            "image/png": "[encoded data removed]"
          },
          "metadata": {}
        }
      ]
    },
    {
      "cell_type": "code",
      "source": [
        "pp.plot(tests)\n",
        "pp.show()"
      ],
      "metadata": {
        "colab": {
          "base_uri": "https://localhost:8080/",
          "height": 430
        },
        "id": "OLc7TxCZDIn9",
        "outputId": "e91b135a-6c7d-45b1-e0ef-d6c1460a7920"
      },
      "execution_count": 22,
      "outputs": [
        {
          "output_type": "display_data",
          "data": {
            "text/plain": [
              "<Figure size 640x480 with 1 Axes>"
            ],
            "image/png": "[encoded data removed]"
          },
          "metadata": {}
        }
      ]
    }
  ]
}